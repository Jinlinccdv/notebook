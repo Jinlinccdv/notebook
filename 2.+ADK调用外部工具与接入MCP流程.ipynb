{
 "cells": [
  {
   "cell_type": "markdown",
   "id": "8c3b0faa-7207-4bbc-a28e-0639b0153535",
   "metadata": {},
   "source": [
    "## <font face=\"仿宋\">课程说明："
   ]
  },
  {
   "cell_type": "markdown",
   "id": "5029f524-bb02-4515-9ecf-6f5901757d37",
   "metadata": {},
   "source": [
    "- 体验课内容节选自[《2025大模型Agent智能体开发实战》(5月班)](https://ix9mq.xetslk.com/s/3u765N)完整版付费课程"
   ]
  },
  {
   "cell_type": "markdown",
   "id": "bcdb066a-b210-4a2b-8852-19a57488a0d5",
   "metadata": {},
   "source": [
    "&emsp;&emsp;体验课时间有限，若想深度学习大模型技术，欢迎大家报名由我主讲的[《2025大模型Agent智能体开发实战》(5月班)](https://ix9mq.xetslk.com/s/3u765N)"
   ]
  },
  {
   "cell_type": "markdown",
   "id": "abcfcd48-cdb5-4108-972c-dd681cebb350",
   "metadata": {},
   "source": [
    "<center><img src=\"https://ml2022.oss-cn-hangzhou.aliyuncs.com/img/b9ccfe4155bb650c83c4a061f3da131.jpg\" alt=\"d0c81dfe43a1becced8c07db33c3a787_\" style=\"zoom:15%;\" />"
   ]
  },
  {
   "cell_type": "markdown",
   "id": "5d52c275-aab7-477c-9153-f321e42abdc5",
   "metadata": {},
   "source": [
    "**[《2025大模型Agent智能体开发实战》(5月班)](https://ix9mq.xetslk.com/s/3u765N)为【100+小时】体系大课，总共20大模块精讲精析，零基础直达大模型企业级应用！**"
   ]
  },
  {
   "cell_type": "markdown",
   "id": "dc7e041e-2eca-4c61-8ff2-62a68911085d",
   "metadata": {},
   "source": [
    "<center><img src=\"https://wechatapppro-1252524126.cdn.xiaoeknow.com/appZe9inzwc2314/image/b_u_5ea8e780054d6_Fop5bmXf/6aueuzm7qbtmje.png?imageView2/2/q/80|imageMogr2/ignore-error/1\" alt=\"img\" style=\"zoom: 33%;\" />"
   ]
  },
  {
   "cell_type": "markdown",
   "id": "cc5b732b-2dd8-4746-8171-85ca119fe091",
   "metadata": {},
   "source": [
    "同时，5月班重磅新增DeepSeek+Agents SDK+谷歌ADK+MCP技术应用与智能体开发相关实战内容，并计划新增Qwen-3模型实战教学："
   ]
  },
  {
   "cell_type": "markdown",
   "id": "a09340a9-d5b6-416d-a6ee-32e204bc61e3",
   "metadata": {},
   "source": [
    "<center><img src=\"https://ml2022.oss-cn-hangzhou.aliyuncs.com/img/34533e2c95414b3dc5ab1131d9d1e38.jpg\" alt=\"34533e2c95414b3dc5ab1131d9d1e38\" style=\"zoom:33%;\" />"
   ]
  },
  {
   "cell_type": "markdown",
   "id": "1dd1d028-9bb7-4848-8258-e7bdf10164ad",
   "metadata": {},
   "source": [
    "部分项目成果演示"
   ]
  },
  {
   "cell_type": "code",
   "execution_count": 62,
   "id": "3e30128c-ed03-44cc-bbcd-cd80c36ae429",
   "metadata": {},
   "outputs": [],
   "source": [
    "from IPython.display import Video"
   ]
  },
  {
   "cell_type": "markdown",
   "id": "81be2be9-6207-4ce4-87eb-9f4986c35235",
   "metadata": {},
   "source": [
    "- **MateGen项目演示**"
   ]
  },
  {
   "cell_type": "code",
   "execution_count": 3,
   "id": "8bff0a2c-565b-4177-834b-954855254531",
   "metadata": {},
   "outputs": [
    {
     "data": {
      "text/html": [
       "<video src=\"https://ml2022.oss-cn-hangzhou.aliyuncs.com/4.MateGen%20Pro%20%E9%A1%B9%E7%9B%AE%E5%8A%9F%E8%83%BD%E6%BC%94%E7%A4%BA.mp4\" controls  width=\"800\"  height=\"400\">\n",
       "      Your browser does not support the <code>video</code> element.\n",
       "    </video>"
      ],
      "text/plain": [
       "<IPython.core.display.Video object>"
      ]
     },
     "execution_count": 3,
     "metadata": {},
     "output_type": "execute_result"
    }
   ],
   "source": [
    "Video(\"https://ml2022.oss-cn-hangzhou.aliyuncs.com/4.MateGen%20Pro%20%E9%A1%B9%E7%9B%AE%E5%8A%9F%E8%83%BD%E6%BC%94%E7%A4%BA.mp4\", width=800, height=400)"
   ]
  },
  {
   "cell_type": "markdown",
   "id": "17aeb9e2-7efb-479b-802e-5f00756bce49",
   "metadata": {},
   "source": [
    "- **智能客服项目演示**"
   ]
  },
  {
   "cell_type": "code",
   "execution_count": 4,
   "id": "49b8c740-891f-40ca-8a4d-f473ef09916c",
   "metadata": {},
   "outputs": [
    {
     "data": {
      "text/html": [
       "<video src=\"https://ml2022.oss-cn-hangzhou.aliyuncs.com/%E6%99%BA%E8%83%BD%E5%AE%A2%E6%9C%8D%E6%A1%88%E4%BE%8B%E6%BC%94%E7%A4%BA.mp4\" controls  width=\"800\"  height=\"400\">\n",
       "      Your browser does not support the <code>video</code> element.\n",
       "    </video>"
      ],
      "text/plain": [
       "<IPython.core.display.Video object>"
      ]
     },
     "execution_count": 4,
     "metadata": {},
     "output_type": "execute_result"
    }
   ],
   "source": [
    "Video(\"https://ml2022.oss-cn-hangzhou.aliyuncs.com/%E6%99%BA%E8%83%BD%E5%AE%A2%E6%9C%8D%E6%A1%88%E4%BE%8B%E6%BC%94%E7%A4%BA.mp4\", width=800, height=400)"
   ]
  },
  {
   "cell_type": "markdown",
   "id": "a7afaa7a-48a1-4445-b45a-b79cd9153bd3",
   "metadata": {},
   "source": [
    "- **Dify项目演示**"
   ]
  },
  {
   "cell_type": "code",
   "execution_count": 6,
   "id": "18923a54-8da0-4afb-8a16-eb15ab5d83d1",
   "metadata": {},
   "outputs": [
    {
     "data": {
      "text/html": [
       "<video src=\"https://ml2022.oss-cn-hangzhou.aliyuncs.com/2f1b47f42c65fd59e8d3a83e6cb9f13b_raw.mp4\" controls  width=\"800\"  height=\"400\">\n",
       "      Your browser does not support the <code>video</code> element.\n",
       "    </video>"
      ],
      "text/plain": [
       "<IPython.core.display.Video object>"
      ]
     },
     "execution_count": 6,
     "metadata": {},
     "output_type": "execute_result"
    }
   ],
   "source": [
    "Video(\"https://ml2022.oss-cn-hangzhou.aliyuncs.com/2f1b47f42c65fd59e8d3a83e6cb9f13b_raw.mp4\", width=800, height=400)"
   ]
  },
  {
   "cell_type": "markdown",
   "id": "5e541ad9-12c2-4ed2-927d-96755e947d94",
   "metadata": {},
   "source": [
    "- **LangChain&LangGraph搭建Multi-Agnet**"
   ]
  },
  {
   "cell_type": "code",
   "execution_count": 63,
   "id": "d8cb43a2-6db7-4ca0-9c35-55b65d242190",
   "metadata": {},
   "outputs": [
    {
     "data": {
      "text/html": [
       "<video src=\"https://ml2022.oss-cn-hangzhou.aliyuncs.com/%E5%8F%AF%E8%A7%86%E5%8C%96%E6%95%B0%E6%8D%AE%E5%88%86%E6%9E%90Multi-Agent%E6%95%88%E6%9E%9C%E6%BC%94%E7%A4%BA%E6%95%88%E6%9E%9C.mp4\" controls  width=\"800\"  height=\"400\">\n",
       "      Your browser does not support the <code>video</code> element.\n",
       "    </video>"
      ],
      "text/plain": [
       "<IPython.core.display.Video object>"
      ]
     },
     "execution_count": 63,
     "metadata": {},
     "output_type": "execute_result"
    }
   ],
   "source": [
    "Video(\"https://ml2022.oss-cn-hangzhou.aliyuncs.com/%E5%8F%AF%E8%A7%86%E5%8C%96%E6%95%B0%E6%8D%AE%E5%88%86%E6%9E%90Multi-Agent%E6%95%88%E6%9E%9C%E6%BC%94%E7%A4%BA%E6%95%88%E6%9E%9C.mp4\", width=800, height=400)"
   ]
  },
  {
   "cell_type": "markdown",
   "id": "04c4bedf-7573-439c-a522-755b7e142b49",
   "metadata": {},
   "source": [
    "此外，若是对大模型底层原理感兴趣，也欢迎报名由我和菜菜老师共同主讲的[《2025大模型原理与实战课程》(5月班)](https://ix9mq.xetslk.com/s/49L2eN)"
   ]
  },
  {
   "cell_type": "markdown",
   "id": "fa28991a-f946-40e0-afea-8ec7f8f21c03",
   "metadata": {},
   "source": [
    "<center><img src=\"https://ml2022.oss-cn-hangzhou.aliyuncs.com/img/da5d51c998df07d747cd223c1ed25f7.jpg\" alt=\"da5d51c998df07d747cd223c1ed25f7\" style=\"zoom:20%;\" />"
   ]
  },
  {
   "cell_type": "markdown",
   "id": "6c220dd6-b8d7-4eb0-8fbd-2b39311313a9",
   "metadata": {},
   "source": [
    "**两门大模型课程5月班目前上新特惠中，立减2000起，合购还有更多优惠哦~<span style=\"color:red;\">详细信息扫码添加助教，回复“大模型”，即可领取课程大纲&查看课程详情👇</span>**"
   ]
  },
  {
   "cell_type": "markdown",
   "id": "1f30302c-4271-49b0-a6df-38dbd7f17d4e",
   "metadata": {},
   "source": [
    "<center><img src=\"https://ml2022.oss-cn-hangzhou.aliyuncs.com/img/01dad5b6f552883b19da9b5863c9970.png\" alt=\"01dad5b6f552883b19da9b5863c9970\" style=\"zoom:50%;\" />"
   ]
  },
  {
   "cell_type": "markdown",
   "id": "2a92d925-95a2-4bc5-9073-ab7b6ef4c3e0",
   "metadata": {},
   "source": [
    "---"
   ]
  },
  {
   "cell_type": "markdown",
   "id": "8750c5b3-6a30-4141-baf1-64e6690cdc0e",
   "metadata": {},
   "source": [
    "## <center> 《2025大模型Agent智能体开发实战》体验课\n",
    "## <center> 谷歌开源Agent框架ADK调用外部工具与接入MCP流程"
   ]
  },
  {
   "cell_type": "code",
   "execution_count": 10,
   "id": "a575495c-7501-40b7-aad0-678f725b1d2e",
   "metadata": {},
   "outputs": [],
   "source": [
    "import os\n",
    "from dotenv import load_dotenv\n",
    "load_dotenv(override=True)\n",
    "\n",
    "import os\n",
    "import asyncio\n",
    "from google.adk.agents import Agent\n",
    "from google.adk.models.lite_llm import LiteLlm \n",
    "from google.adk.sessions import InMemorySessionService\n",
    "from google.adk.runners import Runner\n",
    "from google.genai import types "
   ]
  },
  {
   "cell_type": "code",
   "execution_count": 6,
   "id": "74f9a9d0-f5ff-4d26-b424-4429164c06cd",
   "metadata": {},
   "outputs": [],
   "source": [
    "DS_API_KEY = os.getenv(\"DS_API_KEY\")\n",
    "DS_BASE_URL = os.getenv(\"DS_BASE_URL\")"
   ]
  },
  {
   "cell_type": "code",
   "execution_count": 7,
   "id": "652a7e82-5a47-450d-9cde-98575d958a95",
   "metadata": {},
   "outputs": [],
   "source": [
    "model = LiteLlm(\n",
    "    model=\"deepseek/deepseek-chat\",  \n",
    "    api_base=DS_BASE_URL,\n",
    "    api_key=DS_API_KEY\n",
    ")"
   ]
  },
  {
   "cell_type": "markdown",
   "id": "01b9e8e4-fa5c-4753-a51c-ff1b373cdf9e",
   "metadata": {},
   "source": [
    "## 一、ADK接入外部工具基本流程"
   ]
  },
  {
   "cell_type": "markdown",
   "id": "65712b1d-5263-491d-9a65-075bccd1d9cc",
   "metadata": {},
   "source": [
    "&emsp;&emsp;接下来我们继续探讨对于Agent开发框架的来说非常核心的议题，那就是如何连接并调用外部工具，并据此进一步探讨ADK的事件流管理流程。"
   ]
  },
  {
   "cell_type": "markdown",
   "id": "fddf444b-1347-4afa-9ca9-b58c35915847",
   "metadata": {},
   "source": [
    "### 1. 查询天气外部函数准备"
   ]
  },
  {
   "cell_type": "markdown",
   "id": "97a724e4-68e0-47e4-962c-d879a62516b8",
   "metadata": {},
   "source": [
    "&emsp;&emsp;这里我们还是创建一个经典的查询天气的外部函数，需要注意的是，对于大多数Agent开发框架来说（ADK也是一样），Agent框架对外部函数的调用能力大都源自于基础模型本身的Function calling能力，因此这里首先我们先简单回顾大模型Function calling基本执行流程。"
   ]
  },
  {
   "cell_type": "markdown",
   "id": "073544f1-d05c-43e7-a95c-80e67b343935",
   "metadata": {},
   "source": [
    "- 大模型原始Function calling功能执行流程"
   ]
  },
  {
   "cell_type": "markdown",
   "id": "550e221e-a721-4605-ac24-cfac257a66f8",
   "metadata": {},
   "source": [
    "&emsp;&emsp;对于部分支持Function calling功能的模型来说，可以借助Function calling这种特殊的模型响应形式来调用外部函数，而Agents SDK在进行外部工具调用的时候，并没有通过某些方法让模型诞生Function calling功能，而是通过一些流程，增加了Function calling执行的稳定性、以及简化了调用代码。例如，对于DeepSeek-V3模型来说，原始的Function calling执行流程如下："
   ]
  },
  {
   "cell_type": "markdown",
   "id": "96503f24-b274-409b-8509-1c814450f25e",
   "metadata": {},
   "source": [
    "<center><img src=\"https://ml2022.oss-cn-hangzhou.aliyuncs.com/img/image-20250318202017508.png\" alt=\"image-20250318202017508\" style=\"zoom:35%;\" />"
   ]
  },
  {
   "cell_type": "markdown",
   "id": "d57b5afe-0d69-4c3c-9794-72a3476c54a6",
   "metadata": {},
   "source": [
    "例如，当我们要查询当前天气时，让大模型调用外部工具的function calling的过程就如图所示："
   ]
  },
  {
   "cell_type": "markdown",
   "id": "cb993d81-b20f-46a2-afbf-3334790b466b",
   "metadata": {},
   "source": [
    "<center><img src=\"https://ml2022.oss-cn-hangzhou.aliyuncs.com/img/image-20250318202029130.png\" alt=\"image-20250318202029130\" style=\"zoom:35%;\" />"
   ]
  },
  {
   "cell_type": "markdown",
   "id": "c48ae543-c78e-44f3-8b46-139205e2cecc",
   "metadata": {},
   "source": [
    "而完整的一次Function calling执行流程如下："
   ]
  },
  {
   "cell_type": "markdown",
   "id": "9d1f49d7-1aef-4e24-8a8e-3cc5f8b9d58c",
   "metadata": {},
   "source": [
    "<center><img src=\"https://ml2022.oss-cn-hangzhou.aliyuncs.com/img/202412191720637.png\" alt=\"202412191720637\" style=\"zoom:50%;\" />"
   ]
  },
  {
   "cell_type": "markdown",
   "id": "71d15d32-d1d0-4547-8836-758c063dc0c1",
   "metadata": {},
   "source": [
    "> 更多DeepSeek执行流程参考：\n",
    "> <center><img src=\"https://ml2022.oss-cn-hangzhou.aliyuncs.com/img/image-20250427181651892.png\" alt=\"image-20250427181651892\" style=\"zoom:33%;\" /></center>\n",
    "> 下图扫码即可领取：\n",
    "> <center><img src=\"https://ml2022.oss-cn-hangzhou.aliyuncs.com/img/01dad5b6f552883b19da9b5863c9970.png\" alt=\"01dad5b6f552883b19da9b5863c9970\" style=\"zoom:50%;\" />"
   ]
  },
  {
   "cell_type": "markdown",
   "id": "fc44c1bb-61f3-4083-a7dd-848698b4a3dc",
   "metadata": {},
   "source": [
    "- 简单测试外部工具能否顺利运行"
   ]
  },
  {
   "cell_type": "code",
   "execution_count": 11,
   "id": "9c31a8c5-b6d9-4e90-b773-8538b3427bb9",
   "metadata": {},
   "outputs": [],
   "source": [
    "import requests,json"
   ]
  },
  {
   "cell_type": "code",
   "execution_count": 12,
   "id": "e1e9815c-3cbb-4e19-80a2-a9831a99c8f6",
   "metadata": {},
   "outputs": [],
   "source": [
    "def get_weather(city: str) -> str:\n",
    "    \"\"\"\n",
    "    Retrieves the current weather report for a specified city.\n",
    "\n",
    "    Args:\n",
    "        city (str): The name of the city (e.g., \"Beijing\", \"Shanghai\").\n",
    "                   Note: For cities in China, use the city's English name (e.g., \"Beijing\").\n",
    "\n",
    "    Returns:\n",
    "        dict: A dictionary containing the weather information.\n",
    "              Includes a 'status' key ('success' or 'error').\n",
    "              If 'success', includes a 'report' key with weather details.\n",
    "              If 'error', includes an 'error_message' key.\n",
    "    \"\"\"\n",
    "    # Step 1.构建请求\n",
    "    url = \"https://api.openweathermap.org/data/2.5/weather\"\n",
    "\n",
    "    # Step 2.设置查询参数\n",
    "    params = {\n",
    "        \"q\": city,               \n",
    "        \"appid\": os.getenv(\"OPENWEATHER_API_KEY\"),    # 输入自己的API key\n",
    "        \"units\": \"metric\",            # 使用摄氏度而不是华氏度\n",
    "        \"lang\":\"zh_cn\"                # 输出语言为简体中文\n",
    "    }\n",
    "\n",
    "    # Step 3.发送GET请求\n",
    "    response = requests.get(url, params=params)\n",
    "    \n",
    "    # Step 4.解析响应\n",
    "    data = response.json()\n",
    "    city = data.get(\"name\", \"未知\")\n",
    "    country = data.get(\"sys\", {}).get(\"country\", \"未知\")\n",
    "    temp = data.get(\"main\", {}).get(\"temp\", \"N/A\")\n",
    "    humidity = data.get(\"main\", {}).get(\"humidity\", \"N/A\")\n",
    "    wind_speed = data.get(\"wind\", {}).get(\"speed\", \"N/A\")\n",
    "    weather_list = data.get(\"weather\", [{}])\n",
    "    description = weather_list[0].get(\"description\", \"未知\")\n",
    "\n",
    "    return (\n",
    "        f\"🌍 {city}, {country}\\n\"\n",
    "        f\"🌡 温度: {temp}°C\\n\"\n",
    "        f\"💧 湿度: {humidity}%\\n\"\n",
    "        f\"🌬 风速: {wind_speed} m/s\\n\"\n",
    "        f\"🌤 天气: {description}\\n\"\n",
    "    )"
   ]
  },
  {
   "cell_type": "code",
   "execution_count": 13,
   "id": "f503ed59-170c-463f-a589-dc85fff6569c",
   "metadata": {},
   "outputs": [
    {
     "data": {
      "text/plain": [
       "'🌍 Beijing, CN\\n🌡 温度: 24.94°C\\n💧 湿度: 17%\\n🌬 风速: 4.98 m/s\\n🌤 天气: 晴\\n'"
      ]
     },
     "execution_count": 13,
     "metadata": {},
     "output_type": "execute_result"
    }
   ],
   "source": [
    "get_weather(city=\"Beijing\")"
   ]
  },
  {
   "cell_type": "markdown",
   "id": "d81a8b05-7aa9-4d65-ac7f-693a855d1c9d",
   "metadata": {},
   "source": [
    "这里需要注意的是，ADK和其他Agent开发框架类似，都是根据函数描述来判断函数功能，因此请务必写清楚函数功能及函数参数。对于ADK来说，外部函数的功能说明必须按照`Google Python Style Guide `格式进行编写，具体格式要求有以下几点："
   ]
  },
  {
   "cell_type": "markdown",
   "id": "a2925af3-dae7-40a4-99a0-a4647ce85e63",
   "metadata": {},
   "source": [
    "1. **简要描述**：在docstring的开始部分简短描述函数的目的和行为。比如：`Retrieves the current weather report for a specified city.`。\n",
    "2. **Args**：列出函数的参数，每个参数的类型和功能。并提供必要的注释。\n",
    "3. **Returns**：描述函数返回的类型及其内容。如果返回的是字典，应该具体说明字典中每个键的作用。\n",
    "4. **异常或错误处理**（可选）：如果有，通常会列出可能抛出的异常。"
   ]
  },
  {
   "cell_type": "markdown",
   "id": "a89aef38-b514-4c31-9ba9-1676e2827fde",
   "metadata": {},
   "source": [
    "> 若不是按照这个格式进行编写，则有可能无法顺利识别外部函数。"
   ]
  },
  {
   "cell_type": "markdown",
   "id": "016c5177-999c-43b7-8a52-838eb607a2ea",
   "metadata": {},
   "source": [
    "### 2. 借助ADK构建天气查询Agent"
   ]
  },
  {
   "cell_type": "markdown",
   "id": "2cd04ddd-ac1c-441b-bdc9-60a4cb45c365",
   "metadata": {},
   "source": [
    "&emsp;&emsp;接下来进一步借助ADK连接天气查询外部函数，并据此创建一个天气查询的Agent。"
   ]
  },
  {
   "cell_type": "markdown",
   "id": "48bdcb4d-fddb-4aab-bb6e-0b90de772b0f",
   "metadata": {},
   "source": [
    "- **Step 1.配置模型**"
   ]
  },
  {
   "cell_type": "code",
   "execution_count": 14,
   "id": "ef6fa419-f1ea-4405-9989-dbe0b0927051",
   "metadata": {},
   "outputs": [],
   "source": [
    "model = LiteLlm(\n",
    "    model=\"deepseek/deepseek-chat\",  \n",
    "    api_base=DS_BASE_URL,\n",
    "    api_key=DS_API_KEY\n",
    ")"
   ]
  },
  {
   "cell_type": "markdown",
   "id": "91538e17-99b1-49e8-a0c8-9ae8c6f0266e",
   "metadata": {},
   "source": [
    "- **Step 2.定义天气查询Agent**"
   ]
  },
  {
   "cell_type": "code",
   "execution_count": 15,
   "id": "9060e4e6-3d00-40ae-9f99-53ffded8b5df",
   "metadata": {},
   "outputs": [],
   "source": [
    "weather_agent = Agent(\n",
    "    name=\"weather_agent\",\n",
    "    model=model, \n",
    "    description=\"用于进行某地天气查询的Agent智能体\",\n",
    "    instruction=\"你是一个有帮助的天气助手。\"\n",
    "                \"当用户询问特定城市的天气时，\"\n",
    "                \"使用 'get_weather' 工具查找相关信息。\"\n",
    "                \"如果工具返回错误，礼貌地告知用户。\",\n",
    "    tools=[get_weather], \n",
    ")"
   ]
  },
  {
   "cell_type": "code",
   "execution_count": 16,
   "id": "5686f018-72bf-4cdd-b1c7-341643fb186c",
   "metadata": {},
   "outputs": [
    {
     "name": "stdout",
     "output_type": "stream",
     "text": [
      "Agent 'weather_agent' created using model 'model='deepseek/deepseek-chat' llm_client=<google.adk.models.lite_llm.LiteLLMClient object at 0x000001F7313C3C10>'.\n"
     ]
    }
   ],
   "source": [
    "print(f\"Agent '{weather_agent.name}' created using model '{model}'.\")"
   ]
  },
  {
   "cell_type": "markdown",
   "id": "0b973cf5-a292-4635-bcd6-19029ac3d142",
   "metadata": {},
   "source": [
    "- **Step 3.创建会话管理器**"
   ]
  },
  {
   "cell_type": "code",
   "execution_count": 17,
   "id": "ae5e0ac7-51e6-441b-a302-cb4c239609ed",
   "metadata": {},
   "outputs": [],
   "source": [
    "session_service = InMemorySessionService()"
   ]
  },
  {
   "cell_type": "code",
   "execution_count": 18,
   "id": "1d28f37f-b707-469d-b540-b7a029a0d81c",
   "metadata": {},
   "outputs": [],
   "source": [
    "APP_NAME = \"weather_app\"\n",
    "USER_ID = \"user_1\"\n",
    "SESSION_ID = \"session_001\""
   ]
  },
  {
   "cell_type": "code",
   "execution_count": 19,
   "id": "4e3266a3-0036-4261-b3c0-8cf63ac891d3",
   "metadata": {},
   "outputs": [
    {
     "name": "stdout",
     "output_type": "stream",
     "text": [
      "Session created: App='weather_app', User='user_1', Session='session_001'\n"
     ]
    }
   ],
   "source": [
    "session = session_service.create_session(\n",
    "    app_name=APP_NAME,\n",
    "    user_id=USER_ID,\n",
    "    session_id=SESSION_ID\n",
    ")\n",
    "print(f\"Session created: App='{APP_NAME}', User='{USER_ID}', Session='{SESSION_ID}'\")"
   ]
  },
  {
   "cell_type": "markdown",
   "id": "d3496ff9-512e-4957-9f74-6e19f2a35f1b",
   "metadata": {},
   "source": [
    "- **Step 4.创建智能体执行器（Runner）**"
   ]
  },
  {
   "cell_type": "code",
   "execution_count": 20,
   "id": "5a698bbd-257f-46c5-9fb9-5878a9c912a2",
   "metadata": {},
   "outputs": [],
   "source": [
    "runner = Runner(\n",
    "    agent=weather_agent, # The agent we want to run\n",
    "    app_name=APP_NAME,   # Associates runs with our app\n",
    "    session_service=session_service # Uses our session manager\n",
    ")"
   ]
  },
  {
   "cell_type": "markdown",
   "id": "4799b962-9d1d-4ea9-b121-16eedd87fecf",
   "metadata": {},
   "source": [
    "- **Step 5.执行天气查询对话**"
   ]
  },
  {
   "cell_type": "code",
   "execution_count": 21,
   "id": "42d08916-d9b5-4483-8b74-c6403bc43a8f",
   "metadata": {},
   "outputs": [],
   "source": [
    "query='你好，请问北京今天天气如何？'"
   ]
  },
  {
   "cell_type": "code",
   "execution_count": 22,
   "id": "6a6f28f9-b0fd-4911-9880-694f25cb6ad8",
   "metadata": {},
   "outputs": [
    {
     "data": {
      "text/plain": [
       "('user_1', 'session_001')"
      ]
     },
     "execution_count": 22,
     "metadata": {},
     "output_type": "execute_result"
    }
   ],
   "source": [
    "USER_ID, SESSION_ID"
   ]
  },
  {
   "cell_type": "code",
   "execution_count": 24,
   "id": "676fcb5b-f0bb-4099-a904-2bffacc9141a",
   "metadata": {},
   "outputs": [],
   "source": [
    "async def call_agent_async(query: str, runner, user_id, session_id):\n",
    "  \"\"\"Sends a query to the agent and prints the final response.\"\"\"\n",
    "  print(f\"\\n>>> User Query: {query}\")\n",
    "\n",
    "  # Prepare the user's message in ADK format\n",
    "  content = types.Content(role='user', parts=[types.Part(text=query)])\n",
    "\n",
    "  final_response_text = \"Agent did not produce a final response.\" # Default\n",
    "\n",
    "  # Key Concept: run_async executes the agent logic and yields Events.\n",
    "  # We iterate through events to find the final answer.\n",
    "  async for event in runner.run_async(user_id=user_id, session_id=session_id, new_message=content):\n",
    "      # You can uncomment the line below to see *all* events during execution\n",
    "      print(f\"  [Event] Author: {event.author}, Type: {type(event).__name__}, Final: {event.is_final_response()}, Content: {event.content}\")\n",
    "\n",
    "      # Key Concept: is_final_response() marks the concluding message for the turn.\n",
    "      if event.is_final_response():\n",
    "          if event.content and event.content.parts:\n",
    "             # Assuming text response in the first part\n",
    "             final_response_text = event.content.parts[0].text\n",
    "          elif event.actions and event.actions.escalate: # Handle potential errors/escalations\n",
    "             final_response_text = f\"Agent escalated: {event.error_message or 'No specific message.'}\"\n",
    "          # Add more checks here if needed (e.g., specific error codes)\n",
    "          break # Stop processing events once the final response is found\n",
    "\n",
    "  print(f\"<<< Agent Response: {final_response_text}\")"
   ]
  },
  {
   "cell_type": "code",
   "execution_count": 25,
   "id": "082fdaf6-0936-46fe-b77a-2d9054c1d9d0",
   "metadata": {},
   "outputs": [
    {
     "name": "stdout",
     "output_type": "stream",
     "text": [
      "\n",
      ">>> User Query: 你好，请问北京今天天气如何？\n",
      "  [Event] Author: weather_agent, Type: Event, Final: False, Content: parts=[Part(video_metadata=None, thought=None, code_execution_result=None, executable_code=None, file_data=None, function_call=FunctionCall(id='call_0_2232a8a6-e5a7-46d3-94f1-9ff365c31cb5', args={'city': 'Beijing'}, name='get_weather'), function_response=None, inline_data=None, text=None)] role='model'\n",
      "  [Event] Author: weather_agent, Type: Event, Final: False, Content: parts=[Part(video_metadata=None, thought=None, code_execution_result=None, executable_code=None, file_data=None, function_call=None, function_response=FunctionResponse(id='call_0_2232a8a6-e5a7-46d3-94f1-9ff365c31cb5', name='get_weather', response={'result': '🌍 Beijing, CN\\n🌡 温度: 24.94°C\\n💧 湿度: 17%\\n🌬 风速: 4.98 m/s\\n🌤 天气: 晴\\n'}), inline_data=None, text=None)] role='user'\n",
      "  [Event] Author: weather_agent, Type: Event, Final: True, Content: parts=[Part(video_metadata=None, thought=None, code_execution_result=None, executable_code=None, file_data=None, function_call=None, function_response=None, inline_data=None, text='北京今天的天气情况如下：\\n\\n- **温度**: 24.94°C\\n- **湿度**: 17%\\n- **风速**: 4.98 m/s\\n- **天气**: 晴\\n\\n天气晴朗，适合外出活动！')] role='model'\n",
      "<<< Agent Response: 北京今天的天气情况如下：\n",
      "\n",
      "- **温度**: 24.94°C\n",
      "- **湿度**: 17%\n",
      "- **风速**: 4.98 m/s\n",
      "- **天气**: 晴\n",
      "\n",
      "天气晴朗，适合外出活动！\n"
     ]
    }
   ],
   "source": [
    "await call_agent_async(query, runner, USER_ID, SESSION_ID)"
   ]
  },
  {
   "cell_type": "markdown",
   "id": "70a0d05b-263b-4acc-8c4b-4d2d1bdfbc69",
   "metadata": {},
   "source": [
    "最后我们获取最新的历史对话消息："
   ]
  },
  {
   "cell_type": "code",
   "execution_count": 26,
   "id": "bd62da53-bf0a-4157-b061-36855fd116ac",
   "metadata": {},
   "outputs": [],
   "source": [
    "session = session_service.get_session(\n",
    "    app_name=APP_NAME,\n",
    "    user_id=USER_ID,\n",
    "    session_id=SESSION_ID\n",
    ")"
   ]
  },
  {
   "cell_type": "code",
   "execution_count": 27,
   "id": "694d3f20-978b-466d-b40d-6e6a49464cda",
   "metadata": {},
   "outputs": [
    {
     "name": "stdout",
     "output_type": "stream",
     "text": [
      "Author: user, Type: Event, Content: parts=[Part(video_metadata=None, thought=None, code_execution_result=None, executable_code=None, file_data=None, function_call=None, function_response=None, inline_data=None, text='你好，请问北京今天天气如何？')] role='user'\n",
      "Author: weather_agent, Type: Event, Content: parts=[Part(video_metadata=None, thought=None, code_execution_result=None, executable_code=None, file_data=None, function_call=FunctionCall(id='call_0_2232a8a6-e5a7-46d3-94f1-9ff365c31cb5', args={'city': 'Beijing'}, name='get_weather'), function_response=None, inline_data=None, text=None)] role='model'\n",
      "Author: weather_agent, Type: Event, Content: parts=[Part(video_metadata=None, thought=None, code_execution_result=None, executable_code=None, file_data=None, function_call=None, function_response=FunctionResponse(id='call_0_2232a8a6-e5a7-46d3-94f1-9ff365c31cb5', name='get_weather', response={'result': '🌍 Beijing, CN\\n🌡 温度: 24.94°C\\n💧 湿度: 17%\\n🌬 风速: 4.98 m/s\\n🌤 天气: 晴\\n'}), inline_data=None, text=None)] role='user'\n",
      "Author: weather_agent, Type: Event, Content: parts=[Part(video_metadata=None, thought=None, code_execution_result=None, executable_code=None, file_data=None, function_call=None, function_response=None, inline_data=None, text='北京今天的天气情况如下：\\n\\n- **温度**: 24.94°C\\n- **湿度**: 17%\\n- **风速**: 4.98 m/s\\n- **天气**: 晴\\n\\n天气晴朗，适合外出活动！')] role='model'\n"
     ]
    }
   ],
   "source": [
    "for event in session.events:\n",
    "    print(f\"Author: {event.author}, Type: {type(event).__name__}, Content: {event.content}\")"
   ]
  },
  {
   "cell_type": "markdown",
   "id": "92a8754f-db01-4c8c-8bbc-a9256b833490",
   "metadata": {},
   "source": [
    "能够看出，在调用外部函数时事件流解释如下："
   ]
  },
  {
   "cell_type": "markdown",
   "id": "dc98b176-7fc5-4786-b5b7-73f663f10739",
   "metadata": {},
   "source": [
    "Part 1. **用户输入（User Query）**\n",
    "\n",
    "```plaintext\n",
    ">>> User Query: 你好，请问北京今天天气如何？\n",
    "```\n",
    "\n",
    "- **用户输入**：用户询问的是 **北京** 的天气情况。这个消息会被 **`weather_agent`** 接收并处理。\n",
    "\n",
    "Part 2. **第一次事件（Event） - 调用外部函数**\n",
    "\n",
    "```plaintext\n",
    "[Event] Author: weather_agent, Type: Event, Final: False, Content: parts=[Part(video_metadata=None, thought=None, code_execution_result=None, executable_code=None, file_data=None, function_call=FunctionCall(id='call_0_3d81d66c-0361-478a-8a2e-941f4552995e', args={'city': 'Beijing'}, name='get_weather'), function_response=None, inline_data=None, text=None)] role='model'\n",
    "```\n",
    "\n",
    "解释如下：\n",
    "\n",
    "- **`author`**: `weather_agent` — 表明这个事件是由 `weather_agent` 发出的，表示模型开始处理用户请求。\n",
    "- **`type`**: `Event` — 表示这是一个事件对象，指示着某种操作（例如模型开始处理用户的输入）。\n",
    "- **`Final`**: `False` — 这意味着这不是最终的响应，它是处理中间的一个事件，模型仍在执行某些操作。\n",
    "- **`content`**: 这里的 `content` 包含了一个 **`function_call`**，即 **调用外部函数（get_weather）**：\n",
    "  - `FunctionCall` 表示模型调用了一个外部函数（在这里是 `get_weather` 函数），并传递了参数 `city: 'Beijing'`。\n",
    "  - `function_response` 为空，表明这个事件只是发起了外部函数调用，函数的响应尚未返回。\n",
    "\n",
    "Part 3. **第二次事件（Event） - 函数响应**\n",
    "\n",
    "```plaintext\n",
    "[Event] Author: weather_agent, Type: Event, Final: False, Content: parts=[Part(video_metadata=None, thought=None, code_execution_result=None, executable_code=None, file_data=None, function_call=None, function_response=FunctionResponse(id='call_0_3d81d66c-0361-478a-8a2e-941f4552995e', name='get_weather', response={'result': '🌍 Beijing, CN\\n🌡 温度: 22.94°C\\n💧 湿度: 12%\\n🌬 风速: 3.65 m/s\\n🌤 天气: 晴\\n'}), inline_data=None, text=None)] role='user'\n",
    "```\n",
    "\n",
    "解释如下：\n",
    "\n",
    "- **`author`**: `weather_agent` — 表示这是由 `weather_agent` 生成的事件。\n",
    "- **`type`**: `Event` — 这是一个事件对象，表示某个操作的完成。\n",
    "- **`Final`**: `False` — 这仍然不是最终的响应，事件仍在处理阶段。\n",
    "- **`content`**: 这次的 `content` 中包含了 **`function_response`**：\n",
    "  - `function_response` 表示调用 `get_weather` 函数并获取了它的响应。返回的 `response` 包含了天气信息：温度、湿度、风速和天气状况。\n",
    "  - 这些信息将被传递回 `weather_agent`，以便构建最终的回复给用户。\n",
    "\n",
    "Part 4. **最终事件（Event） - 完成模型的响应**\n",
    "\n",
    "```plaintext\n",
    "[Event] Author: weather_agent, Type: Event, Final: True, Content: parts=[Part(video_metadata=None, thought=None, code_execution_result=None, executable_code=None, file_data=None, function_call=None, function_response=None, inline_data=None, text='北京今天的天气情况如下：\\n\\n- **温度**: 22.94°C\\n- **湿度**: 12%\\n- **风速**: 3.65 m/s\\n- **天气**: 晴\\n\\n天气晴朗，适合外出活动！')] role='model'\n",
    "```\n",
    "\n",
    "解释如下：\n",
    "\n",
    "- **`author`**: `weather_agent` — 这还是由 `weather_agent` 发出的事件，表示模型已经完成最终的响应。\n",
    "- **`type`**: `Event` — 这是一个事件对象，表示模型生成的最终响应。\n",
    "- **`Final`**: `True` — 这是**最终的响应**，标志着本轮对话的结束。\n",
    "- **`content`**: `text` 字段包含了最终的回复文本：\n",
    "  - 这是 **Agent** 提供给用户的天气信息，包括温度、湿度、风速和天气描述。\n",
    "\n",
    "Part 5. **最终用户响应**\n",
    "\n",
    "```plaintext\n",
    "<<< Agent Response: 北京今天的天气情况如下：\n",
    "\n",
    "- **温度**: 22.94°C\n",
    "- **湿度**: 12%\n",
    "- **风速**: 3.65 m/s\n",
    "- **天气**: 晴\n",
    "\n",
    "天气晴朗，适合外出活动！\n",
    "```\n",
    "\n",
    "- **最终输出**：这是 **Agent** 的回复内容，清晰地展示了北京的天气情况，包含了温度、湿度、风速和天气描述。\n",
    "\n",
    "其中**事件流的关键点：**\n",
    "- **`function_call`**：表示模型调用了外部函数（例如 `get_weather`）。\n",
    "- **`function_response`**：表示外部函数返回的数据被模型接收到。\n",
    "- **`Final=True`**：表示这是本轮对话的最终响应，标志着模型已准备好提供最终答案。\n",
    "\n",
    "不难看出，这其实也就是一个经典的Function calling执行流程，完整事件流程可以用下图描述："
   ]
  },
  {
   "cell_type": "markdown",
   "id": "1c4b5c5d-cc18-44d8-8b7b-6b9c19b40033",
   "metadata": {},
   "source": [
    "<center><img src=\"https://ml2022.oss-cn-hangzhou.aliyuncs.com/img/image-20250427184329067.png\" alt=\"image-20250427184329067\" style=\"zoom:50%;\" />"
   ]
  },
  {
   "cell_type": "markdown",
   "id": "b6254028-96e8-4cd8-b7ce-4139cc20b0a4",
   "metadata": {},
   "source": [
    "当然，我们同样可以继续使用`call_agent_async`函数进行多轮对话："
   ]
  },
  {
   "cell_type": "code",
   "execution_count": 28,
   "id": "62ae0f6e-f397-432b-837d-d0d2ae65b08c",
   "metadata": {},
   "outputs": [],
   "source": [
    "query = '那今天我应该穿什么衣服出门呀？'"
   ]
  },
  {
   "cell_type": "code",
   "execution_count": 29,
   "id": "ca6ca920-3d1c-4185-a24d-5b92234ce2c8",
   "metadata": {},
   "outputs": [
    {
     "name": "stdout",
     "output_type": "stream",
     "text": [
      "\n",
      ">>> User Query: 那今天我应该穿什么衣服出门呀？\n",
      "  [Event] Author: weather_agent, Type: Event, Final: True, Content: parts=[Part(video_metadata=None, thought=None, code_execution_result=None, executable_code=None, file_data=None, function_call=None, function_response=None, inline_data=None, text='根据北京今天的天气情况（晴，温度约25°C，湿度较低，风速约5 m/s），建议你可以这样穿：\\n\\n- **上衣**：短袖T恤或薄衬衫，如果怕晒可以加一件防晒衣。\\n- **下装**：轻薄的长裤或短裤都可以，根据个人喜好选择。\\n- **鞋子**：透气的运动鞋或休闲鞋。\\n- **其他**：可以戴一顶帽子或墨镜防晒，因为湿度低，阳光可能会比较强。\\n\\n整体来说，今天的天气比较舒适，适合轻便的夏季穿搭！')] role='model'\n",
      "<<< Agent Response: 根据北京今天的天气情况（晴，温度约25°C，湿度较低，风速约5 m/s），建议你可以这样穿：\n",
      "\n",
      "- **上衣**：短袖T恤或薄衬衫，如果怕晒可以加一件防晒衣。\n",
      "- **下装**：轻薄的长裤或短裤都可以，根据个人喜好选择。\n",
      "- **鞋子**：透气的运动鞋或休闲鞋。\n",
      "- **其他**：可以戴一顶帽子或墨镜防晒，因为湿度低，阳光可能会比较强。\n",
      "\n",
      "整体来说，今天的天气比较舒适，适合轻便的夏季穿搭！\n"
     ]
    }
   ],
   "source": [
    "await call_agent_async(query, runner, USER_ID, SESSION_ID)"
   ]
  },
  {
   "cell_type": "markdown",
   "id": "dc7356e1-8245-45b7-926a-65d75ff5c684",
   "metadata": {},
   "source": [
    "完整历史对话如下："
   ]
  },
  {
   "cell_type": "code",
   "execution_count": 30,
   "id": "54bd806b-8c46-45a9-858c-9f9c648525fe",
   "metadata": {
    "scrolled": true
   },
   "outputs": [
    {
     "data": {
      "text/plain": [
       "{'weather_app': {'user_1': {'session_001': Session(id='session_001', app_name='weather_app', user_id='user_1', state={}, events=[Event(content=Content(parts=[Part(video_metadata=None, thought=None, code_execution_result=None, executable_code=None, file_data=None, function_call=None, function_response=None, inline_data=None, text='你好，请问北京今天天气如何？')], role='user'), grounding_metadata=None, partial=None, turn_complete=None, error_code=None, error_message=None, interrupted=None, custom_metadata=None, invocation_id='e-7584029b-962f-4545-a02d-b65911ef7fd4', author='user', actions=EventActions(skip_summarization=None, state_delta={}, artifact_delta={}, transfer_to_agent=None, escalate=None, requested_auth_configs={}), long_running_tool_ids=None, branch=None, id='UUjklpC4', timestamp=1745826605.546849), Event(content=Content(parts=[Part(video_metadata=None, thought=None, code_execution_result=None, executable_code=None, file_data=None, function_call=FunctionCall(id='call_0_2232a8a6-e5a7-46d3-94f1-9ff365c31cb5', args={'city': 'Beijing'}, name='get_weather'), function_response=None, inline_data=None, text=None)], role='model'), grounding_metadata=None, partial=False, turn_complete=None, error_code=None, error_message=None, interrupted=None, custom_metadata=None, invocation_id='e-7584029b-962f-4545-a02d-b65911ef7fd4', author='weather_agent', actions=EventActions(skip_summarization=None, state_delta={}, artifact_delta={}, transfer_to_agent=None, escalate=None, requested_auth_configs={}), long_running_tool_ids=set(), branch=None, id='jPeNUGUO', timestamp=1745826605.546849), Event(content=Content(parts=[Part(video_metadata=None, thought=None, code_execution_result=None, executable_code=None, file_data=None, function_call=None, function_response=FunctionResponse(id='call_0_2232a8a6-e5a7-46d3-94f1-9ff365c31cb5', name='get_weather', response={'result': '🌍 Beijing, CN\\n🌡 温度: 24.94°C\\n💧 湿度: 17%\\n🌬 风速: 4.98 m/s\\n🌤 天气: 晴\\n'}), inline_data=None, text=None)], role='user'), grounding_metadata=None, partial=None, turn_complete=None, error_code=None, error_message=None, interrupted=None, custom_metadata=None, invocation_id='e-7584029b-962f-4545-a02d-b65911ef7fd4', author='weather_agent', actions=EventActions(skip_summarization=None, state_delta={}, artifact_delta={}, transfer_to_agent=None, escalate=None, requested_auth_configs={}), long_running_tool_ids=None, branch=None, id='CQx2Gdo0', timestamp=1745826611.622692), Event(content=Content(parts=[Part(video_metadata=None, thought=None, code_execution_result=None, executable_code=None, file_data=None, function_call=None, function_response=None, inline_data=None, text='北京今天的天气情况如下：\\n\\n- **温度**: 24.94°C\\n- **湿度**: 17%\\n- **风速**: 4.98 m/s\\n- **天气**: 晴\\n\\n天气晴朗，适合外出活动！')], role='model'), grounding_metadata=None, partial=False, turn_complete=None, error_code=None, error_message=None, interrupted=None, custom_metadata=None, invocation_id='e-7584029b-962f-4545-a02d-b65911ef7fd4', author='weather_agent', actions=EventActions(skip_summarization=None, state_delta={}, artifact_delta={}, transfer_to_agent=None, escalate=None, requested_auth_configs={}), long_running_tool_ids=None, branch=None, id='38jxeUH8', timestamp=1745826611.623198), Event(content=Content(parts=[Part(video_metadata=None, thought=None, code_execution_result=None, executable_code=None, file_data=None, function_call=None, function_response=None, inline_data=None, text='那今天我应该穿什么衣服出门呀？')], role='user'), grounding_metadata=None, partial=None, turn_complete=None, error_code=None, error_message=None, interrupted=None, custom_metadata=None, invocation_id='e-4868fa74-3f23-471d-bcf5-390d01149fd6', author='user', actions=EventActions(skip_summarization=None, state_delta={}, artifact_delta={}, transfer_to_agent=None, escalate=None, requested_auth_configs={}), long_running_tool_ids=None, branch=None, id='U6hxo0Ge', timestamp=1745826765.494604), Event(content=Content(parts=[Part(video_metadata=None, thought=None, code_execution_result=None, executable_code=None, file_data=None, function_call=None, function_response=None, inline_data=None, text='根据北京今天的天气情况（晴，温度约25°C，湿度较低，风速约5 m/s），建议你可以这样穿：\\n\\n- **上衣**：短袖T恤或薄衬衫，如果怕晒可以加一件防晒衣。\\n- **下装**：轻薄的长裤或短裤都可以，根据个人喜好选择。\\n- **鞋子**：透气的运动鞋或休闲鞋。\\n- **其他**：可以戴一顶帽子或墨镜防晒，因为湿度低，阳光可能会比较强。\\n\\n整体来说，今天的天气比较舒适，适合轻便的夏季穿搭！')], role='model'), grounding_metadata=None, partial=False, turn_complete=None, error_code=None, error_message=None, interrupted=None, custom_metadata=None, invocation_id='e-4868fa74-3f23-471d-bcf5-390d01149fd6', author='weather_agent', actions=EventActions(skip_summarization=None, state_delta={}, artifact_delta={}, transfer_to_agent=None, escalate=None, requested_auth_configs={}), long_running_tool_ids=None, branch=None, id='BVG5ghpy', timestamp=1745826765.494961)], last_update_time=1745826765.494961)}}}"
      ]
     },
     "execution_count": 30,
     "metadata": {},
     "output_type": "execute_result"
    }
   ],
   "source": [
    "session_service.sessions"
   ]
  },
  {
   "cell_type": "markdown",
   "id": "088359e5-c14d-426d-a8ba-662dd9da182e",
   "metadata": {},
   "source": [
    "## 二、ADK并联和串联调用工具流程"
   ]
  },
  {
   "cell_type": "markdown",
   "id": "c6bfc6b7-bfac-40f5-843b-637721f30ee9",
   "metadata": {},
   "source": [
    "&emsp;&emsp;既然是以Function calling为基础的工具调用，那肯定ADK肯定支持多工具并联和串联调用。通过工具的并联调用，就能快速在单独的Agent内部组成简单的工作流。"
   ]
  },
  {
   "cell_type": "markdown",
   "id": "0e92b83f-ffe2-41ca-9e6d-d676e205a40d",
   "metadata": {},
   "source": [
    "### 1. ADK的多工具并联调用"
   ]
  },
  {
   "cell_type": "markdown",
   "id": "19bbacc4-433e-4a0d-9c2c-e3e4d39c7f91",
   "metadata": {},
   "source": [
    "&emsp;&emsp;所谓并联调用，指的是在一次响应过程中，同时调用多项工具完成任务，例如同时询问北京和杭州天气时候，ADK会按照如下方式进行工具调用："
   ]
  },
  {
   "cell_type": "markdown",
   "id": "7f2703e0-7007-418e-bd5c-b4dc12ecad4b",
   "metadata": {},
   "source": [
    "<center><img src=\"https://ml2022.oss-cn-hangzhou.aliyuncs.com/img/image-20250428155500648.png\" alt=\"image-20250428155500648\" style=\"zoom:33%;\" />"
   ]
  },
  {
   "cell_type": "markdown",
   "id": "a98941b4-a868-4f05-be4c-27577995f59b",
   "metadata": {},
   "source": [
    "具体代码实现过程如下。"
   ]
  },
  {
   "cell_type": "code",
   "execution_count": 31,
   "id": "45b05940-6f0b-4b56-9c44-f8a1d342a921",
   "metadata": {},
   "outputs": [
    {
     "name": "stdout",
     "output_type": "stream",
     "text": [
      "Session created: App='weather_app', User='user_2', Session='session_001'\n"
     ]
    }
   ],
   "source": [
    "# 重新创建基础会话信息和会话存储器\n",
    "session_service = InMemorySessionService()\n",
    "\n",
    "APP_NAME = \"weather_app\"\n",
    "USER_ID = \"user_2\"\n",
    "SESSION_ID = \"session_001\"\n",
    "\n",
    "session = session_service.create_session(\n",
    "    app_name=APP_NAME,\n",
    "    user_id=USER_ID,\n",
    "    session_id=SESSION_ID\n",
    ")\n",
    "print(f\"Session created: App='{APP_NAME}', User='{USER_ID}', Session='{SESSION_ID}'\")"
   ]
  },
  {
   "cell_type": "code",
   "execution_count": 32,
   "id": "4557166f-1a6a-4882-8072-4e68bcb8ec8b",
   "metadata": {},
   "outputs": [],
   "source": [
    "runner = Runner(\n",
    "    agent=weather_agent, # The agent we want to run\n",
    "    app_name=APP_NAME,   # Associates runs with our app\n",
    "    session_service=session_service # Uses our session manager\n",
    ")"
   ]
  },
  {
   "cell_type": "code",
   "execution_count": 33,
   "id": "3847836e-8676-4e0c-82c9-afeaa834777c",
   "metadata": {},
   "outputs": [],
   "source": [
    "query='你好，请问北京和杭州今天天气如何？'"
   ]
  },
  {
   "cell_type": "code",
   "execution_count": 34,
   "id": "0c8c718b-c728-4f25-b086-fbfe5b3815c0",
   "metadata": {
    "scrolled": true
   },
   "outputs": [
    {
     "name": "stdout",
     "output_type": "stream",
     "text": [
      "\n",
      ">>> User Query: 你好，请问北京和杭州今天天气如何？\n",
      "  [Event] Author: weather_agent, Type: Event, Final: False, Content: parts=[Part(video_metadata=None, thought=None, code_execution_result=None, executable_code=None, file_data=None, function_call=FunctionCall(id='call_0_ba44be46-ecc3-45bd-9fd9-318bf6a57ee8', args={'city': 'Beijing'}, name='get_weather'), function_response=None, inline_data=None, text=None), Part(video_metadata=None, thought=None, code_execution_result=None, executable_code=None, file_data=None, function_call=FunctionCall(id='call_1_28834fe9-ea31-49b9-8519-3511462d3fb7', args={'city': 'Hangzhou'}, name='get_weather'), function_response=None, inline_data=None, text=None)] role='model'\n",
      "  [Event] Author: weather_agent, Type: Event, Final: False, Content: parts=[Part(video_metadata=None, thought=None, code_execution_result=None, executable_code=None, file_data=None, function_call=None, function_response=FunctionResponse(id='call_0_ba44be46-ecc3-45bd-9fd9-318bf6a57ee8', name='get_weather', response={'result': '🌍 Beijing, CN\\n🌡 温度: 24.94°C\\n💧 湿度: 17%\\n🌬 风速: 4.68 m/s\\n🌤 天气: 晴\\n'}), inline_data=None, text=None), Part(video_metadata=None, thought=None, code_execution_result=None, executable_code=None, file_data=None, function_call=None, function_response=FunctionResponse(id='call_1_28834fe9-ea31-49b9-8519-3511462d3fb7', name='get_weather', response={'result': '🌍 Hangzhou, CN\\n🌡 温度: 25.95°C\\n💧 湿度: 42%\\n🌬 风速: 5.78 m/s\\n🌤 天气: 多云\\n'}), inline_data=None, text=None)] role='user'\n",
      "  [Event] Author: weather_agent, Type: Event, Final: True, Content: parts=[Part(video_metadata=None, thought=None, code_execution_result=None, executable_code=None, file_data=None, function_call=None, function_response=None, inline_data=None, text='今天北京的天气情况如下：\\n- 温度：24.94°C\\n- 湿度：17%\\n- 风速：4.68 m/s\\n- 天气：晴\\n\\n杭州的天气情况如下：\\n- 温度：25.95°C\\n- 湿度：42%\\n- 风速：5.78 m/s\\n- 天气：多云\\n\\n如果有其他需求，请随时告诉我！')] role='model'\n",
      "<<< Agent Response: 今天北京的天气情况如下：\n",
      "- 温度：24.94°C\n",
      "- 湿度：17%\n",
      "- 风速：4.68 m/s\n",
      "- 天气：晴\n",
      "\n",
      "杭州的天气情况如下：\n",
      "- 温度：25.95°C\n",
      "- 湿度：42%\n",
      "- 风速：5.78 m/s\n",
      "- 天气：多云\n",
      "\n",
      "如果有其他需求，请随时告诉我！\n"
     ]
    }
   ],
   "source": [
    "await call_agent_async(query, runner, USER_ID, SESSION_ID)"
   ]
  },
  {
   "cell_type": "markdown",
   "id": "9b681116-5f99-45ec-87d4-050f44bf18d6",
   "metadata": {},
   "source": [
    "注意观察此时的事件流，在第二个事件中（第一个事件是接收到用户消息），ADK同时发起了两次工具调用："
   ]
  },
  {
   "cell_type": "code",
   "execution_count": 52,
   "id": "d1fbb9d8-61eb-4747-aeb1-96f71f105042",
   "metadata": {},
   "outputs": [
    {
     "data": {
      "text/plain": [
       "Event(content=Content(parts=[Part(video_metadata=None, thought=None, code_execution_result=None, executable_code=None, file_data=None, function_call=FunctionCall(id='call_0_011abd9e-2133-4339-aac4-5967b695adc6', args={'city': 'Beijing'}, name='get_weather'), function_response=None, inline_data=None, text=None), Part(video_metadata=None, thought=None, code_execution_result=None, executable_code=None, file_data=None, function_call=FunctionCall(id='call_1_1604d47b-0946-4cfa-ab9b-e3d703993378', args={'city': 'Hangzhou'}, name='get_weather'), function_response=None, inline_data=None, text=None)], role='model'), grounding_metadata=None, partial=False, turn_complete=None, error_code=None, error_message=None, interrupted=None, custom_metadata=None, invocation_id='e-266fabc7-b44c-4e91-a1ff-539146ea55c9', author='multi_tool_agent', actions=EventActions(skip_summarization=None, state_delta={}, artifact_delta={}, transfer_to_agent=None, escalate=None, requested_auth_configs={}), long_running_tool_ids=set(), branch=None, id='hDtH409E', timestamp=1745827642.84536)"
      ]
     },
     "execution_count": 52,
     "metadata": {},
     "output_type": "execute_result"
    }
   ],
   "source": [
    "session_service.sessions['weather_app']['user_2']['session_001'].events[1]"
   ]
  },
  {
   "cell_type": "markdown",
   "id": "30841689-542c-4bdf-8997-74316219b90c",
   "metadata": {},
   "source": [
    "如此即实现了工具的并联调用。"
   ]
  },
  {
   "cell_type": "markdown",
   "id": "5e471dba-f9b5-4e7f-822e-fb1a84805d9d",
   "metadata": {},
   "source": [
    "### 2. ADK的多工具串联调用"
   ]
  },
  {
   "cell_type": "markdown",
   "id": "2d4fa983-2a7d-4942-bcca-cfcb66469fa8",
   "metadata": {},
   "source": [
    "&emsp;&emsp;接下来继续介绍ADK的多工具串联调用方法。这里我们再创建一个函数，用于将查询到的天气信息“写入”本地文件中。"
   ]
  },
  {
   "cell_type": "code",
   "execution_count": 41,
   "id": "69988c7b-6e5e-419a-a672-aea66996871f",
   "metadata": {},
   "outputs": [],
   "source": [
    "def write_file(content: str) -> str:\n",
    "    \"\"\"\n",
    "    Writes the specified content to a local file.\n",
    "\n",
    "    Args:\n",
    "        content (str): The content to be written to the file.\n",
    "\n",
    "    Returns:\n",
    "        str: A message indicating whether the content was successfully written to the file.\n",
    "             In this case, it returns \"已成功写入本地文件\" if the writing is successful.\n",
    "    \"\"\"\n",
    "    \n",
    "    return \"已成功写入本地文件。\""
   ]
  },
  {
   "cell_type": "code",
   "execution_count": 42,
   "id": "9bec9144-c155-4d6f-b84f-a555cd000583",
   "metadata": {},
   "outputs": [
    {
     "name": "stdout",
     "output_type": "stream",
     "text": [
      "Session created: App='weather_app', User='user_2', Session='session_002'\n"
     ]
    }
   ],
   "source": [
    "# 重新创建基础会话信息和会话存储器\n",
    "session_service = InMemorySessionService()\n",
    "\n",
    "APP_NAME = \"weather_app\"\n",
    "USER_ID = \"user_2\"\n",
    "SESSION_ID = \"session_002\"\n",
    "\n",
    "session = session_service.create_session(\n",
    "    app_name=APP_NAME,\n",
    "    user_id=USER_ID,\n",
    "    session_id=SESSION_ID\n",
    ")\n",
    "print(f\"Session created: App='{APP_NAME}', User='{USER_ID}', Session='{SESSION_ID}'\")"
   ]
  },
  {
   "cell_type": "code",
   "execution_count": 45,
   "id": "ccf6105b-fadb-4a70-b1e1-9041971996d3",
   "metadata": {},
   "outputs": [
    {
     "name": "stdout",
     "output_type": "stream",
     "text": [
      "Agent 'multi_tool_agent' created using model 'model='deepseek/deepseek-chat' llm_client=<google.adk.models.lite_llm.LiteLLMClient object at 0x000001F7313C3C10>'.\n"
     ]
    }
   ],
   "source": [
    "# 重新创建Agent\n",
    "multi_tool_agent = Agent(\n",
    "    name=\"multi_tool_agent\",\n",
    "    model=model, \n",
    "    description=\"用于进行天气查询和记录的智能体\",\n",
    "    instruction=\"你是一个乐于助人的助手。\"\n",
    "                \"当用户询问特定城市的天气时，\"\n",
    "                \"使用 'get_weather' 工具查找相关信息。\"\n",
    "                \"当用户询需要将一些信息记录到本地的时候，\"\n",
    "                \"使用 'write_file' 将指定内容记录到本地\"    \n",
    "                \"如果工具返回错误，礼貌地告知用户。\",\n",
    "    tools=[get_weather, write_file], \n",
    ")\n",
    "\n",
    "print(f\"Agent '{multi_tool_agent.name}' created using model '{model}'.\")"
   ]
  },
  {
   "cell_type": "code",
   "execution_count": 46,
   "id": "85d3580a-7bee-49df-98f3-73948eef5b91",
   "metadata": {},
   "outputs": [],
   "source": [
    "runner = Runner(\n",
    "    agent=multi_tool_agent, \n",
    "    app_name=APP_NAME,   \n",
    "    session_service=session_service \n",
    ")"
   ]
  },
  {
   "cell_type": "markdown",
   "id": "f100e4cf-2550-4f08-9a85-0d256247aab1",
   "metadata": {},
   "source": [
    "然后进行对话："
   ]
  },
  {
   "cell_type": "code",
   "execution_count": 48,
   "id": "9855a3e9-fd77-4dc7-bbf0-cc9de1ec509e",
   "metadata": {},
   "outputs": [],
   "source": [
    "query='你好，请先帮我查询北京和杭州今天天气，再将其记录到本地文档中'"
   ]
  },
  {
   "cell_type": "code",
   "execution_count": 49,
   "id": "7b3f4f42-20df-41d8-9c92-64322e70b227",
   "metadata": {
    "scrolled": true
   },
   "outputs": [
    {
     "name": "stdout",
     "output_type": "stream",
     "text": [
      "\n",
      ">>> User Query: 你好，请先帮我查询北京和杭州今天天气，再将其记录到本地文档中\n",
      "  [Event] Author: multi_tool_agent, Type: Event, Final: False, Content: parts=[Part(video_metadata=None, thought=None, code_execution_result=None, executable_code=None, file_data=None, function_call=FunctionCall(id='call_0_011abd9e-2133-4339-aac4-5967b695adc6', args={'city': 'Beijing'}, name='get_weather'), function_response=None, inline_data=None, text=None), Part(video_metadata=None, thought=None, code_execution_result=None, executable_code=None, file_data=None, function_call=FunctionCall(id='call_1_1604d47b-0946-4cfa-ab9b-e3d703993378', args={'city': 'Hangzhou'}, name='get_weather'), function_response=None, inline_data=None, text=None)] role='model'\n",
      "  [Event] Author: multi_tool_agent, Type: Event, Final: False, Content: parts=[Part(video_metadata=None, thought=None, code_execution_result=None, executable_code=None, file_data=None, function_call=None, function_response=FunctionResponse(id='call_0_011abd9e-2133-4339-aac4-5967b695adc6', name='get_weather', response={'result': '🌍 Beijing, CN\\n🌡 温度: 24.94°C\\n💧 湿度: 17%\\n🌬 风速: 4.68 m/s\\n🌤 天气: 晴\\n'}), inline_data=None, text=None), Part(video_metadata=None, thought=None, code_execution_result=None, executable_code=None, file_data=None, function_call=None, function_response=FunctionResponse(id='call_1_1604d47b-0946-4cfa-ab9b-e3d703993378', name='get_weather', response={'result': '🌍 Hangzhou, CN\\n🌡 温度: 25.95°C\\n💧 湿度: 42%\\n🌬 风速: 5.78 m/s\\n🌤 天气: 多云\\n'}), inline_data=None, text=None)] role='user'\n",
      "  [Event] Author: multi_tool_agent, Type: Event, Final: False, Content: parts=[Part(video_metadata=None, thought=None, code_execution_result=None, executable_code=None, file_data=None, function_call=FunctionCall(id='call_0_1318973d-4c30-44be-a769-6b5c6a4bb032', args={'content': '北京天气：\\n🌍 Beijing, CN\\n🌡 温度: 24.94°C\\n💧 湿度: 17%\\n🌬 风速: 4.68 m/s\\n☀ 天气: 晴\\n\\n杭州天气：\\n🌍 Hangzhou, CN\\n🌡 温度: 25.95°C\\n💧 湿度: 42%\\n🌬 风速: 5.78 m/s\\n☁ 天气: 多云'}, name='write_file'), function_response=None, inline_data=None, text=None)] role='model'\n",
      "  [Event] Author: multi_tool_agent, Type: Event, Final: False, Content: parts=[Part(video_metadata=None, thought=None, code_execution_result=None, executable_code=None, file_data=None, function_call=None, function_response=FunctionResponse(id='call_0_1318973d-4c30-44be-a769-6b5c6a4bb032', name='write_file', response={'result': '已成功写入本地文件。'}), inline_data=None, text=None)] role='user'\n",
      "  [Event] Author: multi_tool_agent, Type: Event, Final: True, Content: parts=[Part(video_metadata=None, thought=None, code_execution_result=None, executable_code=None, file_data=None, function_call=None, function_response=None, inline_data=None, text='北京和杭州今天的天气如下：\\n\\n**北京天气**  \\n🌍 Beijing, CN  \\n🌡 温度: 24.94°C  \\n💧 湿度: 17%  \\n🌬 风速: 4.68 m/s  \\n☀ 天气: 晴  \\n\\n**杭州天气**  \\n🌍 Hangzhou, CN  \\n🌡 温度: 25.95°C  \\n💧 湿度: 42%  \\n🌬 风速: 5.78 m/s  \\n☁ 天气: 多云  \\n\\n这些信息已成功写入本地文件。')] role='model'\n",
      "<<< Agent Response: 北京和杭州今天的天气如下：\n",
      "\n",
      "**北京天气**  \n",
      "🌍 Beijing, CN  \n",
      "🌡 温度: 24.94°C  \n",
      "💧 湿度: 17%  \n",
      "🌬 风速: 4.68 m/s  \n",
      "☀ 天气: 晴  \n",
      "\n",
      "**杭州天气**  \n",
      "🌍 Hangzhou, CN  \n",
      "🌡 温度: 25.95°C  \n",
      "💧 湿度: 42%  \n",
      "🌬 风速: 5.78 m/s  \n",
      "☁ 天气: 多云  \n",
      "\n",
      "这些信息已成功写入本地文件。\n"
     ]
    }
   ],
   "source": [
    "await call_agent_async(query, runner, USER_ID, SESSION_ID)"
   ]
  },
  {
   "cell_type": "markdown",
   "id": "bb3b311e-a87a-4aaf-8b7a-5200240ab944",
   "metadata": {},
   "source": [
    "注意看，此时第二个事件是同时调用两次外部函数查询天气："
   ]
  },
  {
   "cell_type": "code",
   "execution_count": 52,
   "id": "015502b8-5a9b-46de-9440-06bec096f060",
   "metadata": {},
   "outputs": [
    {
     "data": {
      "text/plain": [
       "Event(content=Content(parts=[Part(video_metadata=None, thought=None, code_execution_result=None, executable_code=None, file_data=None, function_call=FunctionCall(id='call_0_011abd9e-2133-4339-aac4-5967b695adc6', args={'city': 'Beijing'}, name='get_weather'), function_response=None, inline_data=None, text=None), Part(video_metadata=None, thought=None, code_execution_result=None, executable_code=None, file_data=None, function_call=FunctionCall(id='call_1_1604d47b-0946-4cfa-ab9b-e3d703993378', args={'city': 'Hangzhou'}, name='get_weather'), function_response=None, inline_data=None, text=None)], role='model'), grounding_metadata=None, partial=False, turn_complete=None, error_code=None, error_message=None, interrupted=None, custom_metadata=None, invocation_id='e-266fabc7-b44c-4e91-a1ff-539146ea55c9', author='multi_tool_agent', actions=EventActions(skip_summarization=None, state_delta={}, artifact_delta={}, transfer_to_agent=None, escalate=None, requested_auth_configs={}), long_running_tool_ids=set(), branch=None, id='hDtH409E', timestamp=1745827642.84536)"
      ]
     },
     "execution_count": 52,
     "metadata": {},
     "output_type": "execute_result"
    }
   ],
   "source": [
    "session_service.sessions['weather_app']['user_2']['session_002'].events[1]"
   ]
  },
  {
   "cell_type": "markdown",
   "id": "33e5cc19-e1c7-4372-baf5-395f503a3745",
   "metadata": {},
   "source": [
    "第三个事件是查询到天气"
   ]
  },
  {
   "cell_type": "code",
   "execution_count": 53,
   "id": "b3cb01fa-0fac-4ed9-b075-9507f80e0d37",
   "metadata": {},
   "outputs": [
    {
     "data": {
      "text/plain": [
       "Event(content=Content(parts=[Part(video_metadata=None, thought=None, code_execution_result=None, executable_code=None, file_data=None, function_call=None, function_response=FunctionResponse(id='call_0_011abd9e-2133-4339-aac4-5967b695adc6', name='get_weather', response={'result': '🌍 Beijing, CN\\n🌡 温度: 24.94°C\\n💧 湿度: 17%\\n🌬 风速: 4.68 m/s\\n🌤 天气: 晴\\n'}), inline_data=None, text=None), Part(video_metadata=None, thought=None, code_execution_result=None, executable_code=None, file_data=None, function_call=None, function_response=FunctionResponse(id='call_1_1604d47b-0946-4cfa-ab9b-e3d703993378', name='get_weather', response={'result': '🌍 Hangzhou, CN\\n🌡 温度: 25.95°C\\n💧 湿度: 42%\\n🌬 风速: 5.78 m/s\\n🌤 天气: 多云\\n'}), inline_data=None, text=None)], role='user'), grounding_metadata=None, partial=None, turn_complete=None, error_code=None, error_message=None, interrupted=None, custom_metadata=None, invocation_id='5JWwhAzt', author='multi_tool_agent', actions=EventActions(skip_summarization=None, state_delta={}, artifact_delta={}, transfer_to_agent=None, escalate=None, requested_auth_configs={}), long_running_tool_ids=None, branch=None, id='An5GOoJj', timestamp=1745827649.353701)"
      ]
     },
     "execution_count": 53,
     "metadata": {},
     "output_type": "execute_result"
    }
   ],
   "source": [
    "session_service.sessions['weather_app']['user_2']['session_002'].events[2]"
   ]
  },
  {
   "cell_type": "markdown",
   "id": "3e70b841-0d0b-4dfd-b457-6b6503a337a9",
   "metadata": {},
   "source": [
    "而紧接着第四个事件就是调用外部函数将天气信息写入本地："
   ]
  },
  {
   "cell_type": "code",
   "execution_count": 54,
   "id": "99179d42-d3ad-46c2-8404-b2394a2ced0d",
   "metadata": {},
   "outputs": [
    {
     "data": {
      "text/plain": [
       "Event(content=Content(parts=[Part(video_metadata=None, thought=None, code_execution_result=None, executable_code=None, file_data=None, function_call=FunctionCall(id='call_0_1318973d-4c30-44be-a769-6b5c6a4bb032', args={'content': '北京天气：\\n🌍 Beijing, CN\\n🌡 温度: 24.94°C\\n💧 湿度: 17%\\n🌬 风速: 4.68 m/s\\n☀ 天气: 晴\\n\\n杭州天气：\\n🌍 Hangzhou, CN\\n🌡 温度: 25.95°C\\n💧 湿度: 42%\\n🌬 风速: 5.78 m/s\\n☁ 天气: 多云'}, name='write_file'), function_response=None, inline_data=None, text=None)], role='model'), grounding_metadata=None, partial=False, turn_complete=None, error_code=None, error_message=None, interrupted=None, custom_metadata=None, invocation_id='e-266fabc7-b44c-4e91-a1ff-539146ea55c9', author='multi_tool_agent', actions=EventActions(skip_summarization=None, state_delta={}, artifact_delta={}, transfer_to_agent=None, escalate=None, requested_auth_configs={}), long_running_tool_ids=set(), branch=None, id='idkh8F7r', timestamp=1745827650.499183)"
      ]
     },
     "execution_count": 54,
     "metadata": {},
     "output_type": "execute_result"
    }
   ],
   "source": [
    "session_service.sessions['weather_app']['user_2']['session_002'].events[3]"
   ]
  },
  {
   "cell_type": "markdown",
   "id": "197bd858-375e-4201-a6b3-50ffaa592054",
   "metadata": {},
   "source": [
    "由此即完成了一个多工具串联调用执行流程，基本流程如下："
   ]
  },
  {
   "cell_type": "markdown",
   "id": "66cb12ea-4376-456c-8363-dbb3988966db",
   "metadata": {},
   "source": [
    "<center><img src=\"https://ml2022.oss-cn-hangzhou.aliyuncs.com/img/image-20250428160830848.png\" alt=\"image-20250428160830848\" style=\"zoom:33%;\" />"
   ]
  },
  {
   "cell_type": "markdown",
   "id": "c2ca8dfb-274e-4604-a074-92c470f739f7",
   "metadata": {},
   "source": [
    "### 3. ADK工具调用报错处理流程"
   ]
  },
  {
   "cell_type": "markdown",
   "id": "e000ae2c-df1d-4f5b-a59c-dc64ae544c62",
   "metadata": {},
   "source": [
    "&emsp;&emsp;接下来我们继续介绍ADK在进行外部工具调用报错时的处理流程。需要注意的是，测试智能体开发框架的报错处理流程是至关重要的，无论是ADK还是OpenAI的Agents SDK，其智能体运行器Runner本质上都是执行一个loop，会一直执行到能获得一个结果为止。因此我们需要设置一个注定无法运行的外部函数，测试ADK在进行试错时会尝试几次："
   ]
  },
  {
   "cell_type": "code",
   "execution_count": 55,
   "id": "f74f699b-ff87-4656-89e9-ce2f9af179c2",
   "metadata": {},
   "outputs": [],
   "source": [
    "def write_file_now(content: str) -> str:\n",
    "    \"\"\"\n",
    "    Writes the specified content to a local file.\n",
    "\n",
    "    Args:\n",
    "        content (str): The content to be written to the file.\n",
    "\n",
    "    Returns:\n",
    "        str: A message indicating whether the content was successfully written to the file.\n",
    "             In this case, it returns \"已成功写入本地文件\" if the writing is successful.\n",
    "    \"\"\"\n",
    "    \n",
    "    return \"输入信息格式不对，未能成果写入本地\""
   ]
  },
  {
   "cell_type": "code",
   "execution_count": 56,
   "id": "85daa8eb-a3fb-4a00-9e92-15a19248d69c",
   "metadata": {},
   "outputs": [
    {
     "name": "stdout",
     "output_type": "stream",
     "text": [
      "Session created: App='test_app', User='user_3', Session='session_001'\n"
     ]
    }
   ],
   "source": [
    "# 重新创建基础会话信息和会话存储器\n",
    "session_service = InMemorySessionService()\n",
    "\n",
    "APP_NAME = \"test_app\"\n",
    "USER_ID = \"user_3\"\n",
    "SESSION_ID = \"session_001\"\n",
    "\n",
    "session = session_service.create_session(\n",
    "    app_name=APP_NAME,\n",
    "    user_id=USER_ID,\n",
    "    session_id=SESSION_ID\n",
    ")\n",
    "print(f\"Session created: App='{APP_NAME}', User='{USER_ID}', Session='{SESSION_ID}'\")"
   ]
  },
  {
   "cell_type": "code",
   "execution_count": 57,
   "id": "9bedc169-0696-4441-86f8-4beeb2710369",
   "metadata": {},
   "outputs": [
    {
     "name": "stdout",
     "output_type": "stream",
     "text": [
      "Agent 'multi_tool_agent' created using model 'model='deepseek/deepseek-chat' llm_client=<google.adk.models.lite_llm.LiteLLMClient object at 0x000001F7313C3C10>'.\n"
     ]
    }
   ],
   "source": [
    "# 重新创建Agent\n",
    "write_file_agent = Agent(\n",
    "    name=\"write_file_agent\",\n",
    "    model=model, \n",
    "    description=\"用于进行信息记录的智能体\",\n",
    "    instruction=\"你是一个乐于助人的助手。\"\n",
    "                \"当用户询需要将一些信息记录到本地的时候，\"\n",
    "                \"使用 'write_file_now' 将指定内容记录到本地\"    \n",
    "                \"如果工具返回错误，礼貌地告知用户。\",\n",
    "    tools=[write_file_now], \n",
    ")\n",
    "\n",
    "print(f\"Agent '{multi_tool_agent.name}' created using model '{model}'.\")"
   ]
  },
  {
   "cell_type": "code",
   "execution_count": 58,
   "id": "b793ef73-4941-4027-97f7-2f17be3718fc",
   "metadata": {},
   "outputs": [],
   "source": [
    "runner = Runner(\n",
    "    agent=write_file_agent, \n",
    "    app_name=APP_NAME,   \n",
    "    session_service=session_service \n",
    ")"
   ]
  },
  {
   "cell_type": "markdown",
   "id": "09e64944-d011-4e36-b363-9f0f04300b63",
   "metadata": {},
   "source": [
    "然后进行对话："
   ]
  },
  {
   "cell_type": "code",
   "execution_count": 59,
   "id": "b0602a8c-6db1-4219-8270-fe5fb90c0945",
   "metadata": {},
   "outputs": [],
   "source": [
    "query='请帮我围绕智能体编写一首俳句，并写入本地文档。'"
   ]
  },
  {
   "cell_type": "code",
   "execution_count": 60,
   "id": "d297c04c-decf-4db6-88f8-62b12f12f18d",
   "metadata": {
    "scrolled": true
   },
   "outputs": [
    {
     "name": "stdout",
     "output_type": "stream",
     "text": [
      "\n",
      ">>> User Query: 请帮我围绕智能体编写一首俳句，并写入本地文档。\n",
      "  [Event] Author: write_file_agent, Type: Event, Final: False, Content: parts=[Part(video_metadata=None, thought=None, code_execution_result=None, executable_code=None, file_data=None, function_call=FunctionCall(id='call_0_b2e879ba-406e-4e83-844e-0ddc1df0ba5b', args={'content': '智能体如风，\\n代码流转似清泉，\\n智慧藏其中。'}, name='write_file_now'), function_response=None, inline_data=None, text=None)] role='model'\n",
      "  [Event] Author: write_file_agent, Type: Event, Final: False, Content: parts=[Part(video_metadata=None, thought=None, code_execution_result=None, executable_code=None, file_data=None, function_call=None, function_response=FunctionResponse(id='call_0_b2e879ba-406e-4e83-844e-0ddc1df0ba5b', name='write_file_now', response={'result': '输入信息格式不对，未能成果写入本地'}), inline_data=None, text=None)] role='user'\n",
      "  [Event] Author: write_file_agent, Type: Event, Final: False, Content: parts=[Part(video_metadata=None, thought=None, code_execution_result=None, executable_code=None, file_data=None, function_call=None, function_response=None, inline_data=None, text='看起来写入文件时出现了一些问题，可能是格式不符合要求。我再尝试一次，确保内容正确写入。'), Part(video_metadata=None, thought=None, code_execution_result=None, executable_code=None, file_data=None, function_call=FunctionCall(id='call_0_1cd79330-0e23-4b76-b050-cc77dc981d3e', args={'content': '智能体如风，\\n代码流转似清泉，\\n智慧藏其中。'}, name='write_file_now'), function_response=None, inline_data=None, text=None)] role='model'\n",
      "  [Event] Author: write_file_agent, Type: Event, Final: False, Content: parts=[Part(video_metadata=None, thought=None, code_execution_result=None, executable_code=None, file_data=None, function_call=None, function_response=FunctionResponse(id='call_0_1cd79330-0e23-4b76-b050-cc77dc981d3e', name='write_file_now', response={'result': '输入信息格式不对，未能成果写入本地'}), inline_data=None, text=None)] role='user'\n",
      "  [Event] Author: write_file_agent, Type: Event, Final: True, Content: parts=[Part(video_metadata=None, thought=None, code_execution_result=None, executable_code=None, file_data=None, function_call=None, function_response=None, inline_data=None, text='抱歉，我尝试了两次但未能成功将俳句写入本地文件。可能是工具对输入格式有特殊要求。以下是您需要的俳句内容，您可以手动保存：\\n\\n```\\n智能体如风，\\n代码流转似清泉，\\n智慧藏其中。\\n```\\n\\n如果您有其他需求，请随时告诉我！')] role='model'\n",
      "<<< Agent Response: 抱歉，我尝试了两次但未能成功将俳句写入本地文件。可能是工具对输入格式有特殊要求。以下是您需要的俳句内容，您可以手动保存：\n",
      "\n",
      "```\n",
      "智能体如风，\n",
      "代码流转似清泉，\n",
      "智慧藏其中。\n",
      "```\n",
      "\n",
      "如果您有其他需求，请随时告诉我！\n"
     ]
    }
   ],
   "source": [
    "await call_agent_async(query, runner, USER_ID, SESSION_ID)"
   ]
  },
  {
   "cell_type": "markdown",
   "id": "809e0d11-3088-462a-bdb0-816f63c04741",
   "metadata": {},
   "source": [
    "通过观察事件流不难发现，ADK在调用外部函数报错时，总共会尝试三次，属于正常范围，可以放心使用。"
   ]
  },
  {
   "cell_type": "markdown",
   "id": "3b4bc22a-6848-4718-9901-d3cd14a9a575",
   "metadata": {},
   "source": [
    "## 三、ADK+外部工具的前端调用与测试流程"
   ]
  },
  {
   "cell_type": "markdown",
   "id": "ff487f35-d995-4b69-a587-3c99f8359cbc",
   "metadata": {},
   "source": [
    "### 1. ADK基础外部工具调用流程"
   ]
  },
  {
   "cell_type": "markdown",
   "id": "ff966200-a13f-47c7-aa2d-00599b708fb3",
   "metadata": {},
   "source": [
    "&emsp;&emsp;接下来我们进一步尝试在Web端调用包含外部工具的ADK开发的Agent。借助Dev UI，我们能够更加直观的观察到Agent调用外部哦工具的事件流，并进行更高效率的开发。"
   ]
  },
  {
   "cell_type": "markdown",
   "id": "03d0e619-1361-4edd-bb2e-16cec443f55b",
   "metadata": {},
   "source": [
    "&emsp;&emsp;顺着上一小节的前端项目继续，我们回到ADK_Chat文件夹中："
   ]
  },
  {
   "cell_type": "markdown",
   "id": "d81c8ecb-5458-4b53-bb5f-78f479bf147b",
   "metadata": {},
   "source": [
    "<center><img src=\"https://ml2022.oss-cn-hangzhou.aliyuncs.com/img/image-20250428112014361.png\" style=\"zoom: 50%;\" />"
   ]
  },
  {
   "cell_type": "markdown",
   "id": "09b8e0d7-a67a-46fd-98de-ea0eeab54fa1",
   "metadata": {},
   "source": [
    "修改agent.py脚本："
   ]
  },
  {
   "cell_type": "markdown",
   "id": "3f7b5e4a-5ae6-47d5-a213-dd0353b1821b",
   "metadata": {},
   "source": [
    "```css\n",
    "ADK_Chat/\n",
    "├── test_agent/\n",
    "│   ├── agent.py\n",
    "│   ├── __init__.py\n",
    "│   ├── .env\n",
    "├── __init__.py\n",
    "└── ...\n",
    "```"
   ]
  },
  {
   "cell_type": "markdown",
   "id": "3a57938b-7e12-403c-bb26-174c8bdfe492",
   "metadata": {},
   "source": [
    "删除原有内容，写入如下新的内容："
   ]
  },
  {
   "cell_type": "markdown",
   "id": "46d079a0-046d-4540-a46a-8d64bfb47442",
   "metadata": {},
   "source": [
    "```python\n",
    "from google.adk.agents import Agent\n",
    "from google.adk.models.lite_llm import LiteLlm\n",
    "\n",
    "import os\n",
    "from dotenv import load_dotenv\n",
    "load_dotenv(override=True)\n",
    "import requests,json\n",
    "\n",
    "\n",
    "DS_API_KEY = os.getenv(\"DS_API_KEY\")\n",
    "DS_BASE_URL = os.getenv(\"DS_BASE_URL\")\n",
    "\n",
    "model = LiteLlm(\n",
    "    model=\"deepseek/deepseek-chat\",  \n",
    "    api_base=DS_BASE_URL,\n",
    "    api_key=DS_API_KEY\n",
    ")\n",
    "\n",
    "def get_weather(city: str) -> str:\n",
    "    \"\"\"\n",
    "    Retrieves the current weather report for a specified city.\n",
    "\n",
    "    Args:\n",
    "        city (str): The name of the city (e.g., \"Beijing\", \"Shanghai\").\n",
    "                   Note: For cities in China, use the city's English name (e.g., \"Beijing\").\n",
    "\n",
    "    Returns:\n",
    "        dict: A dictionary containing the weather information.\n",
    "              Includes a 'status' key ('success' or 'error').\n",
    "              If 'success', includes a 'report' key with weather details.\n",
    "              If 'error', includes an 'error_message' key.\n",
    "    \"\"\"\n",
    "    # Step 1.构建请求\n",
    "    url = \"https://api.openweathermap.org/data/2.5/weather\"\n",
    "\n",
    "    # Step 2.设置查询参数\n",
    "    params = {\n",
    "        \"q\": city,               \n",
    "        \"appid\": os.getenv(\"OPENWEATHER_API_KEY\"),    # 输入自己的API key\n",
    "        \"units\": \"metric\",            # 使用摄氏度而不是华氏度\n",
    "        \"lang\":\"zh_cn\"                # 输出语言为简体中文\n",
    "    }\n",
    "\n",
    "    # Step 3.发送GET请求\n",
    "    response = requests.get(url, params=params)\n",
    "    \n",
    "    # Step 4.解析响应\n",
    "    data = response.json()\n",
    "    city = data.get(\"name\", \"未知\")\n",
    "    country = data.get(\"sys\", {}).get(\"country\", \"未知\")\n",
    "    temp = data.get(\"main\", {}).get(\"temp\", \"N/A\")\n",
    "    humidity = data.get(\"main\", {}).get(\"humidity\", \"N/A\")\n",
    "    wind_speed = data.get(\"wind\", {}).get(\"speed\", \"N/A\")\n",
    "    weather_list = data.get(\"weather\", [{}])\n",
    "    description = weather_list[0].get(\"description\", \"未知\")\n",
    "\n",
    "    return (\n",
    "        f\"🌍 {city}, {country}\\n\"\n",
    "        f\"🌡 温度: {temp}°C\\n\"\n",
    "        f\"💧 湿度: {humidity}%\\n\"\n",
    "        f\"🌬 风速: {wind_speed} m/s\\n\"\n",
    "        f\"🌤 天气: {description}\\n\"\n",
    "    )\n",
    "\n",
    "def write_file(content: str) -> str:\n",
    "    \"\"\"\n",
    "    Writes the specified content to a local file.\n",
    "\n",
    "    Args:\n",
    "        content (str): The content to be written to the file.\n",
    "\n",
    "    Returns:\n",
    "        str: A message indicating whether the content was successfully written to the file.\n",
    "             In this case, it returns \"已成功写入本地文件\" if the writing is successful.\n",
    "    \"\"\"\n",
    "    \n",
    "    return \"已成功写入本地文件。\"\n",
    "\n",
    "\n",
    "root_agent = Agent(\n",
    "    name=\"multi_tool_agent\",\n",
    "    model=model, \n",
    "    description=\"用于进行天气查询和记录的智能体\",\n",
    "    instruction=\"你是一个乐于助人的助手。\"\n",
    "                \"当用户询问特定城市的天气时，\"\n",
    "                \"使用 'get_weather' 工具查找相关信息。\"\n",
    "                \"当用户询需要将一些信息记录到本地的时候，\"\n",
    "                \"使用 'write_file' 将指定内容记录到本地\"    \n",
    "                \"如果工具返回错误，礼貌地告知用户。\",\n",
    "    tools=[get_weather, write_file], \n",
    ")\n",
    "```"
   ]
  },
  {
   "cell_type": "markdown",
   "id": "107e2434-fe4c-40a5-bde0-eae57381841a",
   "metadata": {},
   "source": [
    "同时修改`.env`文件，新增一个用于进行天气查询的`OPENWEATHER_API_KEY`字段："
   ]
  },
  {
   "cell_type": "markdown",
   "id": "59524f33-83bc-4551-bba4-9771af6cca81",
   "metadata": {},
   "source": [
    "```bash\n",
    "DS_BASE_URL=https://api.deepseek.com\n",
    "DS_API_KEY=YOUR_DS_API_KEY\n",
    "OPENWEATHER_API_KEY=YOUR_WEATHER_API_KEY\n",
    "```"
   ]
  },
  {
   "cell_type": "markdown",
   "id": "85d7bae6-ed4a-46df-8c4f-4a63ef534112",
   "metadata": {},
   "source": [
    "<center><img src=\"https://ml2022.oss-cn-hangzhou.aliyuncs.com/img/image-20250428162451120.png\" alt=\"image-20250428162451120\" style=\"zoom:50%;\" />"
   ]
  },
  {
   "cell_type": "markdown",
   "id": "86be4a2c-d609-4cc6-8299-2c0b9bb4fd72",
   "metadata": {},
   "source": [
    "然后输入运行指令：\n",
    "```bash\n",
    "adk web --port 8002\n",
    "```"
   ]
  },
  {
   "cell_type": "markdown",
   "id": "db440b1e-e811-47b7-babc-51b027b28f6b",
   "metadata": {},
   "source": [
    "<center><img src=\"https://ml2022.oss-cn-hangzhou.aliyuncs.com/img/image-20250428163502309.png\" alt=\"image-20250428163502309\" style=\"zoom:33%;\" />"
   ]
  },
  {
   "cell_type": "markdown",
   "id": "d213c16a-4184-400d-b477-99ac6c1ab021",
   "metadata": {},
   "source": [
    "即可在前端开启对话，测试多工具并联和串联调用："
   ]
  },
  {
   "cell_type": "markdown",
   "id": "b88f6da4-c90a-433c-957f-69685084bde6",
   "metadata": {},
   "source": [
    "<center><img src=\"https://ml2022.oss-cn-hangzhou.aliyuncs.com/img/image-20250428164040486.png\" alt=\"image-20250428164040486\" style=\"zoom:33%;\" />"
   ]
  },
  {
   "cell_type": "markdown",
   "id": "7ac45eb5-293e-4998-8b18-559153118f4e",
   "metadata": {},
   "source": [
    "需要注意的是，左侧默认显示的就是现在的事件流，而对话中显示的则是调用工具和响应的情况，同时我们点击对话中的工具选项，还能看到对应的事件："
   ]
  },
  {
   "cell_type": "markdown",
   "id": "8eb8e78c-2484-4cba-baa3-72e0f15a2266",
   "metadata": {},
   "source": [
    "如点击第一个get_weather，代表的含义是第一次查询天气请求，由Agent发起，属于第二个事件："
   ]
  },
  {
   "cell_type": "markdown",
   "id": "2447edbd-6212-4d6c-b5e1-073905faccba",
   "metadata": {},
   "source": [
    "<center><img src=\"https://ml2022.oss-cn-hangzhou.aliyuncs.com/img/image-20250428164156573.png\" alt=\"image-20250428164156573\" style=\"zoom:33%;\" />"
   ]
  },
  {
   "cell_type": "markdown",
   "id": "c177b4e2-d845-4e55-924b-fd53dec0594a",
   "metadata": {},
   "source": [
    "类似的，如果点击最后一个write_file，则代表将查询到的信息写入本地，此时对应第8个事件："
   ]
  },
  {
   "cell_type": "markdown",
   "id": "0011b792-6a87-4491-9aff-9545864b9c6f",
   "metadata": {},
   "source": [
    "<center><img src=\"https://ml2022.oss-cn-hangzhou.aliyuncs.com/img/image-20250428164300939.png\" alt=\"image-20250428164300939\" style=\"zoom:33%;\" />"
   ]
  },
  {
   "cell_type": "markdown",
   "id": "5ce7d265-d82b-4c6f-bcec-c518fca3fe3a",
   "metadata": {},
   "source": [
    "同时点击右上角还能开启新的对话，多个历史对话可以在Sessions中进行查看："
   ]
  },
  {
   "cell_type": "markdown",
   "id": "0912b056-e11a-42c1-b59f-cca3e48a76cc",
   "metadata": {},
   "source": [
    "<center><img src=\"https://ml2022.oss-cn-hangzhou.aliyuncs.com/img/image-20250428164433612.png\" alt=\"image-20250428164433612\" style=\"zoom:33%;\" />"
   ]
  },
  {
   "cell_type": "markdown",
   "id": "f6c4dfd2-f6fb-48b4-83f3-57b0eb63ffde",
   "metadata": {},
   "source": [
    "完整对话演示流程如下："
   ]
  },
  {
   "cell_type": "code",
   "execution_count": 64,
   "id": "d4baea0f-4d25-4a7f-bc4a-85abee073f5b",
   "metadata": {},
   "outputs": [
    {
     "data": {
      "text/html": [
       "<video src=\"https://ml2022.oss-cn-hangzhou.aliyuncs.com/2025-04-28%2016-38-49.mp4\" controls  width=\"800\"  height=\"400\">\n",
       "      Your browser does not support the <code>video</code> element.\n",
       "    </video>"
      ],
      "text/plain": [
       "<IPython.core.display.Video object>"
      ]
     },
     "execution_count": 64,
     "metadata": {},
     "output_type": "execute_result"
    }
   ],
   "source": [
    "Video(\"https://ml2022.oss-cn-hangzhou.aliyuncs.com/2025-04-28%2016-38-49.mp4\", width=800, height=400)"
   ]
  },
  {
   "cell_type": "markdown",
   "id": "9b1c4dd0-c529-4142-98c5-cd50972f1698",
   "metadata": {},
   "source": [
    "至此我们就完成了基于ADK构建多工具的Agent完整流程。"
   ]
  },
  {
   "cell_type": "markdown",
   "id": "f6a86b8c-ce97-48b2-b1a8-7e3276d1279a",
   "metadata": {},
   "source": [
    "### 2. 更多外部工具快速调用流程"
   ]
  },
  {
   "cell_type": "markdown",
   "id": "81434cdb-603a-46bb-bef4-3d378994bff1",
   "metadata": {},
   "source": [
    "&emsp;此外，在当前项目基础上，我们还能快速添加一些外部工具进行测试。例如添加一个本地查询MySQL的工具，我们只需要先在agent.py脚本进行如下修改："
   ]
  },
  {
   "cell_type": "markdown",
   "id": "56572601-7deb-4af1-a061-6373b4fbb26e",
   "metadata": {},
   "source": [
    "```python\n",
    "# 额外导入pymysql\n",
    "import pymysql\n",
    "\n",
    "# 新增一个外部函数\n",
    "def sql_inter(sql_query: str) -> str:\n",
    "    \"\"\"\n",
    "    Executes a SQL query on a local MySQL database and returns the results.\n",
    "\n",
    "    Args:\n",
    "        sql_query (str): A SQL query string to be executed on the MySQL database. \n",
    "                          It will query tables in the 'telco_db' database and retrieve related information.\n",
    "\n",
    "    Returns:\n",
    "        str: The results of the SQL query execution, returned as a JSON-formatted string.\n",
    "    \"\"\"\n",
    "    \n",
    "    connection = pymysql.connect(\n",
    "            host='localhost',  # Database address\n",
    "            user='root',       # Database username\n",
    "            passwd='123',      # Database password\n",
    "            db='telco_db',     # Database name\n",
    "            charset='utf8'     # Character set selection\n",
    "        )\n",
    "    \n",
    "    try:\n",
    "        with connection.cursor() as cursor:\n",
    "            # Execute the SQL query\n",
    "            cursor.execute(sql_query)\n",
    "\n",
    "            # Fetch the query results\n",
    "            results = cursor.fetchall()\n",
    "\n",
    "    finally:\n",
    "        connection.close()\n",
    "    \n",
    "    return json.dumps(results)\n",
    "\n",
    "\n",
    "# 修改root_agent\n",
    "root_agent = Agent(\n",
    "    name=\"multi_tool_agent\",\n",
    "    model=model, \n",
    "    description=\"用于进行天气查询、记录和数据库查询的智能体\",\n",
    "    instruction=\"你是一个乐于助人的助手。\"\n",
    "                \"当用户询问特定城市的天气时，\"\n",
    "                \"使用 'get_weather' 工具查找相关信息。\"\n",
    "                \"当用户询需要将一些信息记录到本地的时候，\"\n",
    "                \"使用 'write_file' 将指定内容记录到本地。\"\n",
    "                \"当用户询需要查询数据库信息的时候，\"\n",
    "                \"使用 'sql_inter' 查询数据库中各表的基本信息。\"    \n",
    "                \"如果工具返回错误，礼貌地告知用户。\",\n",
    "    tools=[get_weather, write_file, sql_inter], \n",
    ")\n",
    "\n",
    "```"
   ]
  },
  {
   "cell_type": "markdown",
   "id": "1cd53d70-faae-440f-a014-75b197cee42c",
   "metadata": {},
   "source": [
    "> 注，需要提前安装好MySQL，并导入一些表。"
   ]
  },
  {
   "cell_type": "markdown",
   "id": "fc8e393c-287f-4585-a12b-a15bfab1cf48",
   "metadata": {},
   "source": [
    "然后尝试运行即可：adk web --port 8002"
   ]
  },
  {
   "cell_type": "markdown",
   "id": "101a97c5-1f9a-48d2-8c42-dd78ffdaec64",
   "metadata": {},
   "source": [
    "<center><img src=\"https://ml2022.oss-cn-hangzhou.aliyuncs.com/img/image-20250428172731668.png\" alt=\"image-20250428172731668\" style=\"zoom:33%;\" />"
   ]
  },
  {
   "cell_type": "markdown",
   "id": "396698db-1e61-4d38-bdd3-751d93915efb",
   "metadata": {},
   "source": [
    "实际运行效果如下所示："
   ]
  },
  {
   "attachments": {},
   "cell_type": "markdown",
   "id": "fbb6cd91-75bd-45ca-9ec7-b9800fd1cc1a",
   "metadata": {},
   "source": [
    "<center><img src=\"https://ml2022.oss-cn-hangzhou.aliyuncs.com/img/image-20250428172840119.png\" alt=\"image-20250428172840119\" style=\"zoom:33%;\" />"
   ]
  },
  {
   "cell_type": "markdown",
   "id": "4971e093-cc47-4796-81b2-dde30ffbfa50",
   "metadata": {},
   "source": [
    "<center><img src=\"https://ml2022.oss-cn-hangzhou.aliyuncs.com/img/image-20250428173329745.png\" alt=\"image-20250428173329745\" style=\"zoom:33%;\" />"
   ]
  },
  {
   "cell_type": "markdown",
   "id": "6c9d11cd-17c5-4137-b2bf-1cb42d0d098d",
   "metadata": {},
   "source": [
    "能够发现，借助Dev Web UI，能够非常便捷的进行功能测试。"
   ]
  },
  {
   "cell_type": "markdown",
   "id": "d16aa235-f2a5-4af7-8f4d-994307a73f6c",
   "metadata": {},
   "source": [
    "### 3. ADK内置工具说明"
   ]
  },
  {
   "cell_type": "markdown",
   "id": "b08b6f41-029a-44bf-ae17-f708b9e4a7cf",
   "metadata": {},
   "source": [
    "&emsp;&emsp;除了可以自定义工具外，ADK还有非常丰富的内置工具，主要包括以下几类：\n",
    "- Gemini内置工具：包括谷歌搜索，谷歌云文档检索、代码解释器等工具；\n",
    "- 其他Agent框架工具：包括LangChain Tavily和 CrewAI工具等；\n",
    "- Google Cloud工具：谷歌云平台的API为主；"
   ]
  },
  {
   "cell_type": "markdown",
   "id": "c517fff5-b87f-408e-be8f-afe7e2ae3669",
   "metadata": {},
   "source": [
    "&emsp;&emsp;这里以Gemini模型的谷歌搜索为例进行演示："
   ]
  },
  {
   "cell_type": "code",
   "execution_count": 65,
   "id": "42c20ad1-0c5a-4c00-9d97-e9b33179da66",
   "metadata": {},
   "outputs": [],
   "source": [
    "from google.adk.tools import google_search\n",
    "from google.genai import types"
   ]
  },
  {
   "cell_type": "code",
   "execution_count": 69,
   "id": "3a4124bf-9284-43aa-9277-74abd33bc0b2",
   "metadata": {},
   "outputs": [],
   "source": [
    "import os\n",
    "\n",
    "# 设置代理\n",
    "os.environ['HTTP_PROXY'] = 'http://127.0.0.1:10080'\n",
    "os.environ['HTTPS_PROXY'] = 'http://127.0.0.1:10080'\n",
    "\n",
    "# 设置Gemini-API-KEY\n",
    "os.environ[\"GOOGLE_API_KEY\"] = \"YOUR_GOOGLE_API_KEY\""
   ]
  },
  {
   "cell_type": "code",
   "execution_count": 71,
   "id": "af077cb4-3e57-4600-bbbf-51fa32a52481",
   "metadata": {},
   "outputs": [],
   "source": [
    "APP_NAME=\"google_search_agent\"\n",
    "USER_ID=\"user1234\"\n",
    "SESSION_ID=\"1234\"\n",
    "\n",
    "\n",
    "root_agent = Agent(\n",
    "    name=\"basic_search_agent\",\n",
    "    model=\"gemini-2.0-flash\",\n",
    "    description=\"Agent to answer questions using Google Search.\",\n",
    "    instruction=\"I can answer your questions by searching the internet. Just ask me anything!\",\n",
    "    # google_search is a pre-built tool which allows the agent to perform Google searches.\n",
    "    tools=[google_search]\n",
    ")"
   ]
  },
  {
   "cell_type": "code",
   "execution_count": 72,
   "id": "6cd9e930-53d7-47c2-908b-8c7f1aa02757",
   "metadata": {},
   "outputs": [],
   "source": [
    "session_service = InMemorySessionService()\n",
    "session = session_service.create_session(app_name=APP_NAME, user_id=USER_ID, session_id=SESSION_ID)\n",
    "runner = Runner(agent=root_agent, app_name=APP_NAME, session_service=session_service)"
   ]
  },
  {
   "cell_type": "code",
   "execution_count": 73,
   "id": "bbceb3c5-5c91-43ce-b3ad-c8947371322c",
   "metadata": {},
   "outputs": [],
   "source": [
    "query = '请问今日AI热点新闻有哪些？'"
   ]
  },
  {
   "cell_type": "code",
   "execution_count": 74,
   "id": "89507294-8071-44bd-b04e-ae7c1d1967de",
   "metadata": {},
   "outputs": [
    {
     "name": "stdout",
     "output_type": "stream",
     "text": [
      "\n",
      ">>> User Query: 请问今日AI热点新闻有哪些？\n",
      "  [Event] Author: basic_search_agent, Type: Event, Final: True, Content: parts=[Part(video_metadata=None, thought=None, code_execution_result=None, executable_code=None, file_data=None, function_call=None, function_response=None, inline_data=None, text='根据我搜索到的信息，以下是今日（2025年4月27日）AI领域的一些热点新闻：\\n\\n*   **AI代理重塑旅游业：** AI正在改变全球旅游业，通过分析旅客的浏览记录和社交媒体足迹，AI代理可以为用户量身定制旅行方案，向传统旅行社发起挑战。\\n*   **AI芯片采购减少：** 蔚来李斌透露，公司一年减少了数十亿英伟达芯片采购。\\n*    **百度AI开发者大会：** 李彦宏发布了两大新模型和多款热门AI应用，以帮助开发者全面拥抱MCP。\\n*   **新型AI模型和应用：**\\n    *   阶跃星辰发布了图像编辑模型Step1X-Edit。\\n    *   Kimi开源了全新的音频基础模型。\\n    *   百度心响App全量上线，人人免费使用。\\n    *   北航推出了全开源TinyLLaVA-Video-R1。\\n*   **AI与各行业融合：**\\n    *   人工智能开始接管核电站的管理。\\n    *   阿里AI旗舰应用夸克发布了全新“AI相机”。\\n\\n此外，AI在医疗、金融、教育、法律等领域的应用也在不断推动行业大模型的发展和数字化转型。')] role='model'\n",
      "<<< Agent Response: 根据我搜索到的信息，以下是今日（2025年4月27日）AI领域的一些热点新闻：\n",
      "\n",
      "*   **AI代理重塑旅游业：** AI正在改变全球旅游业，通过分析旅客的浏览记录和社交媒体足迹，AI代理可以为用户量身定制旅行方案，向传统旅行社发起挑战。\n",
      "*   **AI芯片采购减少：** 蔚来李斌透露，公司一年减少了数十亿英伟达芯片采购。\n",
      "*    **百度AI开发者大会：** 李彦宏发布了两大新模型和多款热门AI应用，以帮助开发者全面拥抱MCP。\n",
      "*   **新型AI模型和应用：**\n",
      "    *   阶跃星辰发布了图像编辑模型Step1X-Edit。\n",
      "    *   Kimi开源了全新的音频基础模型。\n",
      "    *   百度心响App全量上线，人人免费使用。\n",
      "    *   北航推出了全开源TinyLLaVA-Video-R1。\n",
      "*   **AI与各行业融合：**\n",
      "    *   人工智能开始接管核电站的管理。\n",
      "    *   阿里AI旗舰应用夸克发布了全新“AI相机”。\n",
      "\n",
      "此外，AI在医疗、金融、教育、法律等领域的应用也在不断推动行业大模型的发展和数字化转型。\n"
     ]
    }
   ],
   "source": [
    "await call_agent_async(query, runner, USER_ID, SESSION_ID)"
   ]
  },
  {
   "cell_type": "markdown",
   "id": "a60f562d-b733-49af-a7fb-130ceabe2edf",
   "metadata": {},
   "source": [
    "借助谷歌搜索，能高效快速围绕互联网信息进行总结。"
   ]
  },
  {
   "cell_type": "markdown",
   "id": "5efb41f8-cc57-42de-b1f3-4aa36f8aa20c",
   "metadata": {},
   "source": [
    "---"
   ]
  },
  {
   "cell_type": "markdown",
   "id": "bf4b474f-df97-4401-b7ee-7b848821d6fd",
   "metadata": {},
   "source": [
    "### **<center> 更多ADK工具和Agent开发工具方法详见正课**"
   ]
  },
  {
   "cell_type": "markdown",
   "id": "4e93d233-3f29-4f92-81a3-f82df80b07f1",
   "metadata": {},
   "source": [
    "&emsp;&emsp;**更多关于ADK进阶工具使用方法，以及Agent开发相关内容讲解，详见[《2025大模型Agent智能体开发实战》(5月班)](https://ix9mq.xetslk.com/s/3u765N)付费课程。<span style=\"color:red;\">详细信息扫码添加助教，回复“大模型”，即可领取课程大纲&查看课程详情👇</span>**"
   ]
  },
  {
   "cell_type": "markdown",
   "id": "9793fef5-bfc3-4b1e-8316-e742d7bc6eda",
   "metadata": {},
   "source": [
    "<center><img src=\"https://ml2022.oss-cn-hangzhou.aliyuncs.com/img/b9ccfe4155bb650c83c4a061f3da131.jpg\" alt=\"b9ccfe4155bb650c83c4a061f3da131\" style=\"zoom: 15%;\" />"
   ]
  },
  {
   "cell_type": "markdown",
   "id": "958c8a94-cecd-41df-a5b5-bcf4f4ba7ba3",
   "metadata": {},
   "source": [
    "<center><img src=\"https://ml2022.oss-cn-hangzhou.aliyuncs.com/img/01dad5b6f552883b19da9b5863c9970.png\" alt=\"01dad5b6f552883b19da9b5863c9970\" style=\"zoom:50%;\" />"
   ]
  },
  {
   "cell_type": "markdown",
   "id": "db01c4be-7dc6-42ba-a6a6-ffebe0d8acd9",
   "metadata": {},
   "source": [
    "---"
   ]
  }
 ],
 "metadata": {
  "kernelspec": {
   "display_name": "Python 3 (ipykernel)",
   "language": "python",
   "name": "python3"
  },
  "language_info": {
   "codemirror_mode": {
    "name": "ipython",
    "version": 3
   },
   "file_extension": ".py",
   "mimetype": "text/x-python",
   "name": "python",
   "nbconvert_exporter": "python",
   "pygments_lexer": "ipython3",
   "version": "3.11.11"
  }
 },
 "nbformat": 4,
 "nbformat_minor": 5
}
