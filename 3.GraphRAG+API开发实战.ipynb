{
 "cells": [
  {
   "cell_type": "markdown",
   "id": "e3650c10-95af-4f0b-9019-e3b93df58844",
   "metadata": {},
   "source": [
    "## <font face=\"仿宋\">课程说明："
   ]
  },
  {
   "cell_type": "markdown",
   "id": "180014fb-046d-49b0-a305-1bf7f7b748eb",
   "metadata": {},
   "source": [
    "- 体验课内容节选自[《2025大模型Agent智能体开发实战》(7月班)](https://ix9mq.xetslk.com/s/3Zfsc8)完整版付费课程"
   ]
  },
  {
   "cell_type": "markdown",
   "id": "b7566ea6-47c6-461a-bcd8-721c27804020",
   "metadata": {},
   "source": [
    "&emsp;&emsp;体验课时间有限，若想深度学习大模型技术，欢迎大家报名由我主讲的[《2025大模型Agent智能体开发实战》(7月班)](https://ix9mq.xetslk.com/s/3Zfsc8)"
   ]
  },
  {
   "cell_type": "markdown",
   "id": "9aa8155b-e73d-403e-a2d2-f10588bdd5f1",
   "metadata": {},
   "source": [
    "<center><img src=\"https://ml2022.oss-cn-hangzhou.aliyuncs.com/img/06661cb459aa3e4b655aface404435d.png\" alt=\"06661cb459aa3e4b655aface404435d\" style=\"zoom:15%;\" />"
   ]
  },
  {
   "cell_type": "markdown",
   "id": "1e0eee24-f80b-408d-8003-ee7f17be3467",
   "metadata": {},
   "source": [
    "**[《2025大模型Agent智能体开发实战》(7月班)](https://ix9mq.xetslk.com/s/3Zfsc8)为【100+小时】体系大课，总共20大模块精讲精析，零基础直达大模型企业级应用！**"
   ]
  },
  {
   "cell_type": "markdown",
   "id": "56d187be-a131-4815-8339-f187a2b219ef",
   "metadata": {},
   "source": [
    "<center><img src=\"https://ml2022.oss-cn-hangzhou.aliyuncs.com/img/202506172010074.png\" alt=\"a55d48e952ed59f8d93e050594843bc\" style=\"zoom:33%;\" />"
   ]
  },
  {
   "cell_type": "markdown",
   "id": "aa31a0b5-b981-4c46-ba7a-95ab4412c976",
   "metadata": {},
   "source": [
    "部分项目成果演示"
   ]
  },
  {
   "cell_type": "code",
   "execution_count": 110,
   "id": "ef1e5e14-d1ed-4302-8864-f3b6e871d6b5",
   "metadata": {},
   "outputs": [],
   "source": [
    "from IPython.display import Video"
   ]
  },
  {
   "cell_type": "markdown",
   "id": "b2d8803c-0f81-4d84-bcda-49f39b9f21aa",
   "metadata": {},
   "source": [
    "- **MateGen项目演示**"
   ]
  },
  {
   "cell_type": "code",
   "execution_count": 4,
   "id": "768a6366-c045-47cc-a3c8-919e8cfd5a3b",
   "metadata": {},
   "outputs": [
    {
     "data": {
      "text/html": [
       "<video src=\"https://ml2022.oss-cn-hangzhou.aliyuncs.com/MG%E6%BC%94%E7%A4%BA%E8%A7%86%E9%A2%91.mp4\" controls  width=\"800\"  height=\"400\">\n",
       "      Your browser does not support the <code>video</code> element.\n",
       "    </video>"
      ],
      "text/plain": [
       "<IPython.core.display.Video object>"
      ]
     },
     "execution_count": 4,
     "metadata": {},
     "output_type": "execute_result"
    }
   ],
   "source": [
    "Video(\"https://ml2022.oss-cn-hangzhou.aliyuncs.com/MG%E6%BC%94%E7%A4%BA%E8%A7%86%E9%A2%91.mp4\", width=800, height=400)"
   ]
  },
  {
   "cell_type": "markdown",
   "id": "e33fbad3-bfe9-49b6-acc8-a1fcbcb23e65",
   "metadata": {},
   "source": [
    "- **智能客服项目演示**"
   ]
  },
  {
   "cell_type": "code",
   "execution_count": 5,
   "id": "ff7bd9b9-24dc-4259-bb8a-b74a8e8aefdd",
   "metadata": {},
   "outputs": [
    {
     "data": {
      "text/html": [
       "<video src=\"https://ml2022.oss-cn-hangzhou.aliyuncs.com/%E6%99%BA%E8%83%BD%E5%AE%A2%E6%9C%8D%E6%A1%88%E4%BE%8B%E8%A7%86%E9%A2%91.mp4\" controls  width=\"800\"  height=\"400\">\n",
       "      Your browser does not support the <code>video</code> element.\n",
       "    </video>"
      ],
      "text/plain": [
       "<IPython.core.display.Video object>"
      ]
     },
     "execution_count": 5,
     "metadata": {},
     "output_type": "execute_result"
    }
   ],
   "source": [
    "Video(\"https://ml2022.oss-cn-hangzhou.aliyuncs.com/%E6%99%BA%E8%83%BD%E5%AE%A2%E6%9C%8D%E6%A1%88%E4%BE%8B%E8%A7%86%E9%A2%91.mp4\", width=800, height=400)"
   ]
  },
  {
   "cell_type": "markdown",
   "id": "3c9412f9-a2cb-4bfd-a96b-97d231fee4d0",
   "metadata": {},
   "source": [
    "- **Dify项目演示**"
   ]
  },
  {
   "cell_type": "code",
   "execution_count": 6,
   "id": "de871188-7a45-41ea-8546-e4622811b5d8",
   "metadata": {},
   "outputs": [
    {
     "data": {
      "text/html": [
       "<video src=\"https://ml2022.oss-cn-hangzhou.aliyuncs.com/2f1b47f42c65fd59e8d3a83e6cb9f13b_raw.mp4\" controls  width=\"800\"  height=\"400\">\n",
       "      Your browser does not support the <code>video</code> element.\n",
       "    </video>"
      ],
      "text/plain": [
       "<IPython.core.display.Video object>"
      ]
     },
     "execution_count": 6,
     "metadata": {},
     "output_type": "execute_result"
    }
   ],
   "source": [
    "Video(\"https://ml2022.oss-cn-hangzhou.aliyuncs.com/2f1b47f42c65fd59e8d3a83e6cb9f13b_raw.mp4\", width=800, height=400)"
   ]
  },
  {
   "cell_type": "markdown",
   "id": "62109e73-4ad6-4d0e-a7c9-f29b4a21c2e5",
   "metadata": {},
   "source": [
    "- **LangChain&LangGraph搭建Multi-Agnet**"
   ]
  },
  {
   "cell_type": "code",
   "execution_count": 7,
   "id": "91817818-2967-42ce-bc0b-3ae3582ee9af",
   "metadata": {},
   "outputs": [
    {
     "data": {
      "text/html": [
       "<video src=\"https://ml2022.oss-cn-hangzhou.aliyuncs.com/%E5%8F%AF%E8%A7%86%E5%8C%96%E6%95%B0%E6%8D%AE%E5%88%86%E6%9E%90Multi-Agent%E6%95%88%E6%9E%9C%E6%BC%94%E7%A4%BA%E6%95%88%E6%9E%9C.mp4\" controls  width=\"800\"  height=\"400\">\n",
       "      Your browser does not support the <code>video</code> element.\n",
       "    </video>"
      ],
      "text/plain": [
       "<IPython.core.display.Video object>"
      ]
     },
     "execution_count": 7,
     "metadata": {},
     "output_type": "execute_result"
    }
   ],
   "source": [
    "Video(\"https://ml2022.oss-cn-hangzhou.aliyuncs.com/%E5%8F%AF%E8%A7%86%E5%8C%96%E6%95%B0%E6%8D%AE%E5%88%86%E6%9E%90Multi-Agent%E6%95%88%E6%9E%9C%E6%BC%94%E7%A4%BA%E6%95%88%E6%9E%9C.mp4\", width=800, height=400)"
   ]
  },
  {
   "cell_type": "markdown",
   "id": "345c0af0-3487-4694-a671-9305c6355e5e",
   "metadata": {},
   "source": [
    "- **GraphRAG+多模态文档检索**"
   ]
  },
  {
   "cell_type": "code",
   "execution_count": 113,
   "id": "534eeaf7-9178-43c4-b32e-fc8fd901fb23",
   "metadata": {},
   "outputs": [
    {
     "data": {
      "text/html": [
       "<video src=\"https://ml2022.oss-cn-hangzhou.aliyuncs.com/7%E6%9C%8817%E6%97%A5%281%29%20%E8%BF%9B%E5%BA%A6%E6%9D%A1.mp4\" controls  width=\"800\"  height=\"400\">\n",
       "      Your browser does not support the <code>video</code> element.\n",
       "    </video>"
      ],
      "text/plain": [
       "<IPython.core.display.Video object>"
      ]
     },
     "execution_count": 113,
     "metadata": {},
     "output_type": "execute_result"
    }
   ],
   "source": [
    "Video(\"https://ml2022.oss-cn-hangzhou.aliyuncs.com/7%E6%9C%8817%E6%97%A5%281%29%20%E8%BF%9B%E5%BA%A6%E6%9D%A1.mp4\", width=800, height=400)"
   ]
  },
  {
   "cell_type": "markdown",
   "id": "ff23386b-77de-4caa-abdc-c208b7bc5a9b",
   "metadata": {},
   "source": [
    "此外，若是对大模型底层原理感兴趣，也欢迎报名由我和菜菜老师共同主讲的[《2025大模型原理与实战课程》(夏季班)](https://ix9mq.xetslk.com/s/3VITgV)"
   ]
  },
  {
   "cell_type": "markdown",
   "id": "4f505cff-83c3-4b85-a499-fe9c61a972b8",
   "metadata": {},
   "source": [
    "<center><img src=\"https://ml2022.oss-cn-hangzhou.aliyuncs.com/img/202506171650709.png\" alt=\"4a11b7807056e9f5b281278c0e37dad\" style=\"zoom:20%;\" />"
   ]
  },
  {
   "cell_type": "markdown",
   "id": "965c8def-740d-45bd-9aa7-990b2abbcc58",
   "metadata": {},
   "source": [
    "**两门大模型课程夏季班目前上新特惠，直播间下单可享618平价钜惠，合购还有更多优惠哦~<span style=\"color:red;\">详细信息扫码添加助教，回复“大模型”，即可领取课程大纲&查看课程详情👇</span>**"
   ]
  },
  {
   "cell_type": "markdown",
   "id": "62b75aa8-0be6-4bdf-90f2-1f8b6fc6c013",
   "metadata": {},
   "source": [
    "<center><img src=\"https://ml2022.oss-cn-hangzhou.aliyuncs.com/img/d490904dc5d491768ed1ea938fdf5ef.png\" alt=\"d490904dc5d491768ed1ea938fdf5ef\" style=\"zoom:50%;\" />"
   ]
  },
  {
   "cell_type": "markdown",
   "id": "ed86cfeb-7d54-4d17-b894-fedce4f53937",
   "metadata": {},
   "source": [
    "<center><img src=\"https://ml2022.oss-cn-hangzhou.aliyuncs.com/img/e5b5013521acbcafd29af716aa4a83e.png\" alt=\"e5b5013521acbcafd29af716aa4a83e\" style=\"zoom:50%;\" />"
   ]
  },
  {
   "cell_type": "markdown",
   "id": "3e167169-4dc7-4ba1-8c6f-704223631522",
   "metadata": {},
   "source": [
    "---"
   ]
  },
  {
   "cell_type": "markdown",
   "id": "82084edd-8865-4e56-ad3b-a060b1bc73cb",
   "metadata": {},
   "source": [
    "# <center> GraphRAG技术实战公开课\n",
    "# <center> Part 3.GraphRAG API开发实战"
   ]
  },
  {
   "cell_type": "markdown",
   "id": "ab5fc078-3000-477b-ace5-4ad7ffe97201",
   "metadata": {},
   "source": [
    "## 一、GraphRAG Python API功能介绍"
   ]
  },
  {
   "cell_type": "markdown",
   "id": "93a63bea-4b85-467b-a4c8-1d8ef102c162",
   "metadata": {},
   "source": [
    "### 1.GraphRAG Python API高级API调用流程回顾"
   ]
  },
  {
   "cell_type": "code",
   "execution_count": 14,
   "id": "0d028050-cfef-4e12-b6bf-3a1b76afb574",
   "metadata": {},
   "outputs": [],
   "source": [
    "from pathlib import Path\n",
    "from pprint import pprint\n",
    "from IPython.display import Markdown, display\n",
    "import pandas as pd\n",
    "\n",
    "import graphrag.api as api\n",
    "from graphrag.config.load_config import load_config\n",
    "from graphrag.index.typing.pipeline_run_result import PipelineRunResult"
   ]
  },
  {
   "cell_type": "markdown",
   "id": "6f04b5b0-7b11-49bd-83d5-a8dc05eb1025",
   "metadata": {},
   "source": [
    "#### 1.1 GraphRAG高级API实现Index流程"
   ]
  },
  {
   "cell_type": "markdown",
   "id": "fb61e0ed-6824-44fa-9d77-bcfc9ae78589",
   "metadata": {},
   "source": [
    "- **Step 1.准备文档**"
   ]
  },
  {
   "cell_type": "markdown",
   "id": "de13b2d8-256c-477e-91bb-836b5e7e5743",
   "metadata": {},
   "source": [
    "<center><img src=\"https://ml2022.oss-cn-hangzhou.aliyuncs.com/img/image-20250715171007362.png\" alt=\"image-20250715171007362\" style=\"zoom:50%;\" />"
   ]
  },
  {
   "cell_type": "markdown",
   "id": "eba8232c-1b19-4dfd-a037-550da0138c19",
   "metadata": {},
   "source": [
    "<center><img src=\"https://ml2022.oss-cn-hangzhou.aliyuncs.com/img/image-20250715165527008.png\" alt=\"image-20250715165527008\" style=\"zoom:33%;\" />"
   ]
  },
  {
   "cell_type": "markdown",
   "id": "a9fd1378-52da-4d6e-8746-f8d3ec894021",
   "metadata": {},
   "source": [
    "<center><img src=\"https://ml2022.oss-cn-hangzhou.aliyuncs.com/img/image-20250717170005621.png\" alt=\"image-20250717170005621\" style=\"zoom:50%;\" />"
   ]
  },
  {
   "cell_type": "markdown",
   "id": "f64f1c7f-ced8-43fc-8f25-f37d3e38a3a2",
   "metadata": {},
   "source": [
    "<center><img src=\"https://ml2022.oss-cn-hangzhou.aliyuncs.com/img/e5b5013521acbcafd29af716aa4a83e.png\" alt=\"e5b5013521acbcafd29af716aa4a83e\" style=\"zoom:50%;\" />"
   ]
  },
  {
   "cell_type": "markdown",
   "id": "a2993e30-8241-4efb-beb7-a4c2837f7df1",
   "metadata": {},
   "source": [
    "- **Step 2.创建检索项目文件夹**"
   ]
  },
  {
   "cell_type": "markdown",
   "id": "450735ff-0466-4491-8e7b-c83eacf408fa",
   "metadata": {},
   "source": [
    "```bash\n",
    "mkdir -p ./graphrag_course/input\n",
    "```"
   ]
  },
  {
   "cell_type": "markdown",
   "id": "49c8c83e-e42f-4c76-a074-a4bbf86aba3a",
   "metadata": {},
   "source": [
    "<center><img src=\"https://ml2022.oss-cn-hangzhou.aliyuncs.com/img/image-20250717170052661.png\" alt=\"image-20250717170052661\" style=\"zoom:33%;\" />"
   ]
  },
  {
   "cell_type": "markdown",
   "id": "f779c24b-0055-41e0-a776-8638d3fdb824",
   "metadata": {},
   "source": [
    "- **Step 3.上传数据集**"
   ]
  },
  {
   "cell_type": "markdown",
   "id": "a125e24b-6bec-432a-b2ff-850442579654",
   "metadata": {},
   "source": [
    "<center><img src=\"https://ml2022.oss-cn-hangzhou.aliyuncs.com/img/image-20250717170124603.png\" alt=\"image-20250717170124603\" style=\"zoom:33%;\" />"
   ]
  },
  {
   "cell_type": "markdown",
   "id": "315844f7-1f28-49d3-8029-799707de0e90",
   "metadata": {},
   "source": [
    "- **Step 4.初始化项目文件**"
   ]
  },
  {
   "cell_type": "markdown",
   "id": "1c166303-4706-4748-86db-09385527e474",
   "metadata": {},
   "source": [
    "```bash\n",
    "graphrag init --root ./graphrag_course\n",
    "```"
   ]
  },
  {
   "cell_type": "code",
   "execution_count": 75,
   "id": "2133ffbd-2a99-4ae8-abe3-b77c8230fd68",
   "metadata": {},
   "outputs": [
    {
     "name": "stdout",
     "output_type": "stream",
     "text": [
      "\u001b[2KInitializing project at \u001b[35m/root/autodl-tmp/graphrag/\u001b[0m\u001b[95mopenl_big\u001b[0m\n",
      "⠋ GraphRAG Indexer "
     ]
    }
   ],
   "source": [
    "# !graphrag init --root ./openl_big"
   ]
  },
  {
   "cell_type": "markdown",
   "id": "2d67a2f0-27d0-4700-b035-5b2d8f2fd7e5",
   "metadata": {},
   "source": [
    "- **Step 5.修改项目配置**"
   ]
  },
  {
   "cell_type": "markdown",
   "id": "a9ac5baf-5c2f-47d2-b5f4-ea5e6e38ca13",
   "metadata": {},
   "source": [
    "<center><img src=\"https://ml2022.oss-cn-hangzhou.aliyuncs.com/img/image-20250717170214353.png\" alt=\"image-20250717170214353\" style=\"zoom: 33%;\" />"
   ]
  },
  {
   "cell_type": "markdown",
   "id": "26168ea8-d3cb-402e-8a4c-899c57d4dd06",
   "metadata": {},
   "source": [
    "打开.env文件，填写OpenAI API-KEY"
   ]
  },
  {
   "cell_type": "markdown",
   "id": "fa753f2c-7847-4a84-8756-d80fd0f5ab88",
   "metadata": {},
   "source": [
    "<center><img src=\"https://ml2022.oss-cn-hangzhou.aliyuncs.com/img/image-20241128160423633.png\" alt=\"image-20241128160423633\" style=\"zoom:33%;\" />"
   ]
  },
  {
   "cell_type": "markdown",
   "id": "2d865f97-6892-4ddf-91e4-2ff96c87cb99",
   "metadata": {},
   "source": [
    "打开setting.yaml文件，填写模型名称和反向代理地址："
   ]
  },
  {
   "cell_type": "markdown",
   "id": "70cf7f77-6b34-4c88-ac58-a6655664cb4d",
   "metadata": {},
   "source": [
    "<center><img src=\"https://ml2022.oss-cn-hangzhou.aliyuncs.com/img/image-20241128161721590.png\" alt=\"image-20241128161721590\" style=\"zoom:33%;\" />"
   ]
  },
  {
   "cell_type": "markdown",
   "id": "33616bfc-2c89-46dc-805d-e5046cbee5f1",
   "metadata": {},
   "source": [
    "其中反向代理地址为`api_base: https://ai.devtool.tech/proxy/v1`"
   ]
  },
  {
   "cell_type": "markdown",
   "id": "f81235af-9ccb-4697-a379-f277d764cec4",
   "metadata": {},
   "source": [
    "- **Step 6.执行检索Index**"
   ]
  },
  {
   "cell_type": "code",
   "execution_count": 3,
   "id": "d39397cc-e94b-4a7a-be01-8529e5bb29ba",
   "metadata": {},
   "outputs": [],
   "source": [
    "PROJECT_DIRECTORY = \"./graphrag_course\""
   ]
  },
  {
   "cell_type": "code",
   "execution_count": 4,
   "id": "79e0ee99-6135-4206-9f21-8820fa69ed12",
   "metadata": {},
   "outputs": [],
   "source": [
    "graphrag_config = load_config(Path(PROJECT_DIRECTORY))"
   ]
  },
  {
   "cell_type": "code",
   "execution_count": 4,
   "id": "1fe417a5-7f64-4ead-a3e5-5306e2677512",
   "metadata": {
    "scrolled": true
   },
   "outputs": [
    {
     "name": "stdout",
     "output_type": "stream",
     "text": [
      "2025-07-15 18:00:35.0133 - INFO - graphrag.api.index - Initializing indexing pipeline...\n",
      "2025-07-15 18:00:35.0134 - INFO - graphrag.index.workflows.factory - Creating pipeline with workflows: ['load_input_documents', 'create_base_text_units', 'create_final_documents', 'extract_graph', 'finalize_graph', 'extract_covariates', 'create_communities', 'create_final_text_units', 'create_community_reports', 'generate_text_embeddings']\n",
      "2025-07-15 18:00:35.0135 - INFO - graphrag.storage.file_pipeline_storage - Creating file storage at /root/autodl-tmp/graphrag/graphrag_course/input\n",
      "2025-07-15 18:00:35.0136 - INFO - graphrag.storage.file_pipeline_storage - Creating file storage at /root/autodl-tmp/graphrag/graphrag_course/output\n",
      "2025-07-15 18:00:35.0139 - INFO - graphrag.index.run.run_pipeline - Running standard indexing.\n",
      "2025-07-15 18:00:35.0141 - INFO - graphrag.index.run.run_pipeline - Executing pipeline...\n",
      "2025-07-15 18:00:35.0141 - INFO - graphrag.index.input.factory - loading input from root_dir=/root/autodl-tmp/graphrag/graphrag_course/input\n",
      "2025-07-15 18:00:35.0142 - INFO - graphrag.index.input.factory - Loading Input InputFileType.text\n",
      "2025-07-15 18:00:35.0143 - INFO - graphrag.storage.file_pipeline_storage - search /root/autodl-tmp/graphrag/graphrag_course/input for files matching .*\\.txt$\n",
      "2025-07-15 18:00:35.0146 - INFO - graphrag.index.input.util - Found 1 InputFileType.text files, loading 1\n",
      "2025-07-15 18:00:35.0147 - INFO - graphrag.index.input.util - Total number of unfiltered InputFileType.text rows: 1\n",
      "2025-07-15 18:00:35.0148 - INFO - graphrag.index.workflows.load_input_documents - Final # of rows loaded: 1\n",
      "2025-07-15 18:00:35.0155 - INFO - graphrag.api.index - Workflow load_input_documents completed successfully\n",
      "2025-07-15 18:00:35.0158 - INFO - graphrag.index.workflows.create_base_text_units - Workflow started: create_base_text_units\n",
      "2025-07-15 18:00:35.0159 - INFO - graphrag.utils.storage - reading table from storage: documents.parquet\n",
      "2025-07-15 18:00:35.0170 - INFO - graphrag.index.workflows.create_base_text_units - Starting chunking process for 1 documents\n",
      "2025-07-15 18:00:35.0435 - INFO - graphrag.index.workflows.create_base_text_units - chunker progress:  1/1\n",
      "2025-07-15 18:00:35.0446 - INFO - graphrag.index.workflows.create_base_text_units - Workflow completed: create_base_text_units\n",
      "2025-07-15 18:00:35.0447 - INFO - graphrag.api.index - Workflow create_base_text_units completed successfully\n",
      "2025-07-15 18:00:35.0450 - INFO - graphrag.index.workflows.create_final_documents - Workflow started: create_final_documents\n",
      "2025-07-15 18:00:35.0451 - INFO - graphrag.utils.storage - reading table from storage: documents.parquet\n",
      "2025-07-15 18:00:35.0455 - INFO - graphrag.utils.storage - reading table from storage: text_units.parquet\n",
      "2025-07-15 18:00:35.0475 - INFO - graphrag.index.workflows.create_final_documents - Workflow completed: create_final_documents\n",
      "2025-07-15 18:00:35.0476 - INFO - graphrag.api.index - Workflow create_final_documents completed successfully\n",
      "2025-07-15 18:00:35.0479 - INFO - graphrag.index.workflows.extract_graph - Workflow started: extract_graph\n",
      "2025-07-15 18:00:35.0480 - INFO - graphrag.utils.storage - reading table from storage: text_units.parquet\n",
      "2025-07-15 18:00:37.0534 - INFO - graphrag.logger.progress - extract graph progress: 1/2\n",
      "2025-07-15 18:00:39.0578 - INFO - graphrag.logger.progress - extract graph progress: 2/2\n",
      "2025-07-15 18:00:39.0638 - INFO - graphrag.logger.progress - Summarize entity/relationship description progress: 1/44\n",
      "2025-07-15 18:00:39.0640 - INFO - graphrag.logger.progress - Summarize entity/relationship description progress: 2/44\n",
      "2025-07-15 18:00:39.0640 - INFO - graphrag.logger.progress - Summarize entity/relationship description progress: 3/44\n",
      "2025-07-15 18:00:39.0641 - INFO - graphrag.logger.progress - Summarize entity/relationship description progress: 4/44\n",
      "2025-07-15 18:00:39.0642 - INFO - graphrag.logger.progress - Summarize entity/relationship description progress: 5/44\n",
      "2025-07-15 18:00:39.0643 - INFO - graphrag.logger.progress - Summarize entity/relationship description progress: 6/44\n",
      "2025-07-15 18:00:39.0644 - INFO - graphrag.logger.progress - Summarize entity/relationship description progress: 7/44\n",
      "2025-07-15 18:00:39.0645 - INFO - graphrag.logger.progress - Summarize entity/relationship description progress: 8/44\n",
      "2025-07-15 18:00:39.0646 - INFO - graphrag.logger.progress - Summarize entity/relationship description progress: 9/44\n",
      "2025-07-15 18:00:39.0647 - INFO - graphrag.logger.progress - Summarize entity/relationship description progress: 10/44\n",
      "2025-07-15 18:00:39.0647 - INFO - graphrag.logger.progress - Summarize entity/relationship description progress: 11/44\n",
      "2025-07-15 18:00:39.0648 - INFO - graphrag.logger.progress - Summarize entity/relationship description progress: 12/44\n",
      "2025-07-15 18:00:39.0648 - INFO - graphrag.logger.progress - Summarize entity/relationship description progress: 13/44\n",
      "2025-07-15 18:00:39.0649 - INFO - graphrag.logger.progress - Summarize entity/relationship description progress: 14/44\n",
      "2025-07-15 18:00:39.0650 - INFO - graphrag.logger.progress - Summarize entity/relationship description progress: 15/44\n",
      "2025-07-15 18:00:39.0650 - INFO - graphrag.logger.progress - Summarize entity/relationship description progress: 16/44\n",
      "2025-07-15 18:00:39.0651 - INFO - graphrag.logger.progress - Summarize entity/relationship description progress: 17/44\n",
      "2025-07-15 18:00:39.0655 - INFO - graphrag.logger.progress - Summarize entity/relationship description progress: 18/44\n",
      "2025-07-15 18:00:39.0656 - INFO - graphrag.logger.progress - Summarize entity/relationship description progress: 19/44\n",
      "2025-07-15 18:00:39.0657 - INFO - graphrag.logger.progress - Summarize entity/relationship description progress: 20/44\n",
      "2025-07-15 18:00:39.0658 - INFO - graphrag.logger.progress - Summarize entity/relationship description progress: 21/44\n",
      "2025-07-15 18:00:39.0659 - INFO - graphrag.logger.progress - Summarize entity/relationship description progress: 22/44\n",
      "2025-07-15 18:00:39.0660 - INFO - graphrag.logger.progress - Summarize entity/relationship description progress: 23/44\n",
      "2025-07-15 18:00:39.0661 - INFO - graphrag.logger.progress - Summarize entity/relationship description progress: 24/44\n",
      "2025-07-15 18:00:39.0661 - INFO - graphrag.logger.progress - Summarize entity/relationship description progress: 25/44\n",
      "2025-07-15 18:00:39.0661 - INFO - graphrag.logger.progress - Summarize entity/relationship description progress: 26/44\n",
      "2025-07-15 18:00:39.0662 - INFO - graphrag.logger.progress - Summarize entity/relationship description progress: 27/44\n",
      "2025-07-15 18:00:39.0663 - INFO - graphrag.logger.progress - Summarize entity/relationship description progress: 28/44\n",
      "2025-07-15 18:00:39.0663 - INFO - graphrag.logger.progress - Summarize entity/relationship description progress: 29/44\n",
      "2025-07-15 18:00:39.0664 - INFO - graphrag.logger.progress - Summarize entity/relationship description progress: 30/44\n",
      "2025-07-15 18:00:39.0664 - INFO - graphrag.logger.progress - Summarize entity/relationship description progress: 31/44\n",
      "2025-07-15 18:00:39.0665 - INFO - graphrag.logger.progress - Summarize entity/relationship description progress: 32/44\n",
      "2025-07-15 18:00:39.0665 - INFO - graphrag.logger.progress - Summarize entity/relationship description progress: 33/44\n",
      "2025-07-15 18:00:39.0666 - INFO - graphrag.logger.progress - Summarize entity/relationship description progress: 34/44\n",
      "2025-07-15 18:00:39.0666 - INFO - graphrag.logger.progress - Summarize entity/relationship description progress: 35/44\n",
      "2025-07-15 18:00:39.0667 - INFO - graphrag.logger.progress - Summarize entity/relationship description progress: 36/44\n",
      "2025-07-15 18:00:39.0667 - INFO - graphrag.logger.progress - Summarize entity/relationship description progress: 37/44\n",
      "2025-07-15 18:00:39.0668 - INFO - graphrag.logger.progress - Summarize entity/relationship description progress: 38/44\n",
      "2025-07-15 18:00:39.0668 - INFO - graphrag.logger.progress - Summarize entity/relationship description progress: 39/44\n",
      "2025-07-15 18:00:39.0669 - INFO - graphrag.logger.progress - Summarize entity/relationship description progress: 40/44\n",
      "2025-07-15 18:00:39.0669 - INFO - graphrag.logger.progress - Summarize entity/relationship description progress: 41/44\n",
      "2025-07-15 18:00:39.0669 - INFO - graphrag.logger.progress - Summarize entity/relationship description progress: 42/44\n",
      "2025-07-15 18:00:39.0670 - INFO - graphrag.logger.progress - Summarize entity/relationship description progress: 43/44\n",
      "2025-07-15 18:00:39.0670 - INFO - graphrag.logger.progress - Summarize entity/relationship description progress: 44/44\n",
      "2025-07-15 18:00:39.0684 - INFO - graphrag.index.workflows.extract_graph - Workflow completed: extract_graph\n",
      "2025-07-15 18:00:39.0685 - INFO - graphrag.api.index - Workflow extract_graph completed successfully\n",
      "2025-07-15 18:00:39.0696 - INFO - graphrag.index.workflows.finalize_graph - Workflow started: finalize_graph\n",
      "2025-07-15 18:00:39.0697 - INFO - graphrag.utils.storage - reading table from storage: entities.parquet\n",
      "2025-07-15 18:00:39.0702 - INFO - graphrag.utils.storage - reading table from storage: relationships.parquet\n",
      "2025-07-15 18:00:39.0730 - INFO - graphrag.index.workflows.finalize_graph - Workflow completed: finalize_graph\n",
      "2025-07-15 18:00:39.0731 - INFO - graphrag.api.index - Workflow finalize_graph completed successfully\n",
      "2025-07-15 18:00:39.0742 - INFO - graphrag.index.workflows.extract_covariates - Workflow started: extract_covariates\n",
      "2025-07-15 18:00:39.0743 - INFO - graphrag.index.workflows.extract_covariates - Workflow completed: extract_covariates\n",
      "2025-07-15 18:00:39.0744 - INFO - graphrag.api.index - Workflow extract_covariates completed successfully\n",
      "2025-07-15 18:00:39.0744 - INFO - graphrag.index.workflows.create_communities - Workflow started: create_communities\n",
      "2025-07-15 18:00:39.0745 - INFO - graphrag.utils.storage - reading table from storage: entities.parquet\n",
      "2025-07-15 18:00:39.0751 - INFO - graphrag.utils.storage - reading table from storage: relationships.parquet\n",
      "2025-07-15 18:00:39.0800 - INFO - graphrag.index.workflows.create_communities - Workflow completed: create_communities\n",
      "2025-07-15 18:00:39.0802 - INFO - graphrag.api.index - Workflow create_communities completed successfully\n",
      "2025-07-15 18:00:39.0807 - INFO - graphrag.index.workflows.create_final_text_units - Workflow started: create_final_text_units\n",
      "2025-07-15 18:00:39.0808 - INFO - graphrag.utils.storage - reading table from storage: text_units.parquet\n",
      "2025-07-15 18:00:39.0813 - INFO - graphrag.utils.storage - reading table from storage: entities.parquet\n",
      "2025-07-15 18:00:39.0818 - INFO - graphrag.utils.storage - reading table from storage: relationships.parquet\n",
      "2025-07-15 18:00:39.0847 - INFO - graphrag.index.workflows.create_final_text_units - Workflow completed: create_final_text_units\n",
      "2025-07-15 18:00:39.0848 - INFO - graphrag.api.index - Workflow create_final_text_units completed successfully\n",
      "2025-07-15 18:00:39.0852 - INFO - graphrag.index.workflows.create_community_reports - Workflow started: create_community_reports\n",
      "2025-07-15 18:00:39.0853 - INFO - graphrag.utils.storage - reading table from storage: relationships.parquet\n",
      "2025-07-15 18:00:39.0858 - INFO - graphrag.utils.storage - reading table from storage: entities.parquet\n",
      "2025-07-15 18:00:39.0863 - INFO - graphrag.utils.storage - reading table from storage: communities.parquet\n",
      "2025-07-15 18:00:39.0879 - INFO - graphrag.index.operations.summarize_communities.graph_context.context_builder - Number of nodes at level=0 => 14\n",
      "2025-07-15 18:00:53.0350 - INFO - graphrag.logger.progress - level 0 summarize communities progress: 1/3\n",
      "2025-07-15 18:01:06.0396 - INFO - graphrag.logger.progress - level 0 summarize communities progress: 2/3\n",
      "2025-07-15 18:01:11.0760 - INFO - graphrag.logger.progress - level 0 summarize communities progress: 3/3\n",
      "2025-07-15 18:01:11.0771 - INFO - graphrag.index.workflows.create_community_reports - Workflow completed: create_community_reports\n",
      "2025-07-15 18:01:11.0772 - INFO - graphrag.api.index - Workflow create_community_reports completed successfully\n",
      "2025-07-15 18:01:11.0779 - INFO - graphrag.index.workflows.generate_text_embeddings - Workflow started: generate_text_embeddings\n",
      "2025-07-15 18:01:11.0781 - INFO - graphrag.utils.storage - reading table from storage: documents.parquet\n",
      "2025-07-15 18:01:11.0786 - INFO - graphrag.utils.storage - reading table from storage: relationships.parquet\n",
      "2025-07-15 18:01:11.0791 - INFO - graphrag.utils.storage - reading table from storage: text_units.parquet\n",
      "2025-07-15 18:01:11.0796 - INFO - graphrag.utils.storage - reading table from storage: entities.parquet\n",
      "2025-07-15 18:01:11.0801 - INFO - graphrag.utils.storage - reading table from storage: community_reports.parquet\n",
      "2025-07-15 18:01:11.0811 - INFO - graphrag.index.workflows.generate_text_embeddings - Creating embeddings\n",
      "2025-07-15 18:01:11.0812 - INFO - graphrag.index.operations.embed_text.embed_text - using vector store lancedb with container_name default for embedding entity.description: default-entity-description\n",
      "2025-07-15 18:01:11.0826 - INFO - graphrag.index.operations.embed_text.embed_text - uploading text embeddings batch 1/1 of size 500 to vector store\n",
      "2025-07-15 18:01:11.0868 - INFO - graphrag.index.operations.embed_text.strategies.openai - embedding 21 inputs via 21 snippets using 2 batches. max_batch_size=16, batch_max_tokens=8191\n",
      "2025-07-15 18:01:13.0589 - INFO - graphrag.logger.progress - generate embeddings progress: 1/2\n",
      "2025-07-15 18:01:14.0111 - INFO - graphrag.logger.progress - generate embeddings progress: 2/2\n",
      "2025-07-15 18:01:14.0125 - INFO - graphrag.index.operations.embed_text.embed_text - using vector store lancedb with container_name default for embedding community.full_content: default-community-full_content\n",
      "2025-07-15 18:01:14.0128 - INFO - graphrag.index.operations.embed_text.embed_text - uploading text embeddings batch 1/1 of size 500 to vector store\n",
      "2025-07-15 18:01:14.0132 - INFO - graphrag.index.operations.embed_text.strategies.openai - embedding 3 inputs via 3 snippets using 1 batches. max_batch_size=16, batch_max_tokens=8191\n",
      "2025-07-15 18:01:15.0185 - INFO - graphrag.logger.progress - generate embeddings progress: 1/1\n",
      "2025-07-15 18:01:15.0193 - INFO - graphrag.index.operations.embed_text.embed_text - using vector store lancedb with container_name default for embedding text_unit.text: default-text_unit-text\n",
      "2025-07-15 18:01:15.0195 - INFO - graphrag.index.operations.embed_text.embed_text - uploading text embeddings batch 1/1 of size 500 to vector store\n",
      "2025-07-15 18:01:15.0199 - INFO - graphrag.index.operations.embed_text.strategies.openai - embedding 2 inputs via 2 snippets using 1 batches. max_batch_size=16, batch_max_tokens=8191\n",
      "2025-07-15 18:01:15.0204 - INFO - graphrag.logger.progress - generate embeddings progress: 1/1\n",
      "2025-07-15 18:01:15.0212 - INFO - graphrag.index.workflows.generate_text_embeddings - Workflow completed: generate_text_embeddings\n",
      "2025-07-15 18:01:15.0213 - INFO - graphrag.api.index - Workflow generate_text_embeddings completed successfully\n",
      "2025-07-15 18:01:15.0231 - INFO - graphrag.index.run.run_pipeline - Indexing pipeline complete.\n",
      "Workflow Name: load_input_documents\tStatus: success\n",
      "Workflow Name: create_base_text_units\tStatus: success\n",
      "Workflow Name: create_final_documents\tStatus: success\n",
      "Workflow Name: extract_graph\tStatus: success\n",
      "Workflow Name: finalize_graph\tStatus: success\n",
      "Workflow Name: extract_covariates\tStatus: success\n",
      "Workflow Name: create_communities\tStatus: success\n",
      "Workflow Name: create_final_text_units\tStatus: success\n",
      "Workflow Name: create_community_reports\tStatus: success\n",
      "Workflow Name: generate_text_embeddings\tStatus: success\n"
     ]
    }
   ],
   "source": [
    "index_result: list[PipelineRunResult] = await api.build_index(config=graphrag_config)\n",
    "\n",
    "# index_result is a list of workflows that make up the indexing pipeline that was run\n",
    "for workflow_result in index_result:\n",
    "    status = f\"error\\n{workflow_result.errors}\" if workflow_result.errors else \"success\"\n",
    "    print(f\"Workflow Name: {workflow_result.workflow}\\tStatus: {status}\")"
   ]
  },
  {
   "cell_type": "markdown",
   "id": "c06632ae-f612-4a53-82cf-8eaca818fe8e",
   "metadata": {},
   "source": [
    "#### 1.2 GraphRAG高级API问答流程"
   ]
  },
  {
   "cell_type": "markdown",
   "id": "3fe5e55b-a34d-494d-a9ad-0449a7c8cb1d",
   "metadata": {},
   "source": [
    "- 全局搜索问答"
   ]
  },
  {
   "cell_type": "code",
   "execution_count": 101,
   "id": "08611aa5-93af-4588-b2ef-2bc18806dd49",
   "metadata": {
    "scrolled": true
   },
   "outputs": [],
   "source": [
    "entities = pd.read_parquet(f\"{PROJECT_DIRECTORY}/output/entities.parquet\")\n",
    "communities = pd.read_parquet(f\"{PROJECT_DIRECTORY}/output/communities.parquet\")\n",
    "community_reports = pd.read_parquet(\n",
    "    f\"{PROJECT_DIRECTORY}/output/community_reports.parquet\"\n",
    ")"
   ]
  },
  {
   "cell_type": "code",
   "execution_count": 7,
   "id": "1593794b-66e9-4f26-886e-aa6932c20f66",
   "metadata": {
    "scrolled": true
   },
   "outputs": [
    {
     "data": {
      "text/html": [
       "<div>\n",
       "<style scoped>\n",
       "    .dataframe tbody tr th:only-of-type {\n",
       "        vertical-align: middle;\n",
       "    }\n",
       "\n",
       "    .dataframe tbody tr th {\n",
       "        vertical-align: top;\n",
       "    }\n",
       "\n",
       "    .dataframe thead th {\n",
       "        text-align: right;\n",
       "    }\n",
       "</style>\n",
       "<table border=\"1\" class=\"dataframe\">\n",
       "  <thead>\n",
       "    <tr style=\"text-align: right;\">\n",
       "      <th></th>\n",
       "      <th>id</th>\n",
       "      <th>human_readable_id</th>\n",
       "      <th>title</th>\n",
       "      <th>type</th>\n",
       "      <th>description</th>\n",
       "      <th>text_unit_ids</th>\n",
       "      <th>frequency</th>\n",
       "      <th>degree</th>\n",
       "      <th>x</th>\n",
       "      <th>y</th>\n",
       "    </tr>\n",
       "  </thead>\n",
       "  <tbody>\n",
       "    <tr>\n",
       "      <th>0</th>\n",
       "      <td>5345c216-42c2-4f67-a59b-8ceb90ab941f</td>\n",
       "      <td>0</td>\n",
       "      <td>硅谷</td>\n",
       "      <td>GEO</td>\n",
       "      <td>Silicon Valley, known as \"硅谷\" in Chinese, is a...</td>\n",
       "      <td>[307ca00cc7afda89a8c7a0cc4fed486fcd84f7714bc68...</td>\n",
       "      <td>2</td>\n",
       "      <td>2</td>\n",
       "      <td>0</td>\n",
       "      <td>0</td>\n",
       "    </tr>\n",
       "    <tr>\n",
       "      <th>1</th>\n",
       "      <td>bf9886bf-52fe-43f0-9dca-cfd6f2448dfc</td>\n",
       "      <td>1</td>\n",
       "      <td>苹果公司</td>\n",
       "      <td>ORGANIZATION</td>\n",
       "      <td>Apple Inc. is a technology company founded in ...</td>\n",
       "      <td>[307ca00cc7afda89a8c7a0cc4fed486fcd84f7714bc68...</td>\n",
       "      <td>1</td>\n",
       "      <td>3</td>\n",
       "      <td>0</td>\n",
       "      <td>0</td>\n",
       "    </tr>\n",
       "    <tr>\n",
       "      <th>2</th>\n",
       "      <td>3d5d04ea-4557-453b-8a8b-bd34150a3dce</td>\n",
       "      <td>2</td>\n",
       "      <td>史蒂夫·乔布斯</td>\n",
       "      <td>PERSON</td>\n",
       "      <td>Steve Jobs was a co-founder of Apple Inc. and ...</td>\n",
       "      <td>[307ca00cc7afda89a8c7a0cc4fed486fcd84f7714bc68...</td>\n",
       "      <td>1</td>\n",
       "      <td>1</td>\n",
       "      <td>0</td>\n",
       "      <td>0</td>\n",
       "    </tr>\n",
       "    <tr>\n",
       "      <th>3</th>\n",
       "      <td>0b17374f-57c9-44b4-af6c-2abac0a22856</td>\n",
       "      <td>3</td>\n",
       "      <td>史蒂夫·沃兹尼亚克</td>\n",
       "      <td>PERSON</td>\n",
       "      <td>Steve Wozniak is a co-founder of Apple Inc. an...</td>\n",
       "      <td>[307ca00cc7afda89a8c7a0cc4fed486fcd84f7714bc68...</td>\n",
       "      <td>1</td>\n",
       "      <td>1</td>\n",
       "      <td>0</td>\n",
       "      <td>0</td>\n",
       "    </tr>\n",
       "    <tr>\n",
       "      <th>4</th>\n",
       "      <td>7881ca95-7f48-4dff-8a98-72a75fd19cf6</td>\n",
       "      <td>4</td>\n",
       "      <td>罗恩·韦恩</td>\n",
       "      <td>PERSON</td>\n",
       "      <td>Ron Wayne is a co-founder of Apple Inc. who pl...</td>\n",
       "      <td>[307ca00cc7afda89a8c7a0cc4fed486fcd84f7714bc68...</td>\n",
       "      <td>1</td>\n",
       "      <td>1</td>\n",
       "      <td>0</td>\n",
       "      <td>0</td>\n",
       "    </tr>\n",
       "  </tbody>\n",
       "</table>\n",
       "</div>"
      ],
      "text/plain": [
       "                                     id  human_readable_id      title  \\\n",
       "0  5345c216-42c2-4f67-a59b-8ceb90ab941f                  0         硅谷   \n",
       "1  bf9886bf-52fe-43f0-9dca-cfd6f2448dfc                  1       苹果公司   \n",
       "2  3d5d04ea-4557-453b-8a8b-bd34150a3dce                  2    史蒂夫·乔布斯   \n",
       "3  0b17374f-57c9-44b4-af6c-2abac0a22856                  3  史蒂夫·沃兹尼亚克   \n",
       "4  7881ca95-7f48-4dff-8a98-72a75fd19cf6                  4      罗恩·韦恩   \n",
       "\n",
       "           type                                        description  \\\n",
       "0           GEO  Silicon Valley, known as \"硅谷\" in Chinese, is a...   \n",
       "1  ORGANIZATION  Apple Inc. is a technology company founded in ...   \n",
       "2        PERSON  Steve Jobs was a co-founder of Apple Inc. and ...   \n",
       "3        PERSON  Steve Wozniak is a co-founder of Apple Inc. an...   \n",
       "4        PERSON  Ron Wayne is a co-founder of Apple Inc. who pl...   \n",
       "\n",
       "                                       text_unit_ids  frequency  degree  x  y  \n",
       "0  [307ca00cc7afda89a8c7a0cc4fed486fcd84f7714bc68...          2       2  0  0  \n",
       "1  [307ca00cc7afda89a8c7a0cc4fed486fcd84f7714bc68...          1       3  0  0  \n",
       "2  [307ca00cc7afda89a8c7a0cc4fed486fcd84f7714bc68...          1       1  0  0  \n",
       "3  [307ca00cc7afda89a8c7a0cc4fed486fcd84f7714bc68...          1       1  0  0  \n",
       "4  [307ca00cc7afda89a8c7a0cc4fed486fcd84f7714bc68...          1       1  0  0  "
      ]
     },
     "execution_count": 7,
     "metadata": {},
     "output_type": "execute_result"
    }
   ],
   "source": [
    "entities.head()"
   ]
  },
  {
   "cell_type": "code",
   "execution_count": 20,
   "id": "b8eb388c-4af1-4398-b107-cad2f08bf346",
   "metadata": {},
   "outputs": [
    {
     "data": {
      "text/html": [
       "<div>\n",
       "<style scoped>\n",
       "    .dataframe tbody tr th:only-of-type {\n",
       "        vertical-align: middle;\n",
       "    }\n",
       "\n",
       "    .dataframe tbody tr th {\n",
       "        vertical-align: top;\n",
       "    }\n",
       "\n",
       "    .dataframe thead th {\n",
       "        text-align: right;\n",
       "    }\n",
       "</style>\n",
       "<table border=\"1\" class=\"dataframe\">\n",
       "  <thead>\n",
       "    <tr style=\"text-align: right;\">\n",
       "      <th></th>\n",
       "      <th>id</th>\n",
       "      <th>human_readable_id</th>\n",
       "      <th>community</th>\n",
       "      <th>level</th>\n",
       "      <th>parent</th>\n",
       "      <th>children</th>\n",
       "      <th>title</th>\n",
       "      <th>entity_ids</th>\n",
       "      <th>relationship_ids</th>\n",
       "      <th>text_unit_ids</th>\n",
       "      <th>period</th>\n",
       "      <th>size</th>\n",
       "    </tr>\n",
       "  </thead>\n",
       "  <tbody>\n",
       "    <tr>\n",
       "      <th>0</th>\n",
       "      <td>182be202-a9c6-47ed-8c2b-3aea7dac7660</td>\n",
       "      <td>0</td>\n",
       "      <td>0</td>\n",
       "      <td>0</td>\n",
       "      <td>-1</td>\n",
       "      <td>[]</td>\n",
       "      <td>Community 0</td>\n",
       "      <td>[a2cbdf05-09ab-4432-924e-b493adb9d01f, 753d66b...</td>\n",
       "      <td>[3700d8fc-6a68-4552-80d6-7958514048e9, 4afe6d4...</td>\n",
       "      <td>[307ca00cc7afda89a8c7a0cc4fed486fcd84f7714bc68...</td>\n",
       "      <td>2025-07-15</td>\n",
       "      <td>7</td>\n",
       "    </tr>\n",
       "    <tr>\n",
       "      <th>1</th>\n",
       "      <td>9f1d51be-231f-4a3c-8e6e-f2f70e57e7b2</td>\n",
       "      <td>1</td>\n",
       "      <td>1</td>\n",
       "      <td>0</td>\n",
       "      <td>-1</td>\n",
       "      <td>[]</td>\n",
       "      <td>Community 1</td>\n",
       "      <td>[5ee03aad-d326-498b-826e-2babbce7e7ef, ab1c0ff...</td>\n",
       "      <td>[be6ed6da-2d2a-4811-ab66-0e9fb965a0fc, c62d3ee...</td>\n",
       "      <td>[307ca00cc7afda89a8c7a0cc4fed486fcd84f7714bc68...</td>\n",
       "      <td>2025-07-15</td>\n",
       "      <td>3</td>\n",
       "    </tr>\n",
       "    <tr>\n",
       "      <th>2</th>\n",
       "      <td>b4f1d167-9580-4375-a3e8-40c6495f6ff1</td>\n",
       "      <td>2</td>\n",
       "      <td>2</td>\n",
       "      <td>0</td>\n",
       "      <td>-1</td>\n",
       "      <td>[]</td>\n",
       "      <td>Community 2</td>\n",
       "      <td>[fc5a6a64-5cc4-4741-a215-3ccfc7355149, fec7024...</td>\n",
       "      <td>[4181da8f-4ce8-4bf7-bcc2-8c6106303288, 6bd4a30...</td>\n",
       "      <td>[307ca00cc7afda89a8c7a0cc4fed486fcd84f7714bc68...</td>\n",
       "      <td>2025-07-15</td>\n",
       "      <td>4</td>\n",
       "    </tr>\n",
       "  </tbody>\n",
       "</table>\n",
       "</div>"
      ],
      "text/plain": [
       "                                     id  human_readable_id  community  level  \\\n",
       "0  182be202-a9c6-47ed-8c2b-3aea7dac7660                  0          0      0   \n",
       "1  9f1d51be-231f-4a3c-8e6e-f2f70e57e7b2                  1          1      0   \n",
       "2  b4f1d167-9580-4375-a3e8-40c6495f6ff1                  2          2      0   \n",
       "\n",
       "   parent children        title  \\\n",
       "0      -1       []  Community 0   \n",
       "1      -1       []  Community 1   \n",
       "2      -1       []  Community 2   \n",
       "\n",
       "                                          entity_ids  \\\n",
       "0  [a2cbdf05-09ab-4432-924e-b493adb9d01f, 753d66b...   \n",
       "1  [5ee03aad-d326-498b-826e-2babbce7e7ef, ab1c0ff...   \n",
       "2  [fc5a6a64-5cc4-4741-a215-3ccfc7355149, fec7024...   \n",
       "\n",
       "                                    relationship_ids  \\\n",
       "0  [3700d8fc-6a68-4552-80d6-7958514048e9, 4afe6d4...   \n",
       "1  [be6ed6da-2d2a-4811-ab66-0e9fb965a0fc, c62d3ee...   \n",
       "2  [4181da8f-4ce8-4bf7-bcc2-8c6106303288, 6bd4a30...   \n",
       "\n",
       "                                       text_unit_ids      period  size  \n",
       "0  [307ca00cc7afda89a8c7a0cc4fed486fcd84f7714bc68...  2025-07-15     7  \n",
       "1  [307ca00cc7afda89a8c7a0cc4fed486fcd84f7714bc68...  2025-07-15     3  \n",
       "2  [307ca00cc7afda89a8c7a0cc4fed486fcd84f7714bc68...  2025-07-15     4  "
      ]
     },
     "execution_count": 20,
     "metadata": {},
     "output_type": "execute_result"
    }
   ],
   "source": [
    "communities"
   ]
  },
  {
   "cell_type": "code",
   "execution_count": 21,
   "id": "5eb363be-b2e5-4172-884f-16152491ff59",
   "metadata": {
    "scrolled": true
   },
   "outputs": [
    {
     "data": {
      "text/html": [
       "<div>\n",
       "<style scoped>\n",
       "    .dataframe tbody tr th:only-of-type {\n",
       "        vertical-align: middle;\n",
       "    }\n",
       "\n",
       "    .dataframe tbody tr th {\n",
       "        vertical-align: top;\n",
       "    }\n",
       "\n",
       "    .dataframe thead th {\n",
       "        text-align: right;\n",
       "    }\n",
       "</style>\n",
       "<table border=\"1\" class=\"dataframe\">\n",
       "  <thead>\n",
       "    <tr style=\"text-align: right;\">\n",
       "      <th></th>\n",
       "      <th>id</th>\n",
       "      <th>human_readable_id</th>\n",
       "      <th>community</th>\n",
       "      <th>level</th>\n",
       "      <th>parent</th>\n",
       "      <th>children</th>\n",
       "      <th>title</th>\n",
       "      <th>summary</th>\n",
       "      <th>full_content</th>\n",
       "      <th>rank</th>\n",
       "      <th>rating_explanation</th>\n",
       "      <th>findings</th>\n",
       "      <th>full_content_json</th>\n",
       "      <th>period</th>\n",
       "      <th>size</th>\n",
       "    </tr>\n",
       "  </thead>\n",
       "  <tbody>\n",
       "    <tr>\n",
       "      <th>0</th>\n",
       "      <td>261ab711a9f84035aeca3950b1679e60</td>\n",
       "      <td>0</td>\n",
       "      <td>0</td>\n",
       "      <td>0</td>\n",
       "      <td>-1</td>\n",
       "      <td>[]</td>\n",
       "      <td>Amazon and Its Technological Ecosystem</td>\n",
       "      <td>The community is centered around Amazon, a glo...</td>\n",
       "      <td># Amazon and Its Technological Ecosystem\\n\\nTh...</td>\n",
       "      <td>9.0</td>\n",
       "      <td>The impact severity rating is high due to Amaz...</td>\n",
       "      <td>[{'explanation': 'Amazon, known as '亚马逊' in Ch...</td>\n",
       "      <td>{\\n    \"title\": \"Amazon and Its Technological ...</td>\n",
       "      <td>2025-07-15</td>\n",
       "      <td>7</td>\n",
       "    </tr>\n",
       "    <tr>\n",
       "      <th>1</th>\n",
       "      <td>b5429111e9744d11aa5669e410f9ec13</td>\n",
       "      <td>1</td>\n",
       "      <td>1</td>\n",
       "      <td>0</td>\n",
       "      <td>-1</td>\n",
       "      <td>[]</td>\n",
       "      <td>Microsoft and Its Founders: Bill Gates and Pau...</td>\n",
       "      <td>This community is centered around Microsoft, a...</td>\n",
       "      <td># Microsoft and Its Founders: Bill Gates and P...</td>\n",
       "      <td>9.0</td>\n",
       "      <td>The impact severity rating is high due to Micr...</td>\n",
       "      <td>[{'explanation': 'Microsoft, known as '微软' in ...</td>\n",
       "      <td>{\\n    \"title\": \"Microsoft and Its Founders: B...</td>\n",
       "      <td>2025-07-15</td>\n",
       "      <td>3</td>\n",
       "    </tr>\n",
       "    <tr>\n",
       "      <th>2</th>\n",
       "      <td>df046a8eb5ab4a6a8c29145c5555de25</td>\n",
       "      <td>2</td>\n",
       "      <td>2</td>\n",
       "      <td>0</td>\n",
       "      <td>-1</td>\n",
       "      <td>[]</td>\n",
       "      <td>Google and Quantum Computing</td>\n",
       "      <td>This community is centered around Google, a le...</td>\n",
       "      <td># Google and Quantum Computing\\n\\nThis communi...</td>\n",
       "      <td>9.0</td>\n",
       "      <td>The impact severity rating is high due to Goog...</td>\n",
       "      <td>[{'explanation': 'Google is a prominent techno...</td>\n",
       "      <td>{\\n    \"title\": \"Google and Quantum Computing\"...</td>\n",
       "      <td>2025-07-15</td>\n",
       "      <td>4</td>\n",
       "    </tr>\n",
       "  </tbody>\n",
       "</table>\n",
       "</div>"
      ],
      "text/plain": [
       "                                 id  human_readable_id  community  level  \\\n",
       "0  261ab711a9f84035aeca3950b1679e60                  0          0      0   \n",
       "1  b5429111e9744d11aa5669e410f9ec13                  1          1      0   \n",
       "2  df046a8eb5ab4a6a8c29145c5555de25                  2          2      0   \n",
       "\n",
       "   parent children                                              title  \\\n",
       "0      -1       []             Amazon and Its Technological Ecosystem   \n",
       "1      -1       []  Microsoft and Its Founders: Bill Gates and Pau...   \n",
       "2      -1       []                       Google and Quantum Computing   \n",
       "\n",
       "                                             summary  \\\n",
       "0  The community is centered around Amazon, a glo...   \n",
       "1  This community is centered around Microsoft, a...   \n",
       "2  This community is centered around Google, a le...   \n",
       "\n",
       "                                        full_content  rank  \\\n",
       "0  # Amazon and Its Technological Ecosystem\\n\\nTh...   9.0   \n",
       "1  # Microsoft and Its Founders: Bill Gates and P...   9.0   \n",
       "2  # Google and Quantum Computing\\n\\nThis communi...   9.0   \n",
       "\n",
       "                                  rating_explanation  \\\n",
       "0  The impact severity rating is high due to Amaz...   \n",
       "1  The impact severity rating is high due to Micr...   \n",
       "2  The impact severity rating is high due to Goog...   \n",
       "\n",
       "                                            findings  \\\n",
       "0  [{'explanation': 'Amazon, known as '亚马逊' in Ch...   \n",
       "1  [{'explanation': 'Microsoft, known as '微软' in ...   \n",
       "2  [{'explanation': 'Google is a prominent techno...   \n",
       "\n",
       "                                   full_content_json      period  size  \n",
       "0  {\\n    \"title\": \"Amazon and Its Technological ...  2025-07-15     7  \n",
       "1  {\\n    \"title\": \"Microsoft and Its Founders: B...  2025-07-15     3  \n",
       "2  {\\n    \"title\": \"Google and Quantum Computing\"...  2025-07-15     4  "
      ]
     },
     "execution_count": 21,
     "metadata": {},
     "output_type": "execute_result"
    }
   ],
   "source": [
    "community_reports"
   ]
  },
  {
   "cell_type": "code",
   "execution_count": 27,
   "id": "0389f574-c7eb-441a-8970-698494a36b89",
   "metadata": {},
   "outputs": [
    {
     "data": {
      "text/plain": [
       "Index(['id', 'human_readable_id', 'community', 'level', 'parent', 'children',\n",
       "       'title', 'summary', 'full_content', 'rank', 'rating_explanation',\n",
       "       'findings', 'full_content_json', 'period', 'size'],\n",
       "      dtype='object')"
      ]
     },
     "execution_count": 27,
     "metadata": {},
     "output_type": "execute_result"
    }
   ],
   "source": [
    "community_reports.columns"
   ]
  },
  {
   "cell_type": "code",
   "execution_count": 22,
   "id": "eea12778-e05b-4de3-b9c1-1e4c3a2c9101",
   "metadata": {},
   "outputs": [
    {
     "data": {
      "text/plain": [
       "0    The community is centered around Amazon, a glo...\n",
       "1    This community is centered around Microsoft, a...\n",
       "2    This community is centered around Google, a le...\n",
       "Name: summary, dtype: object"
      ]
     },
     "execution_count": 22,
     "metadata": {},
     "output_type": "execute_result"
    }
   ],
   "source": [
    "community_reports['summary']"
   ]
  },
  {
   "cell_type": "code",
   "execution_count": 23,
   "id": "cf578678-3b0b-48a8-8fe9-7ec04c4595d0",
   "metadata": {},
   "outputs": [
    {
     "data": {
      "text/plain": [
       "\"The community is centered around Amazon, a global leader in e-commerce and cloud computing, with significant contributions from its founder Jeff Bezos and its cloud platform AWS. Amazon's strategic acquisitions and innovations, such as Whole Foods and Alexa, further solidify its influence in the retail and technology sectors. The community also includes interactions with other tech giants like Apple and Google, highlighting competitive and cooperative dynamics in the tech industry.\""
      ]
     },
     "execution_count": 23,
     "metadata": {},
     "output_type": "execute_result"
    }
   ],
   "source": [
    "community_reports['summary'][0]"
   ]
  },
  {
   "cell_type": "code",
   "execution_count": 25,
   "id": "b598c0a2-4adb-4693-80af-021ec4733137",
   "metadata": {},
   "outputs": [
    {
     "data": {
      "text/plain": [
       "0    # Amazon and Its Technological Ecosystem\\n\\nTh...\n",
       "1    # Microsoft and Its Founders: Bill Gates and P...\n",
       "2    # Google and Quantum Computing\\n\\nThis communi...\n",
       "Name: full_content, dtype: object"
      ]
     },
     "execution_count": 25,
     "metadata": {},
     "output_type": "execute_result"
    }
   ],
   "source": [
    "community_reports['full_content']"
   ]
  },
  {
   "cell_type": "code",
   "execution_count": 26,
   "id": "29f3ac28-ada9-4898-b7d0-6bf82fe289f7",
   "metadata": {},
   "outputs": [
    {
     "data": {
      "text/plain": [
       "\"# Amazon and Its Technological Ecosystem\\n\\nThe community is centered around Amazon, a global leader in e-commerce and cloud computing, with significant contributions from its founder Jeff Bezos and its cloud platform AWS. Amazon's strategic acquisitions and innovations, such as Whole Foods and Alexa, further solidify its influence in the retail and technology sectors. The community also includes interactions with other tech giants like Apple and Google, highlighting competitive and cooperative dynamics in the tech industry.\\n\\n## Amazon's Dominance in E-commerce and Cloud Computing\\n\\nAmazon, known as '亚马逊' in Chinese, is a globally recognized leader in e-commerce and cloud computing. Founded in 1994, it has grown from an online bookstore to a comprehensive online marketplace offering a wide range of products and services. Amazon Web Services (AWS), its cloud computing platform, is a major profit driver and a critical component of its business model, providing services like computing power and storage to businesses worldwide [Data: Entities (11); Relationships (8)].\\n\\n## Jeff Bezos' Role in Amazon's Growth\\n\\nJeff Bezos, the founder of Amazon, played a pivotal role in transforming the company into a global e-commerce giant. His leadership and vision were instrumental in Amazon's expansion and innovation, particularly in the development of AWS and the acquisition of Whole Foods, which strengthened Amazon's position in the retail sector [Data: Entities (12); Relationships (7)].\\n\\n## AWS as a Key Profit Source\\n\\nAWS, launched by Amazon, is the world's first large-scale commercial cloud computing platform. It has become a significant source of profit for Amazon, offering a variety of services that enhance digital operations for businesses and individuals globally. AWS's success underscores Amazon's strategic focus on integrating e-commerce with advanced technology solutions [Data: Entities (13); Relationships (8)].\\n\\n## Strategic Acquisition of Whole Foods\\n\\nAmazon's acquisition of Whole Foods marked a strategic move to consolidate its position in the retail sector. This acquisition not only expanded Amazon's market reach but also integrated its e-commerce capabilities with physical retail, offering a seamless shopping experience for consumers [Data: Entities (14); Relationships (9)].\\n\\n## Innovation with Alexa\\n\\nAmazon's introduction of Alexa, a smart assistant, has significantly enhanced its influence in the technology sector. Alexa represents Amazon's commitment to innovation and its ability to leverage artificial intelligence to improve user experience, further solidifying its reputation as a tech leader [Data: Entities (15); Relationships (10)].\\n\\n## Amazon's Investment in Artificial Intelligence\\n\\nAmazon is actively investing in artificial intelligence to enhance user experience, reflecting its strategic focus on integrating AI into its services. This investment positions Amazon at the forefront of technological innovation, driving advancements in AI applications across its platforms [Data: Relationships (14)].\\n\\n## Competitive and Cooperative Dynamics with Apple and Google\\n\\nAmazon's interactions with other tech giants like Apple and Google highlight the competitive and cooperative dynamics within the tech industry. While these companies compete in various sectors, they also collaborate on certain initiatives, reflecting the complex relationships that drive technological advancement [Data: Entities (18, 19); Relationships (17)].\""
      ]
     },
     "execution_count": 26,
     "metadata": {},
     "output_type": "execute_result"
    }
   ],
   "source": [
    "community_reports['full_content'][0]"
   ]
  },
  {
   "cell_type": "markdown",
   "id": "cea5dd34-f683-4f35-9dfe-7780561c2482",
   "metadata": {},
   "source": [
    "| 字段名                  | 类型                   | 说明                                                                |\n",
    "| -------------------- | -------------------- | ----------------------------------------------------------------- |\n",
    "| `id`                 | `str`                | 报告的唯一 ID，通常是哈希或社区 ID 的组合。用于在图谱中唯一定位该社区报告。                         |\n",
    "| `human_readable_id`  | `str`                | 可读性更好的社区标识符，通常是 `\"community-level-{level}-{index}\"` 格式，便于调试与前端展示。 |\n",
    "| `community`          | `int` 或 `str`        | 当前社区在该层级下的唯一编号。你可以理解为社区编号 ID。多个节点会共享同一个社区 ID。                     |\n",
    "| `level`              | `int`                | 当前报告所属的社区层级。Level 越小，社区越细粒度；Level 越大，聚类越粗。                        |\n",
    "| `parent`             | `str` 或 `None`       | 当前社区在更高一层中的父社区 ID。用于构建社区层级结构（Community Tree）。如果为 `None`，说明是最高层。   |\n",
    "| `children`           | `list[str]`          | 当前社区在下一层级中包含的子社区 ID 列表。为空表示为叶子社区。                                 |\n",
    "| `title`              | `str`                | 对该社区内容的自动生成标题（可由模型生成或规则设定）。用于语义检索与 UI 展示。                         |\n",
    "| `summary`            | `str`                | 对该社区内容的简要总结（一般为几句话）。用于快速语义匹配，也可以用于向量嵌入。                           |\n",
    "| `full_content`       | `str`                | 该社区整合后的完整文段（拼接了该社区内所有实体文档片段，或模型进一步生成）。是 RAG 上下文构造的主要语料。           |\n",
    "| `rank`               | `float` 或 `int`      | 可选字段，表示该社区在排序（如语义相关性）中的相对重要性分数。常用于调试或模型排序依据。                      |\n",
    "| `rating_explanation` | `str`                | 可选字段，对当前社区的 rank/score 给出解释（如“与查询高相关，因为包含关键词...”）。可能是模型输出。        |\n",
    "| `findings`           | `list[str]` 或 `dict` | 可选字段，提取出的关键信息点（如 bullet points），用于 structured 回答或 JSON 输出。        |\n",
    "| `full_content_json`  | `dict`               | 可选字段，将 `full_content` 拆分为结构化 JSON，按实体、段落、来源组织。用于结构化回答或前端高亮。       |\n",
    "| `period`             | `str` 或 `datetime`   | 如果图谱包含时间维度，这里表示该社区报告的时间跨度（如“2023-Q1”）。                            |\n",
    "| `size`               | `int`                | 该社区包含的实体数量，或构成 `full_content` 的节点数（chunk数）。可用于过滤过小社区。             |\n"
   ]
  },
  {
   "cell_type": "markdown",
   "id": "c79c9b25-e4b4-4088-8d81-77cfaba6be8a",
   "metadata": {},
   "source": [
    "\n",
    "GraphRAG 会根据文档中实体之间的**语义关系网络**构建一张实体图（Entity Graph），然后通过图聚类算法（如 Leiden 或 Louvain）划分出**多层级社区结构**。这些社区层级形成了一棵“**社区树（Community Tree）**”。\n",
    "\n",
    "##### Step-by-step：GraphRAG 社区构建流程（简化）\n",
    "\n",
    "1. **实体提取**：识别出如“苹果公司”、“乔布斯”、“iPhone”、“谷歌”、“搜索引擎”等实体。\n",
    "2. **实体关系建图**：如“乔布斯 → 苹果公司”、“iPhone 属于苹果”、“谷歌 → Android”，这些组成图结构。\n",
    "3. **图聚类 + 分层**：\n",
    "\n",
    "   * **Level 0**：每个段落或实体形成最基础社区（如每家公司为一级）\n",
    "   * **Level 1**：按公司维度聚合（如“苹果公司全景”、“谷歌全景”）\n",
    "   * **Level 2**：聚合成“美国科技巨头”\n",
    "   * **Level 3**：聚合为“硅谷生态系统”\n",
    "4. **形成树状结构**：通过 `parent` 和 `children` 字段形成嵌套结构。\n",
    "\n",
    "\n",
    "##### 📊 示例：你的文本的**假想社区聚类结果**（树状结构）\n",
    "\n",
    "我们来列一个例子，用伪结构表示各层级关系：\n",
    "\n",
    "```\n",
    "🟢 Level 3: 全球科技生态系统（Global Tech Ecosystem）\n",
    "│\n",
    "├── 🔵 Level 2: 硅谷科技巨头（Silicon Valley Giants）\n",
    "│   │\n",
    "│   ├── 🟣 Level 1: 苹果公司社区（Apple Inc. Community）\n",
    "│   │   ├── ⚫ Level 0: 乔布斯创业故事（乔布斯、Wozniak、Apple I）\n",
    "│   │   ├── ⚫ Level 0: iPhone发布与影响（iPhone, iOS）\n",
    "│   │   └── ⚫ Level 0: Apple财务与市值数据\n",
    "│   │\n",
    "│   ├── 🟣 Level 1: 谷歌社区（Google Community）\n",
    "│   │   ├── ⚫ Level 0: 搜索引擎发展（Search, PageRank）\n",
    "│   │   ├── ⚫ Level 0: YouTube & Android\n",
    "│   │   └── ⚫ Level 0: AlphaGo & 人工智能\n",
    "│   │\n",
    "│   ├── 🟣 Level 1: 微软社区（Microsoft Community）\n",
    "│   │   ├── ⚫ Level 0: MS-DOS & Windows\n",
    "│   │   ├── ⚫ Level 0: Azure 云计算\n",
    "│   │   └── ⚫ Level 0: LinkedIn, GitHub 并购\n",
    "│   │\n",
    "│   ├── 🟣 Level 1: 亚马逊社区（Amazon Community）\n",
    "│   │   ├── ⚫ Level 0: 在线书店起家\n",
    "│   │   ├── ⚫ Level 0: AWS 云计算\n",
    "│   │   └── ⚫ Level 0: Alexa & Whole Foods\n",
    "│\n",
    "├── 🔵 Level 2: 技术趋势社区（Tech Trends Community）\n",
    "│   ├── 🟣 Level 1: 人工智能（AI）\n",
    "│   │   └── ⚫ Level 0: AlphaGo, 智能助手, AI 应用\n",
    "│   ├── 🟣 Level 1: 量子计算（Quantum Computing）\n",
    "│   │   └── ⚫ Level 0: 谷歌 Sycamore、微软量子团队\n",
    "│\n",
    "└── 🔵 Level 2: 创业与生态社区（Startup & Ecosystem）\n",
    "    ├── 🟣 Level 1: 风险投资与大学资源（斯坦福、伯克利、VC）\n",
    "    └── 🟣 Level 1: 合作与竞合（微软支持 Android、Safari 用 Google）\n",
    "\n",
    "```\n",
    "\n",
    "##### 🧩 说明这个结构里的每层含义：\n",
    "\n",
    "| 层级      | 含义              | 示例                        |\n",
    "| ------- | --------------- | ------------------------- |\n",
    "| Level 0 | 最细粒度：某一段落、产品或事件 | Apple I 发布、iPhone、AlphaGo |\n",
    "| Level 1 | 某家公司或单一主题的聚合    | 苹果社区、谷歌社区                 |\n",
    "| Level 2 | 同类型群体整合         | 硅谷科技巨头、前沿技术趋势             |\n",
    "| Level 3 | 全局主题，覆盖全文的宏观话题  | 全球科技生态系统                  |\n",
    "\n",
    "\n",
    "##### ✅ 在 GraphRAG 中如何体现？\n",
    "\n",
    "在你的 `community_reports.parquet` 中：\n",
    "\n",
    "* 每行代表一个社区\n",
    "* `level` 表示该社区的层级\n",
    "* `parent` 字段连接上层社区（如“谷歌社区”是“硅谷科技巨头”的子节点）\n",
    "* `children` 是该社区下辖的子社区 ID 列表\n",
    "* `summary` / `title` 是每个社区自动生成的概括信息"
   ]
  },
  {
   "cell_type": "code",
   "execution_count": 10,
   "id": "5154f945-64c4-497a-9f42-b0f770c75ed7",
   "metadata": {
    "scrolled": true
   },
   "outputs": [
    {
     "data": {
      "text/plain": [
       "\u001b[31mSignature:\u001b[39m\n",
       "api.global_search(\n",
       "    config: graphrag.config.models.graph_rag_config.GraphRagConfig,\n",
       "    entities: pandas.core.frame.DataFrame,\n",
       "    communities: pandas.core.frame.DataFrame,\n",
       "    community_reports: pandas.core.frame.DataFrame,\n",
       "    community_level: int | \u001b[38;5;28;01mNone\u001b[39;00m,\n",
       "    dynamic_community_selection: bool,\n",
       "    response_type: str,\n",
       "    query: str,\n",
       "    callbacks: list[graphrag.callbacks.query_callbacks.QueryCallbacks] | \u001b[38;5;28;01mNone\u001b[39;00m = \u001b[38;5;28;01mNone\u001b[39;00m,\n",
       "    verbose: bool = \u001b[38;5;28;01mFalse\u001b[39;00m,\n",
       ") -> tuple[str | dict[str, typing.Any] | list[dict[str, typing.Any]], str | list[pandas.core.frame.DataFrame] | dict[str, pandas.core.frame.DataFrame]]\n",
       "\u001b[31mDocstring:\u001b[39m\n",
       "Perform a global search and return the context data and response.\n",
       "\n",
       "Parameters\n",
       "----------\n",
       "- config (GraphRagConfig): A graphrag configuration (from settings.yaml)\n",
       "- entities (pd.DataFrame): A DataFrame containing the final entities (from entities.parquet)\n",
       "- communities (pd.DataFrame): A DataFrame containing the final communities (from communities.parquet)\n",
       "- community_reports (pd.DataFrame): A DataFrame containing the final community reports (from community_reports.parquet)\n",
       "- community_level (int): The community level to search at.\n",
       "- dynamic_community_selection (bool): Enable dynamic community selection instead of using all community reports at a fixed level. Note that you can still provide community_level cap the maximum level to search.\n",
       "- response_type (str): The type of response to return.\n",
       "- query (str): The user query to search for.\n",
       "\n",
       "Returns\n",
       "-------\n",
       "TODO: Document the search response type and format.\n",
       "\u001b[31mFile:\u001b[39m      ~/miniconda3/envs/graphrag/lib/python3.11/site-packages/graphrag/api/query.py\n",
       "\u001b[31mType:\u001b[39m      function"
      ]
     },
     "metadata": {},
     "output_type": "display_data"
    }
   ],
   "source": [
    "api.global_search?"
   ]
  },
  {
   "cell_type": "markdown",
   "id": "dfa674dd-3ee6-4fb6-8b82-8a08a4561a58",
   "metadata": {},
   "source": [
    "| 参数名                           | 类型               | 说明                                                                                                                     |\n",
    "| ----------------------------- | ---------------- | ---------------------------------------------------------------------------------------------------------------------- |\n",
    "| `config`                      | `GraphRagConfig` | GraphRAG 的主配置对象，包含模型路径、RAG参数、embedding设置等，一般通过 `from_config()` 加载 `settings.yaml` 来生成。                                 |\n",
    "| `entities`                    | `pd.DataFrame`   | 实体识别后的结果，来源通常是 `entities.parquet`，包括节点信息、类型、embedding等。                                                                |\n",
    "| `communities`                 | `pd.DataFrame`   | 图谱中的“社区聚类结构”，从 `communities.parquet` 加载，表示实体之间的聚类关系。                                                                   |\n",
    "| `community_reports`           | `pd.DataFrame`   | 每个社区在不同层级下的摘要信息（或报告），用于组装最终的检索语料。                                                                                      |\n",
    "| `community_level`             | `int \\| None`    | 指定使用哪个层级的社区报告（越小越细粒度），设置为 `None` 表示全部层级或根据 `dynamic_community_selection` 自动决定。                                         |\n",
    "| `dynamic_community_selection` | `bool`           | 如果为 True，系统会根据 query 智能选择哪些社区最相关，而不是用全部报告。适用于大图谱提升效率。                                                                  |\n",
    "| `response_type`               | `str`            | 指定返回的格式，常见有 `\"Single Paragraph\"`, `\"Multiple Paragraphs\"`, `\"Structured\"`，甚至有 `\"Markdown\"`、`\"Bullet List\"` 等（依模型配置支持）。 |\n",
    "| `query`                       | `str`            | 用户自然语言查询。                                                                                                              |\n",
    "| `callbacks` | `list[QueryCallbacks] \\| None` | 用于调试或中间日志记录，一般用于开发或观察 pipeline 各步骤的输出。 |\n",
    "| `verbose`   | `bool`                         | 是否打印详细执行过程日志，默认为 False，调试时可设为 True。    |\n"
   ]
  },
  {
   "cell_type": "code",
   "execution_count": 12,
   "id": "c4cbc98c-f779-4258-b526-60d819303563",
   "metadata": {},
   "outputs": [],
   "source": [
    "response, context = await api.global_search(\n",
    "    config=graphrag_config,\n",
    "    entities=entities,\n",
    "    communities=communities,\n",
    "    community_reports=community_reports,\n",
    "    community_level=2,\n",
    "    dynamic_community_selection=False,\n",
    "    response_type=\"Multiple Paragraphs\",\n",
    "    query=\"请帮我介绍下谷歌公司。\",\n",
    ")"
   ]
  },
  {
   "cell_type": "markdown",
   "id": "843269e2-9afa-481b-92e3-bffcef30e593",
   "metadata": {},
   "source": [
    "##### 📌 community_level概念理解：\n",
    "\n",
    "`community_level` 表示你希望查询使用 **哪一层的社区聚类（Community Clustering）**。\n",
    "\n",
    "GraphRAG 在构建图谱时，通常会使用如 **Louvain** 或 **Leiden** 等算法进行 **多层次图聚类（Multilevel Graph Clustering）**。这会得到一个社区树（community hierarchy），例如：\n",
    "\n",
    "```\n",
    "Level 0: 原始实体（最细粒度）\n",
    "Level 1: 小社区（如子话题）\n",
    "Level 2: 中型社区（如一级话题）\n",
    "Level 3: 大社区（如一个公司/产业群体）\n",
    "Level 4: 全图（如所有技术公司）\n",
    "```\n",
    "\n",
    "##### 📌 参数意义：\n",
    "\n",
    "* `community_level=1`：选择较细粒度的社区\n",
    "* `community_level=2`：选择中等粒度\n",
    "* `community_level=3`：选择较粗粒度\n",
    "* `community_level=None`：表示不限定层级（可配合 `dynamic_community_selection=True` 自适应选择）\n",
    "\n",
    "##### 📌 实际用途示例：\n",
    "\n",
    "| 场景                            | 建议 `community_level` 设置                           |\n",
    "| ----------------------------- | ------------------------------------------------- |\n",
    "| 精细问答，例如“谷歌公司在2023年发布了哪些AI产品？” | `community_level=1`                               |\n",
    "| 概述问答，例如“介绍一下谷歌公司”             | `community_level=2` 或 `3`                         |\n",
    "| 模型自动决定最相关的粒度                  | 设置为 `None`，并打开 `dynamic_community_selection=True` |\n",
    "\n",
    "\n",
    "##### 📌 response_type概念理解：\n",
    "\n",
    "`response_type` 控制的是最终 LLM 生成回答的“格式样式”，比如是：\n",
    "\n",
    "* 纯段落？\n",
    "* 多段详细回答？\n",
    "* markdown 格式？\n",
    "* 结构化 JSON 输出？\n",
    "\n",
    "它是传递给 **Prompt Template / RAG格式控制器** 的一个变量。\n",
    "\n",
    "##### 📌 可选值（以官方实现为例）：\n",
    "\n",
    "| response\\_type 选项       | 描述                    |\n",
    "| ----------------------- | --------------------- |\n",
    "| `\"Single Paragraph\"`    | 输出为一段简洁回答             |\n",
    "| `\"Multiple Paragraphs\"` | 输出为多段详细分析（推荐用于总结类问题）  |\n",
    "| `\"Bullet List\"`         | 输出为列表结构（适合列举型回答）      |\n",
    "| `\"Markdown\"`            | 格式为 markdown（适合展示给前端） |\n",
    "| `\"Structured\"`          | 输出为结构化 JSON（开发用）      |\n",
    "| `\"Chain of Thought\"`    | 模拟思考过程的回答格式           |\n",
    "| `\"Table\"`               | 返回表格（比如对比多个实体）        |\n",
    "\n",
    "> 📌 注意：实际支持的 `response_type` 类型，取决于 `GraphRagConfig` 中定义的 Prompt 模板。部分格式如果 prompt 没设计好，设置了也不会有效果。\n",
    "\n",
    "##### 📌 示例应用场景：\n",
    "\n",
    "| 任务                | 建议 `response_type`                     |\n",
    "| ----------------- | -------------------------------------- |\n",
    "| 概括谷歌公司的背景信息       | `\"Multiple Paragraphs\"`                |\n",
    "| 总结某人履历            | `\"Bullet List\"` 或 `\"Single Paragraph\"` |\n",
    "| 提取结构化信息（如公司财务数据）  | `\"Structured\"`                         |\n",
    "| 输出 markdown 给前端展示 | `\"Markdown\"`                           |\n",
    "| 做选项对比             | `\"Table\"`                              |\n",
    "\n",
    "##### 总结：如何选择这两个参数？\n",
    "\n",
    "| 目标              | `community_level`                           | `response_type`                        |\n",
    "| --------------- | ------------------------------------------- | -------------------------------------- |\n",
    "| 查询具体问题，想要更精准的答案 | `1` 或 `2`                                   | `\"Single Paragraph\"` 或 `\"Bullet List\"` |\n",
    "| 查询广义话题，希望有概括性回答 | `2` 或 `3`                                   | `\"Multiple Paragraphs\"` 或 `\"Markdown\"` |\n",
    "| 不确定社区粒度，让模型自动选  | `None` + `dynamic_community_selection=True` | 任意                                     |\n",
    "| 想要用在程序中提取结构化数据  | 任意                                          | `\"Structured\"`                         |"
   ]
  },
  {
   "cell_type": "code",
   "execution_count": 16,
   "id": "05635435-b926-455a-82ee-e7ea552c955b",
   "metadata": {},
   "outputs": [
    {
     "data": {
      "text/markdown": [
       "### 谷歌公司简介\n",
       "\n",
       "谷歌是一家领先的科技公司，以其在人工智能、移动技术和量子计算方面的进步而闻名。公司在这些领域的扩展使其在行业中确立了领导地位 [Data: Reports (2)]。\n",
       "\n",
       "#### 人工智能的进步\n",
       "\n",
       "谷歌在人工智能领域取得了重大进展，将AI技术整合到其众多产品和服务中。这种整合不仅提升了用户体验和功能性，还展示了谷歌对创新的承诺 [Data: Reports (2)]。\n",
       "\n",
       "#### 量子计算的投资\n",
       "\n",
       "谷歌在量子计算方面的重大投资突显了其在开创性技术上的承诺。公司在这一尖端领域投入了大量资源进行研究和开发，显示出其对未来技术的重视 [Data: Reports (2)]。\n",
       "\n",
       "#### 移动技术的影响\n",
       "\n",
       "谷歌开发了强大的移动操作系统——Android，该系统为全球绝大多数智能手机提供支持。这一成就进一步巩固了谷歌在移动技术领域的地位 [Data: Reports (2)]。\n",
       "\n",
       "#### 创始人的影响\n",
       "\n",
       "谷歌的联合创始人拉里·佩奇和谢尔盖·布林在公司的发展和成长中发挥了关键作用。他们的领导和愿景对谷歌的战略方向及其对行业的影响产生了重大影响 [Data: Reports (2)]。\n",
       "\n",
       "综上所述，谷歌通过在人工智能、量子计算和移动技术等领域的创新和投资，继续在全球科技行业中保持其领先地位。"
      ],
      "text/plain": [
       "<IPython.core.display.Markdown object>"
      ]
     },
     "metadata": {},
     "output_type": "display_data"
    }
   ],
   "source": [
    "display(Markdown(response))"
   ]
  },
  {
   "cell_type": "code",
   "execution_count": 17,
   "id": "a7515b70-d0b9-44cd-a420-dca33f306871",
   "metadata": {},
   "outputs": [
    {
     "data": {
      "text/plain": [
       "{'reports':   id                                              title  occurrence weight  \\\n",
       " 0  2                       Google and Quantum Computing                1.0   \n",
       " 1  1  Microsoft and Its Founders: Bill Gates and Pau...                1.0   \n",
       " 2  0             Amazon and Its Technological Ecosystem                1.0   \n",
       " \n",
       "                                              content  rank  \n",
       " 0  # Google and Quantum Computing\\n\\nThis communi...   9.0  \n",
       " 1  # Microsoft and Its Founders: Bill Gates and P...   9.0  \n",
       " 2  # Amazon and Its Technological Ecosystem\\n\\nTh...   9.0  }"
      ]
     },
     "execution_count": 17,
     "metadata": {},
     "output_type": "execute_result"
    }
   ],
   "source": [
    "context"
   ]
  },
  {
   "cell_type": "code",
   "execution_count": 18,
   "id": "412ac074-ce2a-4f8a-a040-0cc6f8cbc36b",
   "metadata": {},
   "outputs": [
    {
     "data": {
      "text/html": [
       "<div>\n",
       "<style scoped>\n",
       "    .dataframe tbody tr th:only-of-type {\n",
       "        vertical-align: middle;\n",
       "    }\n",
       "\n",
       "    .dataframe tbody tr th {\n",
       "        vertical-align: top;\n",
       "    }\n",
       "\n",
       "    .dataframe thead th {\n",
       "        text-align: right;\n",
       "    }\n",
       "</style>\n",
       "<table border=\"1\" class=\"dataframe\">\n",
       "  <thead>\n",
       "    <tr style=\"text-align: right;\">\n",
       "      <th></th>\n",
       "      <th>id</th>\n",
       "      <th>title</th>\n",
       "      <th>occurrence weight</th>\n",
       "      <th>content</th>\n",
       "      <th>rank</th>\n",
       "    </tr>\n",
       "  </thead>\n",
       "  <tbody>\n",
       "    <tr>\n",
       "      <th>0</th>\n",
       "      <td>2</td>\n",
       "      <td>Google and Quantum Computing</td>\n",
       "      <td>1.0</td>\n",
       "      <td># Google and Quantum Computing\\n\\nThis communi...</td>\n",
       "      <td>9.0</td>\n",
       "    </tr>\n",
       "    <tr>\n",
       "      <th>1</th>\n",
       "      <td>1</td>\n",
       "      <td>Microsoft and Its Founders: Bill Gates and Pau...</td>\n",
       "      <td>1.0</td>\n",
       "      <td># Microsoft and Its Founders: Bill Gates and P...</td>\n",
       "      <td>9.0</td>\n",
       "    </tr>\n",
       "    <tr>\n",
       "      <th>2</th>\n",
       "      <td>0</td>\n",
       "      <td>Amazon and Its Technological Ecosystem</td>\n",
       "      <td>1.0</td>\n",
       "      <td># Amazon and Its Technological Ecosystem\\n\\nTh...</td>\n",
       "      <td>9.0</td>\n",
       "    </tr>\n",
       "  </tbody>\n",
       "</table>\n",
       "</div>"
      ],
      "text/plain": [
       "  id                                              title  occurrence weight  \\\n",
       "0  2                       Google and Quantum Computing                1.0   \n",
       "1  1  Microsoft and Its Founders: Bill Gates and Pau...                1.0   \n",
       "2  0             Amazon and Its Technological Ecosystem                1.0   \n",
       "\n",
       "                                             content  rank  \n",
       "0  # Google and Quantum Computing\\n\\nThis communi...   9.0  \n",
       "1  # Microsoft and Its Founders: Bill Gates and P...   9.0  \n",
       "2  # Amazon and Its Technological Ecosystem\\n\\nTh...   9.0  "
      ]
     },
     "execution_count": 18,
     "metadata": {},
     "output_type": "execute_result"
    }
   ],
   "source": [
    "context['reports']"
   ]
  },
  {
   "cell_type": "markdown",
   "id": "1a03b07a-e1d0-419f-b617-22a863d2a986",
   "metadata": {},
   "source": [
    "- 拒绝回答情况。"
   ]
  },
  {
   "cell_type": "code",
   "execution_count": 102,
   "id": "a23548ac-d612-4f7c-b4f7-1d14882679c7",
   "metadata": {},
   "outputs": [
    {
     "name": "stdout",
     "output_type": "stream",
     "text": [
      "2025-07-17 17:04:14.0764 - WARNING - graphrag.query.structured_search.global_search.search - Warning: All map responses have score 0 (i.e., no relevant information found from the dataset), returning a canned 'I do not know' answer. You can try enabling `allow_general_knowledge` to encourage the LLM to incorporate relevant general knowledge, at the risk of increasing hallucinations.\n"
     ]
    }
   ],
   "source": [
    "response, context = await api.global_search(\n",
    "    config=graphrag_config,\n",
    "    entities=entities,\n",
    "    communities=communities,\n",
    "    community_reports=community_reports,\n",
    "    community_level=2,\n",
    "    dynamic_community_selection=False,\n",
    "    response_type=\"Multiple Paragraphs\",\n",
    "    query=\"请帮我介绍下DeepSeek模型。\",\n",
    ")"
   ]
  },
  {
   "cell_type": "code",
   "execution_count": 103,
   "id": "7e5132a5-9cb0-4848-9ab9-86f9934e7c02",
   "metadata": {},
   "outputs": [
    {
     "data": {
      "text/plain": [
       "'I am sorry but I am unable to answer this question given the provided data.'"
      ]
     },
     "execution_count": 103,
     "metadata": {},
     "output_type": "execute_result"
    }
   ],
   "source": [
    "response"
   ]
  },
  {
   "cell_type": "markdown",
   "id": "1c3a776b-531e-44e9-b7d3-b0528f629786",
   "metadata": {},
   "source": [
    "- 局部搜索模式"
   ]
  },
  {
   "cell_type": "code",
   "execution_count": 33,
   "id": "f1f689f2-a530-4404-99bc-3e461fcb91e7",
   "metadata": {
    "scrolled": true
   },
   "outputs": [
    {
     "data": {
      "text/plain": [
       "\u001b[31mSignature:\u001b[39m\n",
       "api.local_search(\n",
       "    config: graphrag.config.models.graph_rag_config.GraphRagConfig,\n",
       "    entities: pandas.core.frame.DataFrame,\n",
       "    communities: pandas.core.frame.DataFrame,\n",
       "    community_reports: pandas.core.frame.DataFrame,\n",
       "    text_units: pandas.core.frame.DataFrame,\n",
       "    relationships: pandas.core.frame.DataFrame,\n",
       "    covariates: pandas.core.frame.DataFrame | \u001b[38;5;28;01mNone\u001b[39;00m,\n",
       "    community_level: int,\n",
       "    response_type: str,\n",
       "    query: str,\n",
       "    callbacks: list[graphrag.callbacks.query_callbacks.QueryCallbacks] | \u001b[38;5;28;01mNone\u001b[39;00m = \u001b[38;5;28;01mNone\u001b[39;00m,\n",
       "    verbose: bool = \u001b[38;5;28;01mFalse\u001b[39;00m,\n",
       ") -> tuple[str | dict[str, typing.Any] | list[dict[str, typing.Any]], str | list[pandas.core.frame.DataFrame] | dict[str, pandas.core.frame.DataFrame]]\n",
       "\u001b[31mDocstring:\u001b[39m\n",
       "Perform a local search and return the context data and response.\n",
       "\n",
       "----------\n",
       "- config (GraphRagConfig): A graphrag configuration (from settings.yaml)\n",
       "- entities (pd.DataFrame): A DataFrame containing the final entities (from entities.parquet)\n",
       "- community_reports (pd.DataFrame): A DataFrame containing the final community reports (from community_reports.parquet)\n",
       "- text_units (pd.DataFrame): A DataFrame containing the final text units (from text_units.parquet)\n",
       "- relationships (pd.DataFrame): A DataFrame containing the final relationships (from relationships.parquet)\n",
       "- covariates (pd.DataFrame): A DataFrame containing the final covariates (from covariates.parquet)\n",
       "- community_level (int): The community level to search at.\n",
       "- response_type (str): The response type to return.\n",
       "- query (str): The user query to search for.\n",
       "\n",
       "Returns\n",
       "-------\n",
       "TODO: Document the search response type and format.\n",
       "\u001b[31mFile:\u001b[39m      ~/miniconda3/envs/graphrag/lib/python3.11/site-packages/graphrag/api/query.py\n",
       "\u001b[31mType:\u001b[39m      function"
      ]
     },
     "metadata": {},
     "output_type": "display_data"
    }
   ],
   "source": [
    "api.local_search?"
   ]
  },
  {
   "cell_type": "markdown",
   "id": "53f78b5e-ed36-4642-9faf-89d30b264bde",
   "metadata": {},
   "source": [
    "| 参数名                 | 类型                             | 是否必填        | 说明                                                                                                                             |\n",
    "| ------------------- | ------------------------------ | ----------- | ------------------------------------------------------------------------------------------------------------------------------ |\n",
    "| `config`            | `GraphRagConfig`               | ✅           | 图谱配置对象，一般通过 `from_config()` 加载 `settings.yaml`。包含模型配置、索引路径、召回策略等。                                                              |\n",
    "| `entities`          | `pd.DataFrame`                 | ✅           | 实体表，通常来源于 `entities.parquet`，包含所有命名实体及其属性，如 ID、名称、所属社区等。                                                                       |\n",
    "| `communities`       | `pd.DataFrame`                 | ✅           | 社区聚类结构表，来源于 `communities.parquet`，定义实体之间的社区归属关系及其多层级结构。                                                                        |\n",
    "| `community_reports` | `pd.DataFrame`                 | ✅           | 社区摘要表，来源于 `community_reports.parquet`，为每个社区生成的 `title`、`summary`、`full_content` 等字段。                                           |\n",
    "| `text_units`        | `pd.DataFrame`                 | ✅           | 原始文本段落表，来源于 `text_units.parquet`，包含切分后的文本块及其关联的实体和社区。局部搜索会从中选择匹配段落。                                                            |\n",
    "| `relationships`     | `pd.DataFrame`                 | ✅           | 实体关系图，来源于 `relationships.parquet`，定义实体间的边和边类型（如“属于”、“引用”、“提到”）。用于辅助聚类和检索判断。                                                    |\n",
    "| `covariates`        | `pd.DataFrame \\| None`         | ✅（可以为 None） | 协变量（可选），来源于 `covariates.parquet`，包含实体或段落的额外属性，如时间戳、文档来源、权重等。可用于过滤。                                                             |\n",
    "| `community_level`   | `int`                          | ✅           | 指定在哪一层级的社区中进行搜索。值越小表示越细粒度社区（如 level=0 为最细分粒度）。                                                                                 |\n",
    "| `response_type`     | `str`                          | ✅           | 指定回答的返回格式。常见值有： `\"Single Paragraph\"`, `\"Multiple Paragraphs\"`, `\"Bullet List\"`, `\"Markdown\"`, `\"Structured\"` 等（依模型 prompt 支持）。 |\n",
    "| `query`             | `str`                          | ✅           | 用户自然语言查询。局部搜索会基于 query 提取相关实体与社区，在其内部执行文本片段召回与问答。                                                                              |\n",
    "| `callbacks`         | `list[QueryCallbacks] \\| None` | ❌           | 用于观察 GraphRAG 内部处理过程（中间步骤、实体匹配、检索日志等），适合调试使用。                                                                                  |\n",
    "| `verbose`           | `bool`                         | ❌           | 是否输出详细日志信息。设置为 `True` 可用于调试和观察每一步流程。                                                                                           |"
   ]
  },
  {
   "cell_type": "code",
   "execution_count": 40,
   "id": "a09fb7e3-3673-4746-8a2f-3840421bd388",
   "metadata": {},
   "outputs": [],
   "source": [
    "text_units = pd.read_parquet(f\"{PROJECT_DIRECTORY}/output/text_units.parquet\")\n",
    "relationships = pd.read_parquet(f\"{PROJECT_DIRECTORY}/output/relationships.parquet\")"
   ]
  },
  {
   "cell_type": "code",
   "execution_count": 39,
   "id": "c625cf24-516c-4bd5-8cac-523b4be51d22",
   "metadata": {
    "scrolled": true
   },
   "outputs": [
    {
     "data": {
      "text/html": [
       "<div>\n",
       "<style scoped>\n",
       "    .dataframe tbody tr th:only-of-type {\n",
       "        vertical-align: middle;\n",
       "    }\n",
       "\n",
       "    .dataframe tbody tr th {\n",
       "        vertical-align: top;\n",
       "    }\n",
       "\n",
       "    .dataframe thead th {\n",
       "        text-align: right;\n",
       "    }\n",
       "</style>\n",
       "<table border=\"1\" class=\"dataframe\">\n",
       "  <thead>\n",
       "    <tr style=\"text-align: right;\">\n",
       "      <th></th>\n",
       "      <th>id</th>\n",
       "      <th>human_readable_id</th>\n",
       "      <th>text</th>\n",
       "      <th>n_tokens</th>\n",
       "      <th>document_ids</th>\n",
       "      <th>entity_ids</th>\n",
       "      <th>relationship_ids</th>\n",
       "      <th>covariate_ids</th>\n",
       "    </tr>\n",
       "  </thead>\n",
       "  <tbody>\n",
       "    <tr>\n",
       "      <th>0</th>\n",
       "      <td>307ca00cc7afda89a8c7a0cc4fed486fcd84f7714bc683...</td>\n",
       "      <td>1</td>\n",
       "      <td>在过去的几十年中，全球科技行业经历了翻天覆地的变化。以硅谷为中心的创新生态系统催生了许多世界...</td>\n",
       "      <td>1200</td>\n",
       "      <td>[66bf9f67042bef537ff7c55ae62fa9471ea3e56ee8682...</td>\n",
       "      <td>[5345c216-42c2-4f67-a59b-8ceb90ab941f, bf9886b...</td>\n",
       "      <td>[4118d86f-889f-47ef-810f-7e98f4fe13dc, 5cb580d...</td>\n",
       "      <td>[]</td>\n",
       "    </tr>\n",
       "    <tr>\n",
       "      <th>1</th>\n",
       "      <td>8284aac64a51fb3f5a958991cf59ffb38c35fed03ee2c3...</td>\n",
       "      <td>2</td>\n",
       "      <td>�扩展为销售各类商品的电商平台。1997 年，亚马逊在纳斯达克上市，开启了其快速扩张的历程。...</td>\n",
       "      <td>804</td>\n",
       "      <td>[66bf9f67042bef537ff7c55ae62fa9471ea3e56ee8682...</td>\n",
       "      <td>[5345c216-42c2-4f67-a59b-8ceb90ab941f, fc5a6a6...</td>\n",
       "      <td>[d11db908-6255-43c4-ad37-75a54fe43b9e, 3700d8f...</td>\n",
       "      <td>[]</td>\n",
       "    </tr>\n",
       "  </tbody>\n",
       "</table>\n",
       "</div>"
      ],
      "text/plain": [
       "                                                  id  human_readable_id  \\\n",
       "0  307ca00cc7afda89a8c7a0cc4fed486fcd84f7714bc683...                  1   \n",
       "1  8284aac64a51fb3f5a958991cf59ffb38c35fed03ee2c3...                  2   \n",
       "\n",
       "                                                text  n_tokens  \\\n",
       "0  在过去的几十年中，全球科技行业经历了翻天覆地的变化。以硅谷为中心的创新生态系统催生了许多世界...      1200   \n",
       "1  �扩展为销售各类商品的电商平台。1997 年，亚马逊在纳斯达克上市，开启了其快速扩张的历程。...       804   \n",
       "\n",
       "                                        document_ids  \\\n",
       "0  [66bf9f67042bef537ff7c55ae62fa9471ea3e56ee8682...   \n",
       "1  [66bf9f67042bef537ff7c55ae62fa9471ea3e56ee8682...   \n",
       "\n",
       "                                          entity_ids  \\\n",
       "0  [5345c216-42c2-4f67-a59b-8ceb90ab941f, bf9886b...   \n",
       "1  [5345c216-42c2-4f67-a59b-8ceb90ab941f, fc5a6a6...   \n",
       "\n",
       "                                    relationship_ids covariate_ids  \n",
       "0  [4118d86f-889f-47ef-810f-7e98f4fe13dc, 5cb580d...            []  \n",
       "1  [d11db908-6255-43c4-ad37-75a54fe43b9e, 3700d8f...            []  "
      ]
     },
     "execution_count": 39,
     "metadata": {},
     "output_type": "execute_result"
    }
   ],
   "source": [
    "text_units.head()"
   ]
  },
  {
   "cell_type": "code",
   "execution_count": 42,
   "id": "3d392d0c-c202-4aa2-a387-967e008c9553",
   "metadata": {},
   "outputs": [
    {
     "data": {
      "text/html": [
       "<div>\n",
       "<style scoped>\n",
       "    .dataframe tbody tr th:only-of-type {\n",
       "        vertical-align: middle;\n",
       "    }\n",
       "\n",
       "    .dataframe tbody tr th {\n",
       "        vertical-align: top;\n",
       "    }\n",
       "\n",
       "    .dataframe thead th {\n",
       "        text-align: right;\n",
       "    }\n",
       "</style>\n",
       "<table border=\"1\" class=\"dataframe\">\n",
       "  <thead>\n",
       "    <tr style=\"text-align: right;\">\n",
       "      <th></th>\n",
       "      <th>id</th>\n",
       "      <th>human_readable_id</th>\n",
       "      <th>source</th>\n",
       "      <th>target</th>\n",
       "      <th>description</th>\n",
       "      <th>weight</th>\n",
       "      <th>combined_degree</th>\n",
       "      <th>text_unit_ids</th>\n",
       "    </tr>\n",
       "  </thead>\n",
       "  <tbody>\n",
       "    <tr>\n",
       "      <th>0</th>\n",
       "      <td>4118d86f-889f-47ef-810f-7e98f4fe13dc</td>\n",
       "      <td>0</td>\n",
       "      <td>苹果公司</td>\n",
       "      <td>史蒂夫·乔布斯</td>\n",
       "      <td>Steve Jobs was a co-founder and key leader of ...</td>\n",
       "      <td>9.0</td>\n",
       "      <td>4</td>\n",
       "      <td>[307ca00cc7afda89a8c7a0cc4fed486fcd84f7714bc68...</td>\n",
       "    </tr>\n",
       "    <tr>\n",
       "      <th>1</th>\n",
       "      <td>5cb580d7-5217-404f-883c-1797ff59aa53</td>\n",
       "      <td>1</td>\n",
       "      <td>苹果公司</td>\n",
       "      <td>史蒂夫·沃兹尼亚克</td>\n",
       "      <td>Steve Wozniak co-founded Apple Inc. and contri...</td>\n",
       "      <td>8.0</td>\n",
       "      <td>4</td>\n",
       "      <td>[307ca00cc7afda89a8c7a0cc4fed486fcd84f7714bc68...</td>\n",
       "    </tr>\n",
       "    <tr>\n",
       "      <th>2</th>\n",
       "      <td>aeb1969a-aefa-4958-9394-da51e607ef00</td>\n",
       "      <td>2</td>\n",
       "      <td>苹果公司</td>\n",
       "      <td>罗恩·韦恩</td>\n",
       "      <td>Ron Wayne was a co-founder of Apple Inc. and i...</td>\n",
       "      <td>6.0</td>\n",
       "      <td>4</td>\n",
       "      <td>[307ca00cc7afda89a8c7a0cc4fed486fcd84f7714bc68...</td>\n",
       "    </tr>\n",
       "    <tr>\n",
       "      <th>3</th>\n",
       "      <td>6bd4a30b-c9c0-4631-867c-870fda16ad1a</td>\n",
       "      <td>3</td>\n",
       "      <td>谷歌</td>\n",
       "      <td>拉里·佩奇</td>\n",
       "      <td>Larry Page co-founded Google and was instrumen...</td>\n",
       "      <td>9.0</td>\n",
       "      <td>7</td>\n",
       "      <td>[307ca00cc7afda89a8c7a0cc4fed486fcd84f7714bc68...</td>\n",
       "    </tr>\n",
       "    <tr>\n",
       "      <th>4</th>\n",
       "      <td>fbb16723-16db-449d-ad3c-e4e6e8e12c5b</td>\n",
       "      <td>4</td>\n",
       "      <td>谷歌</td>\n",
       "      <td>谢尔盖·布林</td>\n",
       "      <td>Sergey Brin co-founded Google and played a sig...</td>\n",
       "      <td>9.0</td>\n",
       "      <td>7</td>\n",
       "      <td>[307ca00cc7afda89a8c7a0cc4fed486fcd84f7714bc68...</td>\n",
       "    </tr>\n",
       "  </tbody>\n",
       "</table>\n",
       "</div>"
      ],
      "text/plain": [
       "                                     id  human_readable_id source     target  \\\n",
       "0  4118d86f-889f-47ef-810f-7e98f4fe13dc                  0   苹果公司    史蒂夫·乔布斯   \n",
       "1  5cb580d7-5217-404f-883c-1797ff59aa53                  1   苹果公司  史蒂夫·沃兹尼亚克   \n",
       "2  aeb1969a-aefa-4958-9394-da51e607ef00                  2   苹果公司      罗恩·韦恩   \n",
       "3  6bd4a30b-c9c0-4631-867c-870fda16ad1a                  3     谷歌      拉里·佩奇   \n",
       "4  fbb16723-16db-449d-ad3c-e4e6e8e12c5b                  4     谷歌     谢尔盖·布林   \n",
       "\n",
       "                                         description  weight  combined_degree  \\\n",
       "0  Steve Jobs was a co-founder and key leader of ...     9.0                4   \n",
       "1  Steve Wozniak co-founded Apple Inc. and contri...     8.0                4   \n",
       "2  Ron Wayne was a co-founder of Apple Inc. and i...     6.0                4   \n",
       "3  Larry Page co-founded Google and was instrumen...     9.0                7   \n",
       "4  Sergey Brin co-founded Google and played a sig...     9.0                7   \n",
       "\n",
       "                                       text_unit_ids  \n",
       "0  [307ca00cc7afda89a8c7a0cc4fed486fcd84f7714bc68...  \n",
       "1  [307ca00cc7afda89a8c7a0cc4fed486fcd84f7714bc68...  \n",
       "2  [307ca00cc7afda89a8c7a0cc4fed486fcd84f7714bc68...  \n",
       "3  [307ca00cc7afda89a8c7a0cc4fed486fcd84f7714bc68...  \n",
       "4  [307ca00cc7afda89a8c7a0cc4fed486fcd84f7714bc68...  "
      ]
     },
     "execution_count": 42,
     "metadata": {},
     "output_type": "execute_result"
    }
   ],
   "source": [
    "relationships.head()"
   ]
  },
  {
   "cell_type": "code",
   "execution_count": 44,
   "id": "c1267dd7-ef06-43ab-a223-f527e08cf301",
   "metadata": {},
   "outputs": [],
   "source": [
    "response, context = await api.local_search(\n",
    "    config=graphrag_config,\n",
    "    entities=entities,\n",
    "    communities=communities,\n",
    "    community_reports=community_reports,\n",
    "    text_units=text_units,                # ✅ 必填\n",
    "    relationships=relationships,          # ✅ 必填\n",
    "    covariates=None,                # ✅ 必填\n",
    "    community_level=2,                    # ✅ 仍可指定层级\n",
    "    response_type=\"Multiple Paragraphs\",  # ✅ 保留格式控制\n",
    "    query=\"苹果公司推出 iPhone 的时间？\"\n",
    ")\n"
   ]
  },
  {
   "cell_type": "code",
   "execution_count": 45,
   "id": "f6fe130d-12e6-4ce3-8862-041e18d6a06c",
   "metadata": {},
   "outputs": [
    {
     "data": {
      "text/plain": [
       "'苹果公司推出 iPhone 的时间是2007年 [Data: Sources (0)].'"
      ]
     },
     "execution_count": 45,
     "metadata": {},
     "output_type": "execute_result"
    }
   ],
   "source": [
    "response"
   ]
  },
  {
   "cell_type": "code",
   "execution_count": 47,
   "id": "c07d6106-9e3e-4a67-bc06-0ae82edc60c6",
   "metadata": {},
   "outputs": [
    {
     "data": {
      "text/html": [
       "<div>\n",
       "<style scoped>\n",
       "    .dataframe tbody tr th:only-of-type {\n",
       "        vertical-align: middle;\n",
       "    }\n",
       "\n",
       "    .dataframe tbody tr th {\n",
       "        vertical-align: top;\n",
       "    }\n",
       "\n",
       "    .dataframe thead th {\n",
       "        text-align: right;\n",
       "    }\n",
       "</style>\n",
       "<table border=\"1\" class=\"dataframe\">\n",
       "  <thead>\n",
       "    <tr style=\"text-align: right;\">\n",
       "      <th></th>\n",
       "      <th>id</th>\n",
       "      <th>title</th>\n",
       "      <th>content</th>\n",
       "    </tr>\n",
       "  </thead>\n",
       "  <tbody>\n",
       "    <tr>\n",
       "      <th>0</th>\n",
       "      <td>0</td>\n",
       "      <td>Amazon and Its Technological Ecosystem</td>\n",
       "      <td># Amazon and Its Technological Ecosystem\\n\\nTh...</td>\n",
       "    </tr>\n",
       "    <tr>\n",
       "      <th>1</th>\n",
       "      <td>2</td>\n",
       "      <td>Google and Quantum Computing</td>\n",
       "      <td># Google and Quantum Computing\\n\\nThis communi...</td>\n",
       "    </tr>\n",
       "    <tr>\n",
       "      <th>2</th>\n",
       "      <td>1</td>\n",
       "      <td>Microsoft and Its Founders: Bill Gates and Pau...</td>\n",
       "      <td># Microsoft and Its Founders: Bill Gates and P...</td>\n",
       "    </tr>\n",
       "  </tbody>\n",
       "</table>\n",
       "</div>"
      ],
      "text/plain": [
       "  id                                              title  \\\n",
       "0  0             Amazon and Its Technological Ecosystem   \n",
       "1  2                       Google and Quantum Computing   \n",
       "2  1  Microsoft and Its Founders: Bill Gates and Pau...   \n",
       "\n",
       "                                             content  \n",
       "0  # Amazon and Its Technological Ecosystem\\n\\nTh...  \n",
       "1  # Google and Quantum Computing\\n\\nThis communi...  \n",
       "2  # Microsoft and Its Founders: Bill Gates and P...  "
      ]
     },
     "execution_count": 47,
     "metadata": {},
     "output_type": "execute_result"
    }
   ],
   "source": [
    "context['reports']"
   ]
  },
  {
   "cell_type": "markdown",
   "id": "8519adec-874d-47ed-a4d9-1ecf4989f8ba",
   "metadata": {},
   "source": [
    "### 2. GraphRAG Python基础API调用流程"
   ]
  },
  {
   "cell_type": "markdown",
   "id": "8927fef4-b8ee-4da4-929b-f2fd7baf48e1",
   "metadata": {},
   "source": [
    "- **Step 1. 基础库导入**"
   ]
  },
  {
   "cell_type": "code",
   "execution_count": 66,
   "id": "3f00969e-800a-44ac-9d1d-5cefc68d7246",
   "metadata": {},
   "outputs": [],
   "source": [
    "import os\n",
    "from dotenv import load_dotenv\n",
    "load_dotenv(override=True)\n",
    "import pandas as pd\n",
    "import tiktoken\n",
    "\n",
    "from graphrag.query.context_builder.entity_extraction import EntityVectorStoreKey\n",
    "from graphrag.query.indexer_adapters import (\n",
    "    read_indexer_covariates,\n",
    "    read_indexer_entities,\n",
    "    read_indexer_relationships,\n",
    "    read_indexer_reports,\n",
    "    read_indexer_text_units,\n",
    ")\n",
    "from graphrag.query.question_gen.local_gen import LocalQuestionGen\n",
    "from graphrag.query.structured_search.local_search.mixed_context import (\n",
    "    LocalSearchMixedContext,\n",
    ")\n",
    "from graphrag.query.structured_search.local_search.search import LocalSearch\n",
    "from graphrag.vector_stores.lancedb import LanceDBVectorStore\n",
    "\n",
    "\n",
    "from graphrag.config.enums import ModelType\n",
    "from graphrag.config.models.language_model_config import LanguageModelConfig\n",
    "from graphrag.language_model.manager import ModelManager\n",
    "from graphrag.query.indexer_adapters import (\n",
    "    read_indexer_communities,\n",
    "    read_indexer_entities,\n",
    "    read_indexer_reports,\n",
    ")\n",
    "from graphrag.query.structured_search.global_search.community_context import (\n",
    "    GlobalCommunityContext,\n",
    ")\n",
    "from graphrag.query.structured_search.global_search.search import GlobalSearch"
   ]
  },
  {
   "cell_type": "markdown",
   "id": "d60cbc14-fd01-4438-95d2-89bc24552333",
   "metadata": {},
   "source": [
    "- **Step 2.读取知识图谱全部内容**"
   ]
  },
  {
   "cell_type": "code",
   "execution_count": 53,
   "id": "a3abe0ef-cbe8-4dd2-b482-885fd3d8fe19",
   "metadata": {},
   "outputs": [],
   "source": [
    "INPUT_DIR = \"./graphrag_course/output\"\n",
    "LANCEDB_URI = f\"{INPUT_DIR}/lancedb\"\n",
    "\n",
    "COMMUNITY_REPORT_TABLE = \"community_reports\"\n",
    "ENTITY_TABLE = \"entities\"\n",
    "COMMUNITY_TABLE = \"communities\"\n",
    "RELATIONSHIP_TABLE = \"relationships\"\n",
    "COVARIATE_TABLE = \"covariates\"\n",
    "TEXT_UNIT_TABLE = \"text_units\"\n",
    "COMMUNITY_LEVEL = 2"
   ]
  },
  {
   "cell_type": "code",
   "execution_count": 54,
   "id": "90eb5e26-6f1a-4e75-b493-fd57136b2f19",
   "metadata": {},
   "outputs": [
    {
     "name": "stdout",
     "output_type": "stream",
     "text": [
      "Entity count: 21\n"
     ]
    },
    {
     "data": {
      "text/html": [
       "<div>\n",
       "<style scoped>\n",
       "    .dataframe tbody tr th:only-of-type {\n",
       "        vertical-align: middle;\n",
       "    }\n",
       "\n",
       "    .dataframe tbody tr th {\n",
       "        vertical-align: top;\n",
       "    }\n",
       "\n",
       "    .dataframe thead th {\n",
       "        text-align: right;\n",
       "    }\n",
       "</style>\n",
       "<table border=\"1\" class=\"dataframe\">\n",
       "  <thead>\n",
       "    <tr style=\"text-align: right;\">\n",
       "      <th></th>\n",
       "      <th>id</th>\n",
       "      <th>human_readable_id</th>\n",
       "      <th>title</th>\n",
       "      <th>type</th>\n",
       "      <th>description</th>\n",
       "      <th>text_unit_ids</th>\n",
       "      <th>frequency</th>\n",
       "      <th>degree</th>\n",
       "      <th>x</th>\n",
       "      <th>y</th>\n",
       "    </tr>\n",
       "  </thead>\n",
       "  <tbody>\n",
       "    <tr>\n",
       "      <th>0</th>\n",
       "      <td>5345c216-42c2-4f67-a59b-8ceb90ab941f</td>\n",
       "      <td>0</td>\n",
       "      <td>硅谷</td>\n",
       "      <td>GEO</td>\n",
       "      <td>Silicon Valley, known as \"硅谷\" in Chinese, is a...</td>\n",
       "      <td>[307ca00cc7afda89a8c7a0cc4fed486fcd84f7714bc68...</td>\n",
       "      <td>2</td>\n",
       "      <td>2</td>\n",
       "      <td>0</td>\n",
       "      <td>0</td>\n",
       "    </tr>\n",
       "    <tr>\n",
       "      <th>1</th>\n",
       "      <td>bf9886bf-52fe-43f0-9dca-cfd6f2448dfc</td>\n",
       "      <td>1</td>\n",
       "      <td>苹果公司</td>\n",
       "      <td>ORGANIZATION</td>\n",
       "      <td>Apple Inc. is a technology company founded in ...</td>\n",
       "      <td>[307ca00cc7afda89a8c7a0cc4fed486fcd84f7714bc68...</td>\n",
       "      <td>1</td>\n",
       "      <td>3</td>\n",
       "      <td>0</td>\n",
       "      <td>0</td>\n",
       "    </tr>\n",
       "    <tr>\n",
       "      <th>2</th>\n",
       "      <td>3d5d04ea-4557-453b-8a8b-bd34150a3dce</td>\n",
       "      <td>2</td>\n",
       "      <td>史蒂夫·乔布斯</td>\n",
       "      <td>PERSON</td>\n",
       "      <td>Steve Jobs was a co-founder of Apple Inc. and ...</td>\n",
       "      <td>[307ca00cc7afda89a8c7a0cc4fed486fcd84f7714bc68...</td>\n",
       "      <td>1</td>\n",
       "      <td>1</td>\n",
       "      <td>0</td>\n",
       "      <td>0</td>\n",
       "    </tr>\n",
       "    <tr>\n",
       "      <th>3</th>\n",
       "      <td>0b17374f-57c9-44b4-af6c-2abac0a22856</td>\n",
       "      <td>3</td>\n",
       "      <td>史蒂夫·沃兹尼亚克</td>\n",
       "      <td>PERSON</td>\n",
       "      <td>Steve Wozniak is a co-founder of Apple Inc. an...</td>\n",
       "      <td>[307ca00cc7afda89a8c7a0cc4fed486fcd84f7714bc68...</td>\n",
       "      <td>1</td>\n",
       "      <td>1</td>\n",
       "      <td>0</td>\n",
       "      <td>0</td>\n",
       "    </tr>\n",
       "    <tr>\n",
       "      <th>4</th>\n",
       "      <td>7881ca95-7f48-4dff-8a98-72a75fd19cf6</td>\n",
       "      <td>4</td>\n",
       "      <td>罗恩·韦恩</td>\n",
       "      <td>PERSON</td>\n",
       "      <td>Ron Wayne is a co-founder of Apple Inc. who pl...</td>\n",
       "      <td>[307ca00cc7afda89a8c7a0cc4fed486fcd84f7714bc68...</td>\n",
       "      <td>1</td>\n",
       "      <td>1</td>\n",
       "      <td>0</td>\n",
       "      <td>0</td>\n",
       "    </tr>\n",
       "  </tbody>\n",
       "</table>\n",
       "</div>"
      ],
      "text/plain": [
       "                                     id  human_readable_id      title  \\\n",
       "0  5345c216-42c2-4f67-a59b-8ceb90ab941f                  0         硅谷   \n",
       "1  bf9886bf-52fe-43f0-9dca-cfd6f2448dfc                  1       苹果公司   \n",
       "2  3d5d04ea-4557-453b-8a8b-bd34150a3dce                  2    史蒂夫·乔布斯   \n",
       "3  0b17374f-57c9-44b4-af6c-2abac0a22856                  3  史蒂夫·沃兹尼亚克   \n",
       "4  7881ca95-7f48-4dff-8a98-72a75fd19cf6                  4      罗恩·韦恩   \n",
       "\n",
       "           type                                        description  \\\n",
       "0           GEO  Silicon Valley, known as \"硅谷\" in Chinese, is a...   \n",
       "1  ORGANIZATION  Apple Inc. is a technology company founded in ...   \n",
       "2        PERSON  Steve Jobs was a co-founder of Apple Inc. and ...   \n",
       "3        PERSON  Steve Wozniak is a co-founder of Apple Inc. an...   \n",
       "4        PERSON  Ron Wayne is a co-founder of Apple Inc. who pl...   \n",
       "\n",
       "                                       text_unit_ids  frequency  degree  x  y  \n",
       "0  [307ca00cc7afda89a8c7a0cc4fed486fcd84f7714bc68...          2       2  0  0  \n",
       "1  [307ca00cc7afda89a8c7a0cc4fed486fcd84f7714bc68...          1       3  0  0  \n",
       "2  [307ca00cc7afda89a8c7a0cc4fed486fcd84f7714bc68...          1       1  0  0  \n",
       "3  [307ca00cc7afda89a8c7a0cc4fed486fcd84f7714bc68...          1       1  0  0  \n",
       "4  [307ca00cc7afda89a8c7a0cc4fed486fcd84f7714bc68...          1       1  0  0  "
      ]
     },
     "execution_count": 54,
     "metadata": {},
     "output_type": "execute_result"
    }
   ],
   "source": [
    "# read nodes table to get community and degree data\n",
    "entity_df = pd.read_parquet(f\"{INPUT_DIR}/{ENTITY_TABLE}.parquet\")\n",
    "community_df = pd.read_parquet(f\"{INPUT_DIR}/{COMMUNITY_TABLE}.parquet\")\n",
    "\n",
    "entities = read_indexer_entities(entity_df, community_df, COMMUNITY_LEVEL)\n",
    "\n",
    "# load description embeddings to an in-memory lancedb vectorstore\n",
    "# to connect to a remote db, specify url and port values.\n",
    "description_embedding_store = LanceDBVectorStore(\n",
    "    collection_name=\"default-entity-description\",\n",
    ")\n",
    "description_embedding_store.connect(db_uri=LANCEDB_URI)\n",
    "\n",
    "print(f\"Entity count: {len(entity_df)}\")\n",
    "entity_df.head()"
   ]
  },
  {
   "cell_type": "code",
   "execution_count": 55,
   "id": "0c32fc06-8ac6-4161-bef6-05db45983b6d",
   "metadata": {},
   "outputs": [
    {
     "name": "stdout",
     "output_type": "stream",
     "text": [
      "Relationship count: 23\n"
     ]
    },
    {
     "data": {
      "text/html": [
       "<div>\n",
       "<style scoped>\n",
       "    .dataframe tbody tr th:only-of-type {\n",
       "        vertical-align: middle;\n",
       "    }\n",
       "\n",
       "    .dataframe tbody tr th {\n",
       "        vertical-align: top;\n",
       "    }\n",
       "\n",
       "    .dataframe thead th {\n",
       "        text-align: right;\n",
       "    }\n",
       "</style>\n",
       "<table border=\"1\" class=\"dataframe\">\n",
       "  <thead>\n",
       "    <tr style=\"text-align: right;\">\n",
       "      <th></th>\n",
       "      <th>id</th>\n",
       "      <th>human_readable_id</th>\n",
       "      <th>source</th>\n",
       "      <th>target</th>\n",
       "      <th>description</th>\n",
       "      <th>weight</th>\n",
       "      <th>combined_degree</th>\n",
       "      <th>text_unit_ids</th>\n",
       "    </tr>\n",
       "  </thead>\n",
       "  <tbody>\n",
       "    <tr>\n",
       "      <th>0</th>\n",
       "      <td>4118d86f-889f-47ef-810f-7e98f4fe13dc</td>\n",
       "      <td>0</td>\n",
       "      <td>苹果公司</td>\n",
       "      <td>史蒂夫·乔布斯</td>\n",
       "      <td>Steve Jobs was a co-founder and key leader of ...</td>\n",
       "      <td>9.0</td>\n",
       "      <td>4</td>\n",
       "      <td>[307ca00cc7afda89a8c7a0cc4fed486fcd84f7714bc68...</td>\n",
       "    </tr>\n",
       "    <tr>\n",
       "      <th>1</th>\n",
       "      <td>5cb580d7-5217-404f-883c-1797ff59aa53</td>\n",
       "      <td>1</td>\n",
       "      <td>苹果公司</td>\n",
       "      <td>史蒂夫·沃兹尼亚克</td>\n",
       "      <td>Steve Wozniak co-founded Apple Inc. and contri...</td>\n",
       "      <td>8.0</td>\n",
       "      <td>4</td>\n",
       "      <td>[307ca00cc7afda89a8c7a0cc4fed486fcd84f7714bc68...</td>\n",
       "    </tr>\n",
       "    <tr>\n",
       "      <th>2</th>\n",
       "      <td>aeb1969a-aefa-4958-9394-da51e607ef00</td>\n",
       "      <td>2</td>\n",
       "      <td>苹果公司</td>\n",
       "      <td>罗恩·韦恩</td>\n",
       "      <td>Ron Wayne was a co-founder of Apple Inc. and i...</td>\n",
       "      <td>6.0</td>\n",
       "      <td>4</td>\n",
       "      <td>[307ca00cc7afda89a8c7a0cc4fed486fcd84f7714bc68...</td>\n",
       "    </tr>\n",
       "    <tr>\n",
       "      <th>3</th>\n",
       "      <td>6bd4a30b-c9c0-4631-867c-870fda16ad1a</td>\n",
       "      <td>3</td>\n",
       "      <td>谷歌</td>\n",
       "      <td>拉里·佩奇</td>\n",
       "      <td>Larry Page co-founded Google and was instrumen...</td>\n",
       "      <td>9.0</td>\n",
       "      <td>7</td>\n",
       "      <td>[307ca00cc7afda89a8c7a0cc4fed486fcd84f7714bc68...</td>\n",
       "    </tr>\n",
       "    <tr>\n",
       "      <th>4</th>\n",
       "      <td>fbb16723-16db-449d-ad3c-e4e6e8e12c5b</td>\n",
       "      <td>4</td>\n",
       "      <td>谷歌</td>\n",
       "      <td>谢尔盖·布林</td>\n",
       "      <td>Sergey Brin co-founded Google and played a sig...</td>\n",
       "      <td>9.0</td>\n",
       "      <td>7</td>\n",
       "      <td>[307ca00cc7afda89a8c7a0cc4fed486fcd84f7714bc68...</td>\n",
       "    </tr>\n",
       "  </tbody>\n",
       "</table>\n",
       "</div>"
      ],
      "text/plain": [
       "                                     id  human_readable_id source     target  \\\n",
       "0  4118d86f-889f-47ef-810f-7e98f4fe13dc                  0   苹果公司    史蒂夫·乔布斯   \n",
       "1  5cb580d7-5217-404f-883c-1797ff59aa53                  1   苹果公司  史蒂夫·沃兹尼亚克   \n",
       "2  aeb1969a-aefa-4958-9394-da51e607ef00                  2   苹果公司      罗恩·韦恩   \n",
       "3  6bd4a30b-c9c0-4631-867c-870fda16ad1a                  3     谷歌      拉里·佩奇   \n",
       "4  fbb16723-16db-449d-ad3c-e4e6e8e12c5b                  4     谷歌     谢尔盖·布林   \n",
       "\n",
       "                                         description  weight  combined_degree  \\\n",
       "0  Steve Jobs was a co-founder and key leader of ...     9.0                4   \n",
       "1  Steve Wozniak co-founded Apple Inc. and contri...     8.0                4   \n",
       "2  Ron Wayne was a co-founder of Apple Inc. and i...     6.0                4   \n",
       "3  Larry Page co-founded Google and was instrumen...     9.0                7   \n",
       "4  Sergey Brin co-founded Google and played a sig...     9.0                7   \n",
       "\n",
       "                                       text_unit_ids  \n",
       "0  [307ca00cc7afda89a8c7a0cc4fed486fcd84f7714bc68...  \n",
       "1  [307ca00cc7afda89a8c7a0cc4fed486fcd84f7714bc68...  \n",
       "2  [307ca00cc7afda89a8c7a0cc4fed486fcd84f7714bc68...  \n",
       "3  [307ca00cc7afda89a8c7a0cc4fed486fcd84f7714bc68...  \n",
       "4  [307ca00cc7afda89a8c7a0cc4fed486fcd84f7714bc68...  "
      ]
     },
     "execution_count": 55,
     "metadata": {},
     "output_type": "execute_result"
    }
   ],
   "source": [
    "relationship_df = pd.read_parquet(f\"{INPUT_DIR}/{RELATIONSHIP_TABLE}.parquet\")\n",
    "relationships = read_indexer_relationships(relationship_df)\n",
    "\n",
    "print(f\"Relationship count: {len(relationship_df)}\")\n",
    "relationship_df.head()"
   ]
  },
  {
   "cell_type": "code",
   "execution_count": 57,
   "id": "40662343-889b-4711-8433-663cfaefd226",
   "metadata": {},
   "outputs": [
    {
     "name": "stdout",
     "output_type": "stream",
     "text": [
      "Report records: 3\n"
     ]
    },
    {
     "data": {
      "text/html": [
       "<div>\n",
       "<style scoped>\n",
       "    .dataframe tbody tr th:only-of-type {\n",
       "        vertical-align: middle;\n",
       "    }\n",
       "\n",
       "    .dataframe tbody tr th {\n",
       "        vertical-align: top;\n",
       "    }\n",
       "\n",
       "    .dataframe thead th {\n",
       "        text-align: right;\n",
       "    }\n",
       "</style>\n",
       "<table border=\"1\" class=\"dataframe\">\n",
       "  <thead>\n",
       "    <tr style=\"text-align: right;\">\n",
       "      <th></th>\n",
       "      <th>id</th>\n",
       "      <th>human_readable_id</th>\n",
       "      <th>community</th>\n",
       "      <th>level</th>\n",
       "      <th>parent</th>\n",
       "      <th>children</th>\n",
       "      <th>title</th>\n",
       "      <th>summary</th>\n",
       "      <th>full_content</th>\n",
       "      <th>rank</th>\n",
       "      <th>rating_explanation</th>\n",
       "      <th>findings</th>\n",
       "      <th>full_content_json</th>\n",
       "      <th>period</th>\n",
       "      <th>size</th>\n",
       "    </tr>\n",
       "  </thead>\n",
       "  <tbody>\n",
       "    <tr>\n",
       "      <th>0</th>\n",
       "      <td>261ab711a9f84035aeca3950b1679e60</td>\n",
       "      <td>0</td>\n",
       "      <td>0</td>\n",
       "      <td>0</td>\n",
       "      <td>-1</td>\n",
       "      <td>[]</td>\n",
       "      <td>Amazon and Its Technological Ecosystem</td>\n",
       "      <td>The community is centered around Amazon, a glo...</td>\n",
       "      <td># Amazon and Its Technological Ecosystem\\n\\nTh...</td>\n",
       "      <td>9.0</td>\n",
       "      <td>The impact severity rating is high due to Amaz...</td>\n",
       "      <td>[{'explanation': 'Amazon, known as '亚马逊' in Ch...</td>\n",
       "      <td>{\\n    \"title\": \"Amazon and Its Technological ...</td>\n",
       "      <td>2025-07-15</td>\n",
       "      <td>7</td>\n",
       "    </tr>\n",
       "    <tr>\n",
       "      <th>1</th>\n",
       "      <td>b5429111e9744d11aa5669e410f9ec13</td>\n",
       "      <td>1</td>\n",
       "      <td>1</td>\n",
       "      <td>0</td>\n",
       "      <td>-1</td>\n",
       "      <td>[]</td>\n",
       "      <td>Microsoft and Its Founders: Bill Gates and Pau...</td>\n",
       "      <td>This community is centered around Microsoft, a...</td>\n",
       "      <td># Microsoft and Its Founders: Bill Gates and P...</td>\n",
       "      <td>9.0</td>\n",
       "      <td>The impact severity rating is high due to Micr...</td>\n",
       "      <td>[{'explanation': 'Microsoft, known as '微软' in ...</td>\n",
       "      <td>{\\n    \"title\": \"Microsoft and Its Founders: B...</td>\n",
       "      <td>2025-07-15</td>\n",
       "      <td>3</td>\n",
       "    </tr>\n",
       "    <tr>\n",
       "      <th>2</th>\n",
       "      <td>df046a8eb5ab4a6a8c29145c5555de25</td>\n",
       "      <td>2</td>\n",
       "      <td>2</td>\n",
       "      <td>0</td>\n",
       "      <td>-1</td>\n",
       "      <td>[]</td>\n",
       "      <td>Google and Quantum Computing</td>\n",
       "      <td>This community is centered around Google, a le...</td>\n",
       "      <td># Google and Quantum Computing\\n\\nThis communi...</td>\n",
       "      <td>9.0</td>\n",
       "      <td>The impact severity rating is high due to Goog...</td>\n",
       "      <td>[{'explanation': 'Google is a prominent techno...</td>\n",
       "      <td>{\\n    \"title\": \"Google and Quantum Computing\"...</td>\n",
       "      <td>2025-07-15</td>\n",
       "      <td>4</td>\n",
       "    </tr>\n",
       "  </tbody>\n",
       "</table>\n",
       "</div>"
      ],
      "text/plain": [
       "                                 id  human_readable_id  community  level  \\\n",
       "0  261ab711a9f84035aeca3950b1679e60                  0          0      0   \n",
       "1  b5429111e9744d11aa5669e410f9ec13                  1          1      0   \n",
       "2  df046a8eb5ab4a6a8c29145c5555de25                  2          2      0   \n",
       "\n",
       "   parent children                                              title  \\\n",
       "0      -1       []             Amazon and Its Technological Ecosystem   \n",
       "1      -1       []  Microsoft and Its Founders: Bill Gates and Pau...   \n",
       "2      -1       []                       Google and Quantum Computing   \n",
       "\n",
       "                                             summary  \\\n",
       "0  The community is centered around Amazon, a glo...   \n",
       "1  This community is centered around Microsoft, a...   \n",
       "2  This community is centered around Google, a le...   \n",
       "\n",
       "                                        full_content  rank  \\\n",
       "0  # Amazon and Its Technological Ecosystem\\n\\nTh...   9.0   \n",
       "1  # Microsoft and Its Founders: Bill Gates and P...   9.0   \n",
       "2  # Google and Quantum Computing\\n\\nThis communi...   9.0   \n",
       "\n",
       "                                  rating_explanation  \\\n",
       "0  The impact severity rating is high due to Amaz...   \n",
       "1  The impact severity rating is high due to Micr...   \n",
       "2  The impact severity rating is high due to Goog...   \n",
       "\n",
       "                                            findings  \\\n",
       "0  [{'explanation': 'Amazon, known as '亚马逊' in Ch...   \n",
       "1  [{'explanation': 'Microsoft, known as '微软' in ...   \n",
       "2  [{'explanation': 'Google is a prominent techno...   \n",
       "\n",
       "                                   full_content_json      period  size  \n",
       "0  {\\n    \"title\": \"Amazon and Its Technological ...  2025-07-15     7  \n",
       "1  {\\n    \"title\": \"Microsoft and Its Founders: B...  2025-07-15     3  \n",
       "2  {\\n    \"title\": \"Google and Quantum Computing\"...  2025-07-15     4  "
      ]
     },
     "execution_count": 57,
     "metadata": {},
     "output_type": "execute_result"
    }
   ],
   "source": [
    "report_df = pd.read_parquet(f\"{INPUT_DIR}/{COMMUNITY_REPORT_TABLE}.parquet\")\n",
    "reports = read_indexer_reports(report_df, community_df, COMMUNITY_LEVEL)\n",
    "\n",
    "print(f\"Report records: {len(report_df)}\")\n",
    "report_df.head()"
   ]
  },
  {
   "cell_type": "code",
   "execution_count": 58,
   "id": "a1f1e80d-3d8c-496d-b210-de5af086a969",
   "metadata": {},
   "outputs": [
    {
     "name": "stdout",
     "output_type": "stream",
     "text": [
      "Text unit records: 2\n"
     ]
    },
    {
     "data": {
      "text/html": [
       "<div>\n",
       "<style scoped>\n",
       "    .dataframe tbody tr th:only-of-type {\n",
       "        vertical-align: middle;\n",
       "    }\n",
       "\n",
       "    .dataframe tbody tr th {\n",
       "        vertical-align: top;\n",
       "    }\n",
       "\n",
       "    .dataframe thead th {\n",
       "        text-align: right;\n",
       "    }\n",
       "</style>\n",
       "<table border=\"1\" class=\"dataframe\">\n",
       "  <thead>\n",
       "    <tr style=\"text-align: right;\">\n",
       "      <th></th>\n",
       "      <th>id</th>\n",
       "      <th>human_readable_id</th>\n",
       "      <th>text</th>\n",
       "      <th>n_tokens</th>\n",
       "      <th>document_ids</th>\n",
       "      <th>entity_ids</th>\n",
       "      <th>relationship_ids</th>\n",
       "      <th>covariate_ids</th>\n",
       "    </tr>\n",
       "  </thead>\n",
       "  <tbody>\n",
       "    <tr>\n",
       "      <th>0</th>\n",
       "      <td>307ca00cc7afda89a8c7a0cc4fed486fcd84f7714bc683...</td>\n",
       "      <td>1</td>\n",
       "      <td>在过去的几十年中，全球科技行业经历了翻天覆地的变化。以硅谷为中心的创新生态系统催生了许多世界...</td>\n",
       "      <td>1200</td>\n",
       "      <td>[66bf9f67042bef537ff7c55ae62fa9471ea3e56ee8682...</td>\n",
       "      <td>[5345c216-42c2-4f67-a59b-8ceb90ab941f, bf9886b...</td>\n",
       "      <td>[4118d86f-889f-47ef-810f-7e98f4fe13dc, 5cb580d...</td>\n",
       "      <td>[]</td>\n",
       "    </tr>\n",
       "    <tr>\n",
       "      <th>1</th>\n",
       "      <td>8284aac64a51fb3f5a958991cf59ffb38c35fed03ee2c3...</td>\n",
       "      <td>2</td>\n",
       "      <td>�扩展为销售各类商品的电商平台。1997 年，亚马逊在纳斯达克上市，开启了其快速扩张的历程。...</td>\n",
       "      <td>804</td>\n",
       "      <td>[66bf9f67042bef537ff7c55ae62fa9471ea3e56ee8682...</td>\n",
       "      <td>[5345c216-42c2-4f67-a59b-8ceb90ab941f, fc5a6a6...</td>\n",
       "      <td>[d11db908-6255-43c4-ad37-75a54fe43b9e, 3700d8f...</td>\n",
       "      <td>[]</td>\n",
       "    </tr>\n",
       "  </tbody>\n",
       "</table>\n",
       "</div>"
      ],
      "text/plain": [
       "                                                  id  human_readable_id  \\\n",
       "0  307ca00cc7afda89a8c7a0cc4fed486fcd84f7714bc683...                  1   \n",
       "1  8284aac64a51fb3f5a958991cf59ffb38c35fed03ee2c3...                  2   \n",
       "\n",
       "                                                text  n_tokens  \\\n",
       "0  在过去的几十年中，全球科技行业经历了翻天覆地的变化。以硅谷为中心的创新生态系统催生了许多世界...      1200   \n",
       "1  �扩展为销售各类商品的电商平台。1997 年，亚马逊在纳斯达克上市，开启了其快速扩张的历程。...       804   \n",
       "\n",
       "                                        document_ids  \\\n",
       "0  [66bf9f67042bef537ff7c55ae62fa9471ea3e56ee8682...   \n",
       "1  [66bf9f67042bef537ff7c55ae62fa9471ea3e56ee8682...   \n",
       "\n",
       "                                          entity_ids  \\\n",
       "0  [5345c216-42c2-4f67-a59b-8ceb90ab941f, bf9886b...   \n",
       "1  [5345c216-42c2-4f67-a59b-8ceb90ab941f, fc5a6a6...   \n",
       "\n",
       "                                    relationship_ids covariate_ids  \n",
       "0  [4118d86f-889f-47ef-810f-7e98f4fe13dc, 5cb580d...            []  \n",
       "1  [d11db908-6255-43c4-ad37-75a54fe43b9e, 3700d8f...            []  "
      ]
     },
     "execution_count": 58,
     "metadata": {},
     "output_type": "execute_result"
    }
   ],
   "source": [
    "text_unit_df = pd.read_parquet(f\"{INPUT_DIR}/{TEXT_UNIT_TABLE}.parquet\")\n",
    "text_units = read_indexer_text_units(text_unit_df)\n",
    "\n",
    "print(f\"Text unit records: {len(text_unit_df)}\")\n",
    "text_unit_df.head()"
   ]
  },
  {
   "cell_type": "markdown",
   "id": "45170b48-54e0-4144-8595-a3a05d1ca4bf",
   "metadata": {},
   "source": [
    "- **Step 3.设置模型参数**"
   ]
  },
  {
   "cell_type": "markdown",
   "id": "be509380-e549-4f84-a55d-57dd09633b88",
   "metadata": {},
   "source": [
    "<center><img src=\"https://ml2022.oss-cn-hangzhou.aliyuncs.com/img/image-20250717144133887.png\" alt=\"image-20250717144133887\" style=\"zoom:50%;\" />"
   ]
  },
  {
   "cell_type": "code",
   "execution_count": 72,
   "id": "c39220fa-db86-4157-b7cf-987b0817adc7",
   "metadata": {},
   "outputs": [],
   "source": [
    "chat_config = LanguageModelConfig(\n",
    "    api_key=api_key,\n",
    "    api_base=\"https://ai.devtool.tech/proxy/v1\",\n",
    "    type=ModelType.OpenAIChat,\n",
    "    model=llm_model,\n",
    "    max_retries=20,\n",
    ")\n",
    "\n",
    "token_encoder = tiktoken.encoding_for_model(llm_model)\n",
    "\n",
    "embedding_config = LanguageModelConfig(\n",
    "    api_key=api_key,\n",
    "    api_base=\"https://ai.devtool.tech/proxy/v1\",\n",
    "    type=ModelType.OpenAIEmbedding,\n",
    "    model=embedding_model,\n",
    "    max_retries=20,\n",
    ")"
   ]
  },
  {
   "cell_type": "code",
   "execution_count": 73,
   "id": "4f8609f1-cae8-4910-aa2e-e7c2ac835ac6",
   "metadata": {},
   "outputs": [],
   "source": [
    "chat_model = ModelManager().get_or_create_chat_model(\n",
    "    name=\"local_search\",\n",
    "    model_type=ModelType.OpenAIChat,\n",
    "    config=chat_config,\n",
    ")\n",
    "\n",
    "text_embedder = ModelManager().get_or_create_embedding_model(\n",
    "    name=\"local_search_embedding\",\n",
    "    model_type=ModelType.OpenAIEmbedding,\n",
    "    config=embedding_config,\n",
    ")"
   ]
  },
  {
   "cell_type": "markdown",
   "id": "018e75ad-9d75-4ccb-8f79-444c7e5242ca",
   "metadata": {},
   "source": [
    "- **Step 4.创建LocalSearch上下文构建器**"
   ]
  },
  {
   "cell_type": "code",
   "execution_count": 74,
   "id": "c1dbd156-3373-4231-8d49-ae85f9b2b134",
   "metadata": {},
   "outputs": [],
   "source": [
    "context_builder = LocalSearchMixedContext(\n",
    "    community_reports=reports,\n",
    "    text_units=text_units,\n",
    "    entities=entities,\n",
    "    relationships=relationships,\n",
    "    covariates=None,\n",
    "    entity_text_embeddings=description_embedding_store,\n",
    "    embedding_vectorstore_key=EntityVectorStoreKey.ID,  \n",
    "    text_embedder=text_embedder,\n",
    "    token_encoder=token_encoder,\n",
    ")"
   ]
  },
  {
   "cell_type": "markdown",
   "id": "d03fa5d8-63a5-42e5-80a3-dedb7e554d46",
   "metadata": {},
   "source": [
    "- **Step 5.创建本地搜索引擎参数组**"
   ]
  },
  {
   "cell_type": "code",
   "execution_count": 75,
   "id": "fe3a4f1e-6313-49c6-94b4-e4d600ec59da",
   "metadata": {},
   "outputs": [],
   "source": [
    "local_context_params = {\n",
    "    \"text_unit_prop\": 0.5,\n",
    "    \"community_prop\": 0.1,\n",
    "    \"conversation_history_max_turns\": 5,\n",
    "    \"conversation_history_user_turns_only\": True,\n",
    "    \"top_k_mapped_entities\": 10,\n",
    "    \"top_k_relationships\": 10,\n",
    "    \"include_entity_rank\": True,\n",
    "    \"include_relationship_weight\": True,\n",
    "    \"include_community_rank\": False,\n",
    "    \"return_candidate_context\": False,\n",
    "    \"embedding_vectorstore_key\": EntityVectorStoreKey.ID,  \n",
    "    \"max_tokens\": 12_000,  \n",
    "}\n",
    "\n",
    "model_params = {\n",
    "    \"max_tokens\": 2_000, \n",
    "    \"temperature\": 0.0,\n",
    "}"
   ]
  },
  {
   "cell_type": "code",
   "execution_count": 76,
   "id": "98efac7f-25d8-40e8-94db-34f4f8b8c3b4",
   "metadata": {},
   "outputs": [],
   "source": [
    "search_engine = LocalSearch(\n",
    "    model=chat_model,\n",
    "    context_builder=context_builder,\n",
    "    token_encoder=token_encoder,\n",
    "    model_params=model_params,\n",
    "    context_builder_params=local_context_params,\n",
    "    response_type=\"multiple paragraphs\",  \n",
    ")"
   ]
  },
  {
   "cell_type": "code",
   "execution_count": 77,
   "id": "33283060-aac1-4b7c-819e-ab619446425e",
   "metadata": {},
   "outputs": [
    {
     "name": "stdout",
     "output_type": "stream",
     "text": [
      "苹果公司于2007年发布了iPhone，这标志着智能手机时代的开始，并使苹果成为全球最有价值的公司之一 [Data: Sources (0)].\n"
     ]
    }
   ],
   "source": [
    "result = await search_engine.search(\"请问苹果公司什么时候发布的iphone？\")\n",
    "print(result.response)"
   ]
  },
  {
   "cell_type": "code",
   "execution_count": 83,
   "id": "bef5a7a9-df02-4ded-a484-ed17f384f424",
   "metadata": {
    "scrolled": true
   },
   "outputs": [
    {
     "data": {
      "text/plain": [
       "SearchResult(response='苹果公司于2007年发布了iPhone，这标志着智能手机时代的开始，并使苹果成为全球最有价值的公司之一 [Data: Sources (0)].', context_data={'reports':   id                                   title  \\\n",
       "0  0  Amazon and Its Technological Ecosystem   \n",
       "\n",
       "                                             content  \n",
       "0  # Amazon and Its Technological Ecosystem\\n\\nTh...  , 'relationships':     id source       target                                        description  \\\n",
       "0   12    亚马逊           谷歌                                 谷歌和亚马逊在多个领域存在竞争与合作   \n",
       "1   13    亚马逊           微软                                 微软和亚马逊在多个领域存在竞争与合作   \n",
       "2   11    亚马逊           苹果                                 苹果和亚马逊在多个领域存在竞争与合作   \n",
       "3   20     谷歌           微软                            谷歌和微软在量子计算领域投入大量资源并取得进展   \n",
       "4   14    亚马逊         人工智能                                 亚马逊积极布局人工智能以提升用户体验   \n",
       "5   17     苹果           谷歌                                  苹果和谷歌在多个领域存在竞争与合作   \n",
       "6   18     苹果           微软                                  苹果和微软在多个领域存在竞争与合作   \n",
       "7    7    亚马逊       杰夫·贝索斯  Jeff Bezos founded Amazon and led its expansio...   \n",
       "8    8    亚马逊          AWS                       AWS是亚马逊推出的云计算平台，成为其重要的利润来源之一   \n",
       "9   10    亚马逊        ALEXA                        亚马逊推出Alexa智能助手以提升其在科技领域的影响力   \n",
       "10  21     谷歌         量子计算                               谷歌在量子计算领域投入大量资源并取得进展   \n",
       "11  22     微软         量子计算                               微软在量子计算领域投入大量资源并取得进展   \n",
       "12   3     谷歌        拉里·佩奇  Larry Page co-founded Google and was instrumen...   \n",
       "13   4     谷歌       谢尔盖·布林  Sergey Brin co-founded Google and played a sig...   \n",
       "14   5     微软        比尔·盖茨  Bill Gates co-founded Microsoft and was a key ...   \n",
       "15   6     微软        保罗·艾伦  Paul Allen co-founded Microsoft and contribute...   \n",
       "16  19     苹果         人工智能                                  苹果积极布局人工智能以提升用户体验   \n",
       "17   9    亚马逊  WHOLE FOODS                     亚马逊通过收购Whole Foods巩固了其在零售领域的地位   \n",
       "\n",
       "   weight links  in_context  \n",
       "0     6.0     4        True  \n",
       "1     6.0     2        True  \n",
       "2     6.0     2        True  \n",
       "3     7.0     4        True  \n",
       "4     8.0     2        True  \n",
       "5     6.0     4        True  \n",
       "6     6.0     1        True  \n",
       "7     1.0     1        True  \n",
       "8     9.0     1        True  \n",
       "9     8.0     1        True  \n",
       "10    9.0     4        True  \n",
       "11    1.0     1        True  \n",
       "12    9.0     1        True  \n",
       "13    9.0     1        True  \n",
       "14    9.0     1        True  \n",
       "15    8.0     1        True  \n",
       "16    8.0     2        True  \n",
       "17    8.0     1        True  , 'entities':     id  entity                                        description  \\\n",
       "0   18      苹果                             苹果是一家科技巨头，参与多个领域的竞争与合作   \n",
       "1    8      微软  Microsoft, known as \"微软\" in Chinese, is a prom...   \n",
       "2   20    量子计算                  量子计算是未来科技行业的重要趋势，谷歌和微软在该领域取得突破性进展   \n",
       "3   11     亚马逊  Amazon, known as \"亚马逊\" in Chinese, is a global...   \n",
       "4    5      谷歌  谷歌, also known as Google, is a prominent techn...   \n",
       "5   19    人工智能                  人工智能是未来科技行业的重要趋势，科技巨头们积极布局以提升用户体验   \n",
       "6   13     AWS                           AWS是亚马逊推出的全球首个大规模商用云计算平台   \n",
       "7   15   ALEXA                     Alexa是亚马逊推出的智能助手，提升了其在科技领域的影响力   \n",
       "8    9   比尔·盖茨  Bill Gates is a co-founder of Microsoft and wa...   \n",
       "9    6   拉里·佩奇  Larry Page is a co-founder of Google and playe...   \n",
       "10  12  杰夫·贝索斯  Jeff Bezos is the founder of Amazon and led it...   \n",
       "11  10   保罗·艾伦  Paul Allen is a co-founder of Microsoft and co...   \n",
       "12   7  谢尔盖·布林  Sergey Brin is a co-founder of Google and cont...   \n",
       "\n",
       "   number of relationships  in_context  \n",
       "0                        4        True  \n",
       "1                        6        True  \n",
       "2                        2        True  \n",
       "3                        8        True  \n",
       "4                        6        True  \n",
       "5                        2        True  \n",
       "6                        1        True  \n",
       "7                        1        True  \n",
       "8                        1        True  \n",
       "9                        1        True  \n",
       "10                       1        True  \n",
       "11                       1        True  \n",
       "12                       1        True  , 'sources':   id                                               text\n",
       "0  1  �扩展为销售各类商品的电商平台。1997 年，亚马逊在纳斯达克上市，开启了其快速扩张的历程。...\n",
       "1  0  在过去的几十年中，全球科技行业经历了翻天覆地的变化。以硅谷为中心的创新生态系统催生了许多世界...}, context_text='-----Reports-----\\nid|title|content\\n0|Amazon and Its Technological Ecosystem|\"# Amazon and Its Technological Ecosystem\\n\\nThe community is centered around Amazon, a global leader in e-commerce and cloud computing, with significant contributions from its founder Jeff Bezos and its cloud platform AWS. Amazon\\'s strategic acquisitions and innovations, such as Whole Foods and Alexa, further solidify its influence in the retail and technology sectors. The community also includes interactions with other tech giants like Apple and Google, highlighting competitive and cooperative dynamics in the tech industry.\\n\\n## Amazon\\'s Dominance in E-commerce and Cloud Computing\\n\\nAmazon, known as \\'亚马逊\\' in Chinese, is a globally recognized leader in e-commerce and cloud computing. Founded in 1994, it has grown from an online bookstore to a comprehensive online marketplace offering a wide range of products and services. Amazon Web Services (AWS), its cloud computing platform, is a major profit driver and a critical component of its business model, providing services like computing power and storage to businesses worldwide [Data: Entities (11); Relationships (8)].\\n\\n## Jeff Bezos\\' Role in Amazon\\'s Growth\\n\\nJeff Bezos, the founder of Amazon, played a pivotal role in transforming the company into a global e-commerce giant. His leadership and vision were instrumental in Amazon\\'s expansion and innovation, particularly in the development of AWS and the acquisition of Whole Foods, which strengthened Amazon\\'s position in the retail sector [Data: Entities (12); Relationships (7)].\\n\\n## AWS as a Key Profit Source\\n\\nAWS, launched by Amazon, is the world\\'s first large-scale commercial cloud computing platform. It has become a significant source of profit for Amazon, offering a variety of services that enhance digital operations for businesses and individuals globally. AWS\\'s success underscores Amazon\\'s strategic focus on integrating e-commerce with advanced technology solutions [Data: Entities (13); Relationships (8)].\\n\\n## Strategic Acquisition of Whole Foods\\n\\nAmazon\\'s acquisition of Whole Foods marked a strategic move to consolidate its position in the retail sector. This acquisition not only expanded Amazon\\'s market reach but also integrated its e-commerce capabilities with physical retail, offering a seamless shopping experience for consumers [Data: Entities (14); Relationships (9)].\\n\\n## Innovation with Alexa\\n\\nAmazon\\'s introduction of Alexa, a smart assistant, has significantly enhanced its influence in the technology sector. Alexa represents Amazon\\'s commitment to innovation and its ability to leverage artificial intelligence to improve user experience, further solidifying its reputation as a tech leader [Data: Entities (15); Relationships (10)].\\n\\n## Amazon\\'s Investment in Artificial Intelligence\\n\\nAmazon is actively investing in artificial intelligence to enhance user experience, reflecting its strategic focus on integrating AI into its services. This investment positions Amazon at the forefront of technological innovation, driving advancements in AI applications across its platforms [Data: Relationships (14)].\\n\\n## Competitive and Cooperative Dynamics with Apple and Google\\n\\nAmazon\\'s interactions with other tech giants like Apple and Google highlight the competitive and cooperative dynamics within the tech industry. While these companies compete in various sectors, they also collaborate on certain initiatives, reflecting the complex relationships that drive technological advancement [Data: Entities (18, 19); Relationships (17)].\"\\n\\n\\n-----Entities-----\\nid|entity|description|number of relationships\\n18|苹果|苹果是一家科技巨头，参与多个领域的竞争与合作|4\\n8|微软|Microsoft, known as \"微软\" in Chinese, is a prominent technology company founded in 1975. It has established itself as a leader in the technology industry, primarily recognized for its development of operating systems and cloud computing services. Over the years, Microsoft has expanded its influence and operations across various sectors, engaging in both competition and collaboration with other entities in the tech world. The company is not only a giant in the software industry but also actively invests in cutting-edge technologies, including quantum computing, where it dedicates substantial resources to advance this field. Through its diverse initiatives and strategic investments, Microsoft continues to shape the future of technology on a global scale.|6\\n20|量子计算|量子计算是未来科技行业的重要趋势，谷歌和微软在该领域取得突破性进展|2\\n11|亚马逊|Amazon, known as \"亚马逊\" in Chinese, is a globally recognized e-commerce and cloud computing company. It was founded in 1994 and has since become renowned for its extensive online marketplace, which offers a wide range of products and services to consumers worldwide. In 1997, Amazon went public by listing on the NASDAQ, marking a significant milestone in its growth and expansion.\\n\\nOne of Amazon\\'s most notable contributions to the technology sector is its Amazon Web Services (AWS) platform. AWS is a comprehensive cloud computing service that has become a crucial component of Amazon\\'s business model and a significant source of its profits. The platform provides a variety of services, including computing power, storage options, and networking capabilities, which are utilized by businesses and individuals globally to enhance their digital operations.\\n\\nAmazon\\'s dual focus on e-commerce and cloud computing has positioned it as a leader in both industries, driving innovation and setting standards for competitors. The company\\'s ability to integrate these two sectors has not only expanded its market reach but also solidified its reputation as a pioneer in leveraging technology to improve consumer and business experiences.|8\\n5|谷歌|谷歌, also known as Google, is a prominent technology company founded in 1998. It is widely recognized for its pioneering search engine, which has become a fundamental tool for information retrieval on the internet. Over the years, Google has expanded its influence and operations across various technological domains, establishing itself as a leader in the industry.\\n\\nOne of Google\\'s significant areas of expertise is artificial intelligence (AI), where it has made substantial advancements. The company has integrated AI into many of its products and services, enhancing user experience and functionality. Additionally, Google has developed a robust mobile operating system, Android, which powers a vast majority of smartphones globally, further cementing its position in the mobile technology sector.\\n\\nBeyond these areas, Google is also heavily invested in the field of quantum computing. The company has allocated considerable resources to research and development in this cutting-edge domain, aiming to push the boundaries of what is possible with computing technology. This investment underscores Google\\'s commitment to innovation and its pursuit of transformative technologies that can redefine industries.\\n\\nFurthermore, Google is a major player in the competitive landscape of technology, engaging in both competition and collaboration across multiple sectors. Its diverse portfolio and strategic initiatives reflect its status as a technology giant, continuously shaping the future of digital and technological advancements.|6\\n19|人工智能|人工智能是未来科技行业的重要趋势，科技巨头们积极布局以提升用户体验|2\\n13|AWS|AWS是亚马逊推出的全球首个大规模商用云计算平台|1\\n15|ALEXA|Alexa是亚马逊推出的智能助手，提升了其在科技领域的影响力|1\\n9|比尔·盖茨|Bill Gates is a co-founder of Microsoft and was pivotal in its rise to prominence in the software industry|1\\n6|拉里·佩奇|Larry Page is a co-founder of Google and played a key role in its development and growth|1\\n12|杰夫·贝索斯|Jeff Bezos is the founder of Amazon and led its transformation from an online bookstore to a global e-commerce giant|1\\n10|保罗·艾伦|Paul Allen is a co-founder of Microsoft and contributed to its early success|1\\n7|谢尔盖·布林|Sergey Brin is a co-founder of Google and contributed significantly to its success|1\\n\\n\\n-----Relationships-----\\nid|source|target|description|weight|links\\n12|亚马逊|谷歌|谷歌和亚马逊在多个领域存在竞争与合作|6.0|4\\n13|亚马逊|微软|微软和亚马逊在多个领域存在竞争与合作|6.0|2\\n11|亚马逊|苹果|苹果和亚马逊在多个领域存在竞争与合作|6.0|2\\n20|谷歌|微软|谷歌和微软在量子计算领域投入大量资源并取得进展|7.0|4\\n14|亚马逊|人工智能|亚马逊积极布局人工智能以提升用户体验|8.0|2\\n17|苹果|谷歌|苹果和谷歌在多个领域存在竞争与合作|6.0|4\\n18|苹果|微软|苹果和微软在多个领域存在竞争与合作|6.0|1\\n7|亚马逊|杰夫·贝索斯|Jeff Bezos founded Amazon and led its expansion into a global e-commerce leader|1.0|1\\n8|亚马逊|AWS|AWS是亚马逊推出的云计算平台，成为其重要的利润来源之一|9.0|1\\n10|亚马逊|ALEXA|亚马逊推出Alexa智能助手以提升其在科技领域的影响力|8.0|1\\n21|谷歌|量子计算|谷歌在量子计算领域投入大量资源并取得进展|9.0|4\\n22|微软|量子计算|微软在量子计算领域投入大量资源并取得进展|1.0|1\\n3|谷歌|拉里·佩奇|Larry Page co-founded Google and was instrumental in its growth|9.0|1\\n4|谷歌|谢尔盖·布林|Sergey Brin co-founded Google and played a significant role in its success|9.0|1\\n5|微软|比尔·盖茨|Bill Gates co-founded Microsoft and was a key figure in its development|9.0|1\\n6|微软|保罗·艾伦|Paul Allen co-founded Microsoft and contributed to its early achievements|8.0|1\\n19|苹果|人工智能|苹果积极布局人工智能以提升用户体验|8.0|2\\n9|亚马逊|WHOLE FOODS|亚马逊通过收购Whole Foods巩固了其在零售领域的地位|8.0|1\\n\\n\\n-----Sources-----\\nid|text\\n1|�扩展为销售各类商品的电商平台。1997 年，亚马逊在纳斯达克上市，开启了其快速扩张的历程。\\n\\n2006 年，亚马逊推出了 AWS（Amazon Web Services），这是全球首个大规模商用的云计算平台。如今，AWS 已成为亚马逊最重要的利润来源之一。此外，亚马逊还通过收购 Whole Foods 和推出 Alexa 智能助手，进一步巩固了其在零售和科技领域的领先地位。\\n\\n创新生态系统的关键要素\\n硅谷之所以能够成为全球科技创新的中心，离不开其独特的生态系统。首先，硅谷拥有斯坦福大学和加州大学伯克利分校等世界顶尖高校，这些学校培养了大量的技术人才。其次，硅谷的风险投资行业非常发达，为初创企业提供了充足的资金支持。此外，硅谷的文化鼓励创新和冒险，许多创业者在这里实现了从零到一的突破。\\n\\n科技巨头的竞争与合作\\n尽管苹果、谷歌、微软和亚马逊在多个领域存在竞争，但它们之间也有广泛的合作。例如，谷歌的搜索服务是苹果 Safari 浏览器的默认搜索引擎，而微软的 Office 软件也支持在苹果和安卓设备上运行。此外，这些公司还共同参与了开源项目和技术标准的制定，推动了整个行业的发展。\\n\\n未来趋势：人工智能与量子计算\\n展望未来，人工智能和量子计算将成为科技行业的下一个风口。谷歌和微软已经在量子计算领域投入了大量资源，并取得了一些突破性进展。与此同时，苹果和亚马逊也在积极布局人工智能，试图通过智能设备和语音助手进一步提升用户体验。\\n\\n总结\\n从苹果的 iPhone 到谷歌的搜索引擎，从微软的云计算到亚马逊的电商平台，这些科技巨头不仅改变了我们的生活方式，还推动了全球经济的数字化转型。未来，随着人工智能和量子计算等新兴技术的发展，科技行业将继续引领创新潮流，为人类社会带来更多可能性。\\n0|在过去的几十年中，全球科技行业经历了翻天覆地的变化。以硅谷为中心的创新生态系统催生了许多世界知名的科技公司，如苹果、谷歌、微软和亚马逊。这些公司不仅改变了人们的生活方式，还推动了全球经济的发展。\\n\\n苹果公司：从车库到万亿美元市值\\n苹果公司（Apple Inc.）由史蒂夫·乔布斯（Steve Jobs）、史蒂夫·沃兹尼亚克（Steve Wozniak）和罗恩·韦恩（Ron Wayne）于 1976 年在美国加利福尼亚州库比蒂诺的一个车库中创立。最初，苹果公司专注于个人电脑的开发，其第一款产品 Apple I 在 1976 年发布。1984 年，苹果推出了 Macintosh 电脑，这是第一款成功商用化的图形用户界面电脑，彻底改变了人机交互的方式。\\n\\n乔布斯在 1985 年离开苹果，但在 1997 年回归，并带领公司推出了 iMac、iPod、iPhone 和 iPad 等一系列革命性产品。2007 年，iPhone 的发布标志着智能手机时代的开始，苹果也因此成为全球最有价值的公司之一。截至 2023 年，苹果的市值已超过 2 万亿美元。\\n\\n谷歌：从搜索引擎到人工智能巨头\\n谷歌（Google）由拉里·佩奇（Larry Page）和谢尔盖·布林（Sergey Brin）于 1998 年在加利福尼亚州门洛帕克创立。最初，谷歌是一个搜索引擎，但其技术迅速超越了竞争对手，成为全球最受欢迎的搜索工具。2004 年，谷歌在纳斯达克上市，募集资金超过 16 亿美元。\\n\\n谷歌的创新能力不仅限于搜索。2006 年，谷歌收购了 YouTube，成为在线视频领域的领导者。2007 年，谷歌推出了 Android 操作系统，如今已成为全球最流行的移动操作系统。近年来，谷歌在人工智能领域取得了显著进展，其开发的 AlphaGo 在 2016 年击败了世界围棋冠军李世石，展示了人工智能的强大潜力。\\n\\n微软：从操作系统到云计算\\n微软（Microsoft）由比尔·盖茨（Bill Gates）和保罗·艾伦（Paul Allen）于 1975 年在美国华盛顿州雷德蒙德创立。微软最初以开发 BASIC 解释器起家，但真正使其成名的是 1981 年发布的 MS-DOS 操作系统。1985 年，微软推出了 Windows 操作系统，成为个人电脑领域的霸主。\\n\\n进入 21 世纪后，微软逐渐将业务重心转向云计算。2008 年，微软推出了 Azure 云服务平台，如今已成为全球第二大云计算服务提供商。此外，微软还通过收购 LinkedIn 和 GitHub 等平台，进一步扩展了其在企业服务和开发者社区中的影响力。\\n\\n亚马逊：从在线书店到全球电商巨头\\n亚马逊（Amazon）由杰夫·贝索斯（Jeff Bezos）于 1994 年在美国华盛顿州西雅图创立。最初，亚马逊是一家在线书店，但很快扩展为销售各类商品的电商平台。1997 年，亚马逊在纳斯达克上市，开启了其快速扩张的历程。\\n\\n2006 年，亚马逊推出了 AWS（Amazon Web Services），这是全球首个大规模商用的云计算平台。如今，AWS 已成\\n', completion_time=4.9857707023620605, llm_calls=1, prompt_tokens=4010, output_tokens=37, llm_calls_categories={'build_context': 0, 'response': 1}, prompt_tokens_categories={'build_context': 0, 'response': 4010}, output_tokens_categories={'build_context': 0, 'response': 37})"
      ]
     },
     "execution_count": 83,
     "metadata": {},
     "output_type": "execute_result"
    }
   ],
   "source": [
    "result"
   ]
  },
  {
   "cell_type": "code",
   "execution_count": 78,
   "id": "fa36c847-ad0f-4b9b-b9f3-20b6db7571f8",
   "metadata": {},
   "outputs": [
    {
     "data": {
      "text/html": [
       "<div>\n",
       "<style scoped>\n",
       "    .dataframe tbody tr th:only-of-type {\n",
       "        vertical-align: middle;\n",
       "    }\n",
       "\n",
       "    .dataframe tbody tr th {\n",
       "        vertical-align: top;\n",
       "    }\n",
       "\n",
       "    .dataframe thead th {\n",
       "        text-align: right;\n",
       "    }\n",
       "</style>\n",
       "<table border=\"1\" class=\"dataframe\">\n",
       "  <thead>\n",
       "    <tr style=\"text-align: right;\">\n",
       "      <th></th>\n",
       "      <th>id</th>\n",
       "      <th>entity</th>\n",
       "      <th>description</th>\n",
       "      <th>number of relationships</th>\n",
       "      <th>in_context</th>\n",
       "    </tr>\n",
       "  </thead>\n",
       "  <tbody>\n",
       "    <tr>\n",
       "      <th>0</th>\n",
       "      <td>18</td>\n",
       "      <td>苹果</td>\n",
       "      <td>苹果是一家科技巨头，参与多个领域的竞争与合作</td>\n",
       "      <td>4</td>\n",
       "      <td>True</td>\n",
       "    </tr>\n",
       "    <tr>\n",
       "      <th>1</th>\n",
       "      <td>8</td>\n",
       "      <td>微软</td>\n",
       "      <td>Microsoft, known as \"微软\" in Chinese, is a prom...</td>\n",
       "      <td>6</td>\n",
       "      <td>True</td>\n",
       "    </tr>\n",
       "    <tr>\n",
       "      <th>2</th>\n",
       "      <td>20</td>\n",
       "      <td>量子计算</td>\n",
       "      <td>量子计算是未来科技行业的重要趋势，谷歌和微软在该领域取得突破性进展</td>\n",
       "      <td>2</td>\n",
       "      <td>True</td>\n",
       "    </tr>\n",
       "    <tr>\n",
       "      <th>3</th>\n",
       "      <td>11</td>\n",
       "      <td>亚马逊</td>\n",
       "      <td>Amazon, known as \"亚马逊\" in Chinese, is a global...</td>\n",
       "      <td>8</td>\n",
       "      <td>True</td>\n",
       "    </tr>\n",
       "    <tr>\n",
       "      <th>4</th>\n",
       "      <td>5</td>\n",
       "      <td>谷歌</td>\n",
       "      <td>谷歌, also known as Google, is a prominent techn...</td>\n",
       "      <td>6</td>\n",
       "      <td>True</td>\n",
       "    </tr>\n",
       "  </tbody>\n",
       "</table>\n",
       "</div>"
      ],
      "text/plain": [
       "   id entity                                        description  \\\n",
       "0  18     苹果                             苹果是一家科技巨头，参与多个领域的竞争与合作   \n",
       "1   8     微软  Microsoft, known as \"微软\" in Chinese, is a prom...   \n",
       "2  20   量子计算                  量子计算是未来科技行业的重要趋势，谷歌和微软在该领域取得突破性进展   \n",
       "3  11    亚马逊  Amazon, known as \"亚马逊\" in Chinese, is a global...   \n",
       "4   5     谷歌  谷歌, also known as Google, is a prominent techn...   \n",
       "\n",
       "  number of relationships  in_context  \n",
       "0                       4        True  \n",
       "1                       6        True  \n",
       "2                       2        True  \n",
       "3                       8        True  \n",
       "4                       6        True  "
      ]
     },
     "execution_count": 78,
     "metadata": {},
     "output_type": "execute_result"
    }
   ],
   "source": [
    "result.context_data[\"entities\"].head()"
   ]
  },
  {
   "cell_type": "code",
   "execution_count": 79,
   "id": "aba709a8-4fce-4758-be99-a0450e4c4ad2",
   "metadata": {},
   "outputs": [
    {
     "data": {
      "text/html": [
       "<div>\n",
       "<style scoped>\n",
       "    .dataframe tbody tr th:only-of-type {\n",
       "        vertical-align: middle;\n",
       "    }\n",
       "\n",
       "    .dataframe tbody tr th {\n",
       "        vertical-align: top;\n",
       "    }\n",
       "\n",
       "    .dataframe thead th {\n",
       "        text-align: right;\n",
       "    }\n",
       "</style>\n",
       "<table border=\"1\" class=\"dataframe\">\n",
       "  <thead>\n",
       "    <tr style=\"text-align: right;\">\n",
       "      <th></th>\n",
       "      <th>id</th>\n",
       "      <th>source</th>\n",
       "      <th>target</th>\n",
       "      <th>description</th>\n",
       "      <th>weight</th>\n",
       "      <th>links</th>\n",
       "      <th>in_context</th>\n",
       "    </tr>\n",
       "  </thead>\n",
       "  <tbody>\n",
       "    <tr>\n",
       "      <th>0</th>\n",
       "      <td>12</td>\n",
       "      <td>亚马逊</td>\n",
       "      <td>谷歌</td>\n",
       "      <td>谷歌和亚马逊在多个领域存在竞争与合作</td>\n",
       "      <td>6.0</td>\n",
       "      <td>4</td>\n",
       "      <td>True</td>\n",
       "    </tr>\n",
       "    <tr>\n",
       "      <th>1</th>\n",
       "      <td>13</td>\n",
       "      <td>亚马逊</td>\n",
       "      <td>微软</td>\n",
       "      <td>微软和亚马逊在多个领域存在竞争与合作</td>\n",
       "      <td>6.0</td>\n",
       "      <td>2</td>\n",
       "      <td>True</td>\n",
       "    </tr>\n",
       "    <tr>\n",
       "      <th>2</th>\n",
       "      <td>11</td>\n",
       "      <td>亚马逊</td>\n",
       "      <td>苹果</td>\n",
       "      <td>苹果和亚马逊在多个领域存在竞争与合作</td>\n",
       "      <td>6.0</td>\n",
       "      <td>2</td>\n",
       "      <td>True</td>\n",
       "    </tr>\n",
       "    <tr>\n",
       "      <th>3</th>\n",
       "      <td>20</td>\n",
       "      <td>谷歌</td>\n",
       "      <td>微软</td>\n",
       "      <td>谷歌和微软在量子计算领域投入大量资源并取得进展</td>\n",
       "      <td>7.0</td>\n",
       "      <td>4</td>\n",
       "      <td>True</td>\n",
       "    </tr>\n",
       "    <tr>\n",
       "      <th>4</th>\n",
       "      <td>14</td>\n",
       "      <td>亚马逊</td>\n",
       "      <td>人工智能</td>\n",
       "      <td>亚马逊积极布局人工智能以提升用户体验</td>\n",
       "      <td>8.0</td>\n",
       "      <td>2</td>\n",
       "      <td>True</td>\n",
       "    </tr>\n",
       "  </tbody>\n",
       "</table>\n",
       "</div>"
      ],
      "text/plain": [
       "   id source target              description weight links  in_context\n",
       "0  12    亚马逊     谷歌       谷歌和亚马逊在多个领域存在竞争与合作    6.0     4        True\n",
       "1  13    亚马逊     微软       微软和亚马逊在多个领域存在竞争与合作    6.0     2        True\n",
       "2  11    亚马逊     苹果       苹果和亚马逊在多个领域存在竞争与合作    6.0     2        True\n",
       "3  20     谷歌     微软  谷歌和微软在量子计算领域投入大量资源并取得进展    7.0     4        True\n",
       "4  14    亚马逊   人工智能       亚马逊积极布局人工智能以提升用户体验    8.0     2        True"
      ]
     },
     "execution_count": 79,
     "metadata": {},
     "output_type": "execute_result"
    }
   ],
   "source": [
    "result.context_data[\"relationships\"].head()"
   ]
  },
  {
   "cell_type": "code",
   "execution_count": 81,
   "id": "08dd8f6f-57de-4099-bfde-76a8b35a6af6",
   "metadata": {},
   "outputs": [
    {
     "data": {
      "text/html": [
       "<div>\n",
       "<style scoped>\n",
       "    .dataframe tbody tr th:only-of-type {\n",
       "        vertical-align: middle;\n",
       "    }\n",
       "\n",
       "    .dataframe tbody tr th {\n",
       "        vertical-align: top;\n",
       "    }\n",
       "\n",
       "    .dataframe thead th {\n",
       "        text-align: right;\n",
       "    }\n",
       "</style>\n",
       "<table border=\"1\" class=\"dataframe\">\n",
       "  <thead>\n",
       "    <tr style=\"text-align: right;\">\n",
       "      <th></th>\n",
       "      <th>id</th>\n",
       "      <th>text</th>\n",
       "    </tr>\n",
       "  </thead>\n",
       "  <tbody>\n",
       "    <tr>\n",
       "      <th>0</th>\n",
       "      <td>1</td>\n",
       "      <td>�扩展为销售各类商品的电商平台。1997 年，亚马逊在纳斯达克上市，开启了其快速扩张的历程。...</td>\n",
       "    </tr>\n",
       "    <tr>\n",
       "      <th>1</th>\n",
       "      <td>0</td>\n",
       "      <td>在过去的几十年中，全球科技行业经历了翻天覆地的变化。以硅谷为中心的创新生态系统催生了许多世界...</td>\n",
       "    </tr>\n",
       "  </tbody>\n",
       "</table>\n",
       "</div>"
      ],
      "text/plain": [
       "  id                                               text\n",
       "0  1  �扩展为销售各类商品的电商平台。1997 年，亚马逊在纳斯达克上市，开启了其快速扩张的历程。...\n",
       "1  0  在过去的几十年中，全球科技行业经历了翻天覆地的变化。以硅谷为中心的创新生态系统催生了许多世界..."
      ]
     },
     "execution_count": 81,
     "metadata": {},
     "output_type": "execute_result"
    }
   ],
   "source": [
    "result.context_data[\"sources\"].head()"
   ]
  },
  {
   "cell_type": "markdown",
   "id": "2090b1e2-2923-42d4-9ab6-2f0f18660501",
   "metadata": {},
   "source": [
    "- **Step 6.创建全局搜索模型**"
   ]
  },
  {
   "cell_type": "code",
   "execution_count": 105,
   "id": "8cfd7ae4-3b1c-4dea-8225-f845c9e8894d",
   "metadata": {},
   "outputs": [],
   "source": [
    "global_chat_model = ModelManager().get_or_create_chat_model(\n",
    "    name=\"global_search\",\n",
    "    model_type=ModelType.OpenAIChat,\n",
    "    config=chat_config,\n",
    ")"
   ]
  },
  {
   "cell_type": "markdown",
   "id": "32a1a7a0-0bed-449d-9f7e-d69716aa14dc",
   "metadata": {},
   "source": [
    "- **Step 7.创建全局搜索参数组**"
   ]
  },
  {
   "cell_type": "code",
   "execution_count": 85,
   "id": "c459b2d9-db8b-4dfd-8020-f41b8a8b1abf",
   "metadata": {},
   "outputs": [],
   "source": [
    "context_builder = GlobalCommunityContext(\n",
    "    community_reports=reports,\n",
    "    communities=communities,\n",
    "    entities=entities,  # default to None if you don't want to use community weights for ranking\n",
    "    token_encoder=token_encoder,\n",
    ")"
   ]
  },
  {
   "cell_type": "code",
   "execution_count": 84,
   "id": "617e62bd-8040-4029-9152-a7fe13b659e5",
   "metadata": {},
   "outputs": [],
   "source": [
    "context_builder_params = {\n",
    "    \"use_community_summary\": False,  # False means using full community reports. True means using community short summaries.\n",
    "    \"shuffle_data\": True,\n",
    "    \"include_community_rank\": True,\n",
    "    \"min_community_rank\": 0,\n",
    "    \"community_rank_name\": \"rank\",\n",
    "    \"include_community_weight\": True,\n",
    "    \"community_weight_name\": \"occurrence weight\",\n",
    "    \"normalize_community_weight\": True,\n",
    "    \"max_tokens\": 12_000,  # change this based on the token limit you have on your model (if you are using a model with 8k limit, a good setting could be 5000)\n",
    "    \"context_name\": \"Reports\",\n",
    "}\n",
    "\n",
    "map_llm_params = {\n",
    "    \"max_tokens\": 1000,\n",
    "    \"temperature\": 0.0,\n",
    "    \"response_format\": {\"type\": \"json_object\"},\n",
    "}\n",
    "\n",
    "reduce_llm_params = {\n",
    "    \"max_tokens\": 2000,  # change this based on the token limit you have on your model (if you are using a model with 8k limit, a good setting could be 1000-1500)\n",
    "    \"temperature\": 0.0,\n",
    "}"
   ]
  },
  {
   "cell_type": "code",
   "execution_count": 91,
   "id": "7653b4b2-2075-4c69-9cfe-6c284d242f48",
   "metadata": {},
   "outputs": [
    {
     "data": {
      "text/plain": [
       "\u001b[31mInit signature:\u001b[39m\n",
       "GlobalSearch(\n",
       "    model: graphrag.language_model.protocol.base.ChatModel,\n",
       "    context_builder: graphrag.query.context_builder.builders.GlobalContextBuilder,\n",
       "    token_encoder: tiktoken.core.Encoding | \u001b[38;5;28;01mNone\u001b[39;00m = \u001b[38;5;28;01mNone\u001b[39;00m,\n",
       "    map_system_prompt: str | \u001b[38;5;28;01mNone\u001b[39;00m = \u001b[38;5;28;01mNone\u001b[39;00m,\n",
       "    reduce_system_prompt: str | \u001b[38;5;28;01mNone\u001b[39;00m = \u001b[38;5;28;01mNone\u001b[39;00m,\n",
       "    response_type: str = \u001b[33m'multiple paragraphs'\u001b[39m,\n",
       "    allow_general_knowledge: bool = \u001b[38;5;28;01mFalse\u001b[39;00m,\n",
       "    general_knowledge_inclusion_prompt: str | \u001b[38;5;28;01mNone\u001b[39;00m = \u001b[38;5;28;01mNone\u001b[39;00m,\n",
       "    json_mode: bool = \u001b[38;5;28;01mTrue\u001b[39;00m,\n",
       "    callbacks: list[graphrag.callbacks.query_callbacks.QueryCallbacks] | \u001b[38;5;28;01mNone\u001b[39;00m = \u001b[38;5;28;01mNone\u001b[39;00m,\n",
       "    max_data_tokens: int = \u001b[32m8000\u001b[39m,\n",
       "    map_llm_params: dict[str, typing.Any] | \u001b[38;5;28;01mNone\u001b[39;00m = \u001b[38;5;28;01mNone\u001b[39;00m,\n",
       "    reduce_llm_params: dict[str, typing.Any] | \u001b[38;5;28;01mNone\u001b[39;00m = \u001b[38;5;28;01mNone\u001b[39;00m,\n",
       "    map_max_length: int = \u001b[32m1000\u001b[39m,\n",
       "    reduce_max_length: int = \u001b[32m2000\u001b[39m,\n",
       "    context_builder_params: dict[str, typing.Any] | \u001b[38;5;28;01mNone\u001b[39;00m = \u001b[38;5;28;01mNone\u001b[39;00m,\n",
       "    concurrent_coroutines: int = \u001b[32m32\u001b[39m,\n",
       ")\n",
       "\u001b[31mDocstring:\u001b[39m      Search orchestration for global search mode.\n",
       "\u001b[31mFile:\u001b[39m           ~/miniconda3/envs/graphrag/lib/python3.11/site-packages/graphrag/query/structured_search/global_search/search.py\n",
       "\u001b[31mType:\u001b[39m           ABCMeta\n",
       "\u001b[31mSubclasses:\u001b[39m     "
      ]
     },
     "metadata": {},
     "output_type": "display_data"
    }
   ],
   "source": [
    "GlobalSearch?"
   ]
  },
  {
   "cell_type": "markdown",
   "id": "0ad1f225-3210-4eab-8081-56c34f678e2b",
   "metadata": {},
   "source": [
    "- **Step 8.执行全局搜索**"
   ]
  },
  {
   "cell_type": "code",
   "execution_count": 92,
   "id": "8480d978-03f5-44e7-99f7-7929241e282a",
   "metadata": {},
   "outputs": [],
   "source": [
    "search_engine = GlobalSearch(\n",
    "    model=global_chat_model,\n",
    "    context_builder=context_builder,\n",
    "    token_encoder=token_encoder,\n",
    "    max_data_tokens=12_000,  # change this based on the token limit you have on your model (if you are using a model with 8k limit, a good setting could be 5000)\n",
    "    map_llm_params=map_llm_params,\n",
    "    reduce_llm_params=reduce_llm_params,\n",
    "    allow_general_knowledge=False,  # set this to True will add instruction to encourage the LLM to incorporate general knowledge in the response, which may increase hallucinations, but could be useful in some use cases.\n",
    "    json_mode=True,  # set this to False if your LLM model does not support JSON mode.\n",
    "    context_builder_params=context_builder_params,\n",
    "    concurrent_coroutines=32,\n",
    "    response_type=\"multiple paragraphs\",  # free form text describing the response type and format, can be anything, e.g. prioritized list, single paragraph, multiple paragraphs, multiple-page report\n",
    ")"
   ]
  },
  {
   "cell_type": "code",
   "execution_count": 93,
   "id": "5794fe9a-beda-49c9-93df-1ff611f890a0",
   "metadata": {},
   "outputs": [],
   "source": [
    "result = await search_engine.search(\"请帮我介绍下谷歌公司的核心产品。\")"
   ]
  },
  {
   "cell_type": "code",
   "execution_count": 94,
   "id": "33475319-a5b0-4672-9539-de5aad94a7dc",
   "metadata": {},
   "outputs": [
    {
     "data": {
      "text/plain": [
       "'谷歌公司以其多样化的核心产品在科技行业中占据了重要地位。以下是谷歌的一些主要核心产品：\\n\\n### 搜索引擎\\n\\n谷歌的搜索引擎是其最具代表性的核心产品之一。作为全球领先的搜索引擎，谷歌搜索引擎不仅在技术上处于前沿，还在用户体验和信息获取方面设立了行业标准。这一产品奠定了谷歌在科技行业的领导地位 [Data: Reports (2)]。\\n\\n### 移动操作系统\\n\\n谷歌开发的Android操作系统是全球使用最广泛的移动操作系统之一。Android的成功展示了谷歌在移动技术领域的影响力，并成为公司的一项核心产品。通过Android，谷歌在全球智能手机市场中占据了重要份额 [Data: Reports (2)]。\\n\\n### 人工智能\\n\\n谷歌在人工智能领域取得了显著进展，并将AI技术广泛应用于其产品和服务中。人工智能的集成不仅提升了用户体验，还增强了产品的功能性，使得AI成为谷歌产品的重要组成部分 [Data: Reports (2)]。\\n\\n### 量子计算\\n\\n谷歌在量子计算领域投入了大量资源进行研究和开发。量子计算代表了谷歌未来技术进步的一个重要方向，也是公司关注的核心产品之一。通过在这一前沿领域的投入，谷歌希望在未来的科技竞争中保持领先地位 [Data: Reports (2)]。\\n\\n综上所述，谷歌的核心产品涵盖了搜索引擎、移动操作系统、人工智能和量子计算等多个领域，这些产品不仅展示了谷歌的技术实力，也体现了其在全球科技行业中的重要影响力。'"
      ]
     },
     "execution_count": 94,
     "metadata": {},
     "output_type": "execute_result"
    }
   ],
   "source": [
    "result.response"
   ]
  },
  {
   "cell_type": "code",
   "execution_count": 95,
   "id": "dca5f529-33d0-40be-b6f7-6c71d21aa982",
   "metadata": {},
   "outputs": [
    {
     "data": {
      "text/html": [
       "<div>\n",
       "<style scoped>\n",
       "    .dataframe tbody tr th:only-of-type {\n",
       "        vertical-align: middle;\n",
       "    }\n",
       "\n",
       "    .dataframe tbody tr th {\n",
       "        vertical-align: top;\n",
       "    }\n",
       "\n",
       "    .dataframe thead th {\n",
       "        text-align: right;\n",
       "    }\n",
       "</style>\n",
       "<table border=\"1\" class=\"dataframe\">\n",
       "  <thead>\n",
       "    <tr style=\"text-align: right;\">\n",
       "      <th></th>\n",
       "      <th>id</th>\n",
       "      <th>title</th>\n",
       "      <th>occurrence weight</th>\n",
       "      <th>content</th>\n",
       "      <th>rank</th>\n",
       "    </tr>\n",
       "  </thead>\n",
       "  <tbody>\n",
       "    <tr>\n",
       "      <th>0</th>\n",
       "      <td>2</td>\n",
       "      <td>Google and Quantum Computing</td>\n",
       "      <td>1.0</td>\n",
       "      <td># Google and Quantum Computing\\n\\nThis communi...</td>\n",
       "      <td>9.0</td>\n",
       "    </tr>\n",
       "    <tr>\n",
       "      <th>1</th>\n",
       "      <td>1</td>\n",
       "      <td>Microsoft and Its Founders: Bill Gates and Pau...</td>\n",
       "      <td>1.0</td>\n",
       "      <td># Microsoft and Its Founders: Bill Gates and P...</td>\n",
       "      <td>9.0</td>\n",
       "    </tr>\n",
       "    <tr>\n",
       "      <th>2</th>\n",
       "      <td>0</td>\n",
       "      <td>Amazon and Its Technological Ecosystem</td>\n",
       "      <td>1.0</td>\n",
       "      <td># Amazon and Its Technological Ecosystem\\n\\nTh...</td>\n",
       "      <td>9.0</td>\n",
       "    </tr>\n",
       "  </tbody>\n",
       "</table>\n",
       "</div>"
      ],
      "text/plain": [
       "  id                                              title  occurrence weight  \\\n",
       "0  2                       Google and Quantum Computing                1.0   \n",
       "1  1  Microsoft and Its Founders: Bill Gates and Pau...                1.0   \n",
       "2  0             Amazon and Its Technological Ecosystem                1.0   \n",
       "\n",
       "                                             content  rank  \n",
       "0  # Google and Quantum Computing\\n\\nThis communi...   9.0  \n",
       "1  # Microsoft and Its Founders: Bill Gates and P...   9.0  \n",
       "2  # Amazon and Its Technological Ecosystem\\n\\nTh...   9.0  "
      ]
     },
     "execution_count": 95,
     "metadata": {},
     "output_type": "execute_result"
    }
   ],
   "source": [
    "# inspect the data used to build the context for the LLM responses\n",
    "result.context_data[\"reports\"]"
   ]
  },
  {
   "cell_type": "code",
   "execution_count": 96,
   "id": "c994278b-56e0-4df0-9b4a-bc2568d93fde",
   "metadata": {},
   "outputs": [
    {
     "name": "stdout",
     "output_type": "stream",
     "text": [
      "LLM calls: 2. Prompt tokens: 3549. Output tokens: 639.\n"
     ]
    }
   ],
   "source": [
    "# inspect number of LLM calls and tokens\n",
    "print(\n",
    "    f\"LLM calls: {result.llm_calls}. Prompt tokens: {result.prompt_tokens}. Output tokens: {result.output_tokens}.\"\n",
    ")"
   ]
  },
  {
   "cell_type": "code",
   "execution_count": 97,
   "id": "7e541b14-91ce-4703-a3d0-1998788c43e3",
   "metadata": {},
   "outputs": [
    {
     "name": "stdout",
     "output_type": "stream",
     "text": [
      "2025-07-17 15:20:28.0845 - WARNING - graphrag.query.structured_search.global_search.search - Warning: All map responses have score 0 (i.e., no relevant information found from the dataset), returning a canned 'I do not know' answer. You can try enabling `allow_general_knowledge` to encourage the LLM to incorporate relevant general knowledge, at the risk of increasing hallucinations.\n"
     ]
    }
   ],
   "source": [
    "unrel_result = await search_engine.search(\"你知道DeepSeek这个模型么？\")"
   ]
  },
  {
   "cell_type": "code",
   "execution_count": 98,
   "id": "12c45ea6-8c35-40aa-8fac-f7d4627e429f",
   "metadata": {},
   "outputs": [
    {
     "data": {
      "text/plain": [
       "'I am sorry but I am unable to answer this question given the provided data.'"
      ]
     },
     "execution_count": 98,
     "metadata": {},
     "output_type": "execute_result"
    }
   ],
   "source": [
    "unrel_result.response"
   ]
  },
  {
   "cell_type": "code",
   "execution_count": 106,
   "id": "27d38d3a-36cd-4b5f-8d14-0025f9d302b1",
   "metadata": {},
   "outputs": [],
   "source": [
    "search_engine = GlobalSearch(\n",
    "    model=global_chat_model,\n",
    "    context_builder=context_builder,\n",
    "    token_encoder=token_encoder,\n",
    "    max_data_tokens=12_000,  # change this based on the token limit you have on your model (if you are using a model with 8k limit, a good setting could be 5000)\n",
    "    map_llm_params=map_llm_params,\n",
    "    reduce_llm_params=reduce_llm_params,\n",
    "    allow_general_knowledge=True,  # set this to True will add instruction to encourage the LLM to incorporate general knowledge in the response, which may increase hallucinations, but could be useful in some use cases.\n",
    "    json_mode=True,  # set this to False if your LLM model does not support JSON mode.\n",
    "    context_builder_params=context_builder_params,\n",
    "    concurrent_coroutines=32,\n",
    "    response_type=\"multiple paragraphs\",  # free form text describing the response type and format, can be anything, e.g. prioritized list, single paragraph, multiple paragraphs, multiple-page report\n",
    ")"
   ]
  },
  {
   "cell_type": "code",
   "execution_count": 107,
   "id": "fcd797e8-8fc2-4fd7-a58f-d833ab6446d2",
   "metadata": {},
   "outputs": [],
   "source": [
    "unrel_result = await search_engine.search(\"你知道DeepSeek这个模型么？\")"
   ]
  },
  {
   "cell_type": "code",
   "execution_count": 108,
   "id": "307920d3-8c75-4ed0-9926-edf02a252609",
   "metadata": {},
   "outputs": [
    {
     "data": {
      "text/plain": [
       "'关于DeepSeek模型的信息，我的知识截至到2023年10月。在此日期之前，DeepSeek并不是一个广泛知名或被广泛讨论的模型。如果DeepSeek是一个新近发布的模型，或者是一个特定领域内的模型，可能在我的知识更新之后才出现。\\n\\n如果你有关于DeepSeek的具体问题或上下文，提供更多信息可能有助于我更好地帮助你。如果DeepSeek是一个特定领域的模型，建议查阅相关领域的最新文献或发布信息以获取更详细的资料。'"
      ]
     },
     "execution_count": 108,
     "metadata": {},
     "output_type": "execute_result"
    }
   ],
   "source": [
    "unrel_result.response"
   ]
  },
  {
   "cell_type": "markdown",
   "id": "0804582b-0092-4330-b992-0ce5322984cc",
   "metadata": {},
   "source": [
    "## 二、从零到一构建GraphRAG完整项目"
   ]
  },
  {
   "cell_type": "markdown",
   "id": "21d12cd6-83db-4661-854b-f160f6eb2713",
   "metadata": {},
   "source": [
    "&emsp;&emsp;`Microsoft GraphRAG` 的`Query` 一共实现了四个检索方法，分别是`local_search`、`global_search`、`drift` 和`basic`。其中`local_search` 和`global_search` 检索的底层原理我们在公开课中都有详细的介绍，其中`Local Search` 是基于实体的检索，`Global Search` 是基于社区的检索。"
   ]
  },
  {
   "cell_type": "markdown",
   "id": "06a742f1-7a4c-423e-9b69-53b10f47e3d9",
   "metadata": {},
   "source": [
    "&emsp;&emsp;在实现了`Index` 和`Query` 流程的`Python` 接口后，其实就可以基于一些`Python` 框架，实现`RESTful API` 接口的封装，从而提供后端的服务与前端进行对接。这里我们选择`FastAPI` 框架，来介绍如何实现`RESTful API` 接口的封装。"
   ]
  },
  {
   "cell_type": "markdown",
   "id": "4e593577-c976-4b37-b0f5-c6694e450656",
   "metadata": {},
   "source": [
    "&emsp;&emsp; 在`graphrag_course` 目录下已经实现了一个`app.py` 文件，该文件中已经实现了`Query` 流程的`Python` 的外部接口封装，如下所示："
   ]
  },
  {
   "cell_type": "markdown",
   "id": "58269cf9-57ce-490e-8cfd-38fbf634cf21",
   "metadata": {},
   "source": [
    "```python\n",
    "    # app.py  (放在 /root/graphrag_course/)\n",
    "    from pathlib import Path\n",
    "    from fastapi import FastAPI, HTTPException\n",
    "    from pydantic import BaseModel, Field\n",
    "    import graphrag.api as gr_api\n",
    "    from graphrag.config.load_config import load_config\n",
    "    from graphrag.storage.file_pipeline_storage import FilePipelineStorage\n",
    "    from graphrag.utils.storage import load_table_from_storage\n",
    "    import asyncio\n",
    "    import logging, traceback\n",
    "\n",
    "    ROOT = Path(\".\")                         # settings.yaml 所在目录\n",
    "    CFG  = load_config(ROOT)\n",
    "    STORE = FilePipelineStorage(ROOT / CFG.output.base_dir)\n",
    "\n",
    "    app = FastAPI(title=\"GraphRAG API\")\n",
    "\n",
    "    from graphrag.utils.storage import load_table_from_storage, storage_has_table  # ← 多了 storage_has_table\n",
    "\n",
    "    @app.on_event(\"startup\")\n",
    "    async def preload():\n",
    "        global ENTITIES, TEXT_UNITS, COMMUNITIES, COMMUNITY_REP, RELATIONSHIPS, COVARIATES\n",
    "\n",
    "        ENTITIES       = await load_table_from_storage(\"entities\", STORE)\n",
    "        TEXT_UNITS     = await load_table_from_storage(\"text_units\", STORE)\n",
    "        COMMUNITIES    = await load_table_from_storage(\"communities\", STORE)\n",
    "        COMMUNITY_REP  = await load_table_from_storage(\"community_reports\", STORE)\n",
    "        RELATIONSHIPS  = await load_table_from_storage(\"relationships\", STORE)\n",
    "\n",
    "        # <- 新写法：先判断再加载\n",
    "        if await storage_has_table(\"covariates\", STORE):\n",
    "            COVARIATES = await load_table_from_storage(\"covariates\", STORE)\n",
    "        else:\n",
    "            COVARIATES = None          # 或者 pd.DataFrame()\n",
    "\n",
    "    class QueryReq(BaseModel):\n",
    "        query: str = Field(..., description=\"用户问题\")\n",
    "        method: str = Field(\"local\", description=\"local | global | drift | basic\")\n",
    "\n",
    "    @app.post(\"/query\")\n",
    "    async def query(req: QueryReq):\n",
    "        try:\n",
    "            if req.method == \"local\":\n",
    "                resp, ctx = await gr_api.local_search(\n",
    "                    config=CFG,\n",
    "                    entities=ENTITIES,\n",
    "                    communities=COMMUNITIES,\n",
    "                    community_reports=COMMUNITY_REP,\n",
    "                    text_units=TEXT_UNITS,\n",
    "                    relationships=RELATIONSHIPS,\n",
    "                    covariates=COVARIATES,\n",
    "                    query=req.query,           # 用户问题\n",
    "                    community_level=1,         # 0=实体级, 1=社区级, 2=跨社区\n",
    "                    response_type=\"text\",      # 或 \"json\" / 自定义描述\n",
    "                )\n",
    "            elif req.method == \"global\":\n",
    "                resp, ctx = await gr_api.global_search(\n",
    "                    config=CFG,\n",
    "                    entities=ENTITIES,\n",
    "                    communities=COMMUNITIES,\n",
    "                    community_reports=COMMUNITY_REP,\n",
    "                    query=req.query,\n",
    "                )\n",
    "            else:\n",
    "                raise HTTPException(400, f\"不支持的 method={req.method}\")\n",
    "            return {\"answer\": resp, \"context\": str(ctx)}\n",
    "        except Exception as e:\n",
    "            logging.exception(\"GraphRAG 查询失败\")   # ← 打印完整回溯\n",
    "            raise HTTPException(500, str(e))\n",
    "```\n"
   ]
  },
  {
   "cell_type": "markdown",
   "id": "611aa555-f97f-486e-b963-89468300a752",
   "metadata": {},
   "source": [
    "&emsp;&emsp;存储位置如下：\n",
    "\n",
    "<div align=center><img src=\"https://muyu20241105.oss-cn-beijing.aliyuncs.com/images/202507081800464.png\" width=80%></div>"
   ]
  },
  {
   "cell_type": "markdown",
   "id": "1c892e32-36b9-4915-9d3e-ed31f2d5daaa",
   "metadata": {},
   "source": [
    "&emsp;&emsp;这里我们使用`FastAPI` 框架，实现一个`GraphRAG` 的`Query` 接口，并使用`Uvicorn` 启动服务。因此，需要先安装`requirements.txt` 中的依赖。执行如下代码：\n",
    "\n",
    "```bash\n",
    "    pip install -r requirements.txt\n",
    "```\n",
    "\n",
    "<div align=center><img src=\"https://muyu20241105.oss-cn-beijing.aliyuncs.com/images/202507081800463.png\" width=80%></div>"
   ]
  },
  {
   "cell_type": "markdown",
   "id": "68ffe5c8-3a46-4188-970f-89f309a1a562",
   "metadata": {},
   "source": [
    "&emsp;&emsp;安装完依赖后，便可启动服务。这个代码中只有一个地方需要大家根据自己的实际情况进行修改，即通过 `--host` 和 `--port` 参数指定服务启动的地址和端口。这里我的服务器地址是`192.168.110.131`，所以执行代码如下：\n",
    "\n",
    "```bash\n",
    "    uvicorn app:app --host 192.168.110.131 --port 8000\n",
    "```\n",
    "\n",
    "<div align=center><img src=\"https://muyu20241105.oss-cn-beijing.aliyuncs.com/images/202507081800465.png\" width=80%></div>"
   ]
  },
  {
   "cell_type": "markdown",
   "id": "a72ea09c-cc33-48bb-99e8-ec4e4c60640d",
   "metadata": {},
   "source": [
    "&emsp;&emsp;成功启动后，即可在浏览器中访问`http://192.168.110.131:8000/docs` 查看`GraphRAG` 的`Query` 接口文档。\n",
    "\n",
    "<div align=center><img src=\"https://muyu20241105.oss-cn-beijing.aliyuncs.com/images/202507081800466.png\" width=80%></div>\n",
    "\n",
    "&emsp;&emsp;这里我们使用`local` 方法进行检索测试，即基于本地知识库的检索。点击`query` 接口，在点击`Try it out` 按钮，输入`query` 参数，点击`Execute` 按钮，即可进行接口请求：\n",
    "\n",
    "<div align=center><img src=\"https://muyu20241105.oss-cn-beijing.aliyuncs.com/images/202507081806575.png\" width=80%></div>\n",
    "\n",
    "&emsp;&emsp;后端服务`GraphRAG`接收到请求会开始进行检索，检索完成后，会返回检索结果。\n",
    "\n",
    "<div align=center><img src=\"https://muyu20241105.oss-cn-beijing.aliyuncs.com/images/202507081806576.png\" width=80%></div>\n",
    "\n",
    "&emsp;&emsp;最后，在`Swagger` 界面中可以实时看到请求的响应状态，以及最终的回复。\n",
    "\n",
    "<div align=center><img src=\"https://muyu20241105.oss-cn-beijing.aliyuncs.com/images/202507081806577.png\" width=80%></div>\n",
    "\n",
    "&emsp;&emsp;至此，我们便完成了`GraphRAG` 的`Query` 接口的实现。"
   ]
  },
  {
   "cell_type": "markdown",
   "id": "3e064710-4122-4b12-8728-ded8ad656dfd",
   "metadata": {},
   "source": [
    "&emsp;&emsp;当然，我们可以在这个基础上进一步实现一个交互式的精美前端页面用来展示。首先，我们需要创建一个`index.html` 文件，用于展示前端页面，并存储`static` 目录下。结构如下：\n",
    "\n",
    "```html\n",
    "\n",
    "    graphrag_course/\n",
    "    │── app.py              #  FastAPI 后端服务\n",
    "    │── settings.yaml       # GraphRAG 配置\n",
    "    │── .env                # OPENAI_API_KEY 等\n",
    "    │── output/…            # graphrag index 生成的 Parquet\n",
    "    │── static/\n",
    "    │   ├── index.html      # 前段的展示页面"
   ]
  },
  {
   "cell_type": "markdown",
   "id": "65d469a3-a1bc-4a5f-b28c-09c56d18a1ee",
   "metadata": {},
   "source": [
    "&emsp;&emsp;然后，修改`app.py` 文件，添加一个路由加载`index.html` 文件，同时通过`/`重定向该`index.html` 文件。\n",
    "\n",
    "```python\n",
    "    # app.py  (放在 /root/graphrag_course/)\n",
    "    from pathlib import Path\n",
    "    from fastapi import FastAPI, HTTPException\n",
    "    from pydantic import BaseModel, Field\n",
    "    import graphrag.api as gr_api\n",
    "    from graphrag.config.load_config import load_config\n",
    "    from graphrag.storage.file_pipeline_storage import FilePipelineStorage\n",
    "    from graphrag.utils.storage import load_table_from_storage\n",
    "    import asyncio\n",
    "    import logging, traceback\n",
    "    from fastapi.responses import FileResponse\n",
    "    from fastapi.staticfiles import StaticFiles\n",
    "\n",
    "    ROOT = Path(\".\")                         # settings.yaml 所在目录\n",
    "    CFG  = load_config(ROOT)\n",
    "    STORE = FilePipelineStorage(ROOT / CFG.output.base_dir)\n",
    "\n",
    "    app = FastAPI(title=\"GraphRAG API\")\n",
    "\n",
    "    from graphrag.utils.storage import load_table_from_storage, storage_has_table  \n",
    "\n",
    "    @app.on_event(\"startup\")\n",
    "    async def preload():\n",
    "        global ENTITIES, TEXT_UNITS, COMMUNITIES, COMMUNITY_REP, RELATIONSHIPS, COVARIATES\n",
    "\n",
    "        ENTITIES       = await load_table_from_storage(\"entities\", STORE)\n",
    "        TEXT_UNITS     = await load_table_from_storage(\"text_units\", STORE)\n",
    "        COMMUNITIES    = await load_table_from_storage(\"communities\", STORE)\n",
    "        COMMUNITY_REP  = await load_table_from_storage(\"community_reports\", STORE)\n",
    "        RELATIONSHIPS  = await load_table_from_storage(\"relationships\", STORE)\n",
    "\n",
    "        # <- 新写法：先判断再加载\n",
    "        if await storage_has_table(\"covariates\", STORE):\n",
    "            COVARIATES = await load_table_from_storage(\"covariates\", STORE)\n",
    "        else:\n",
    "            COVARIATES = None          # 或者 pd.DataFrame()\n",
    "\n",
    "    class QueryReq(BaseModel):\n",
    "        query: str = Field(..., description=\"用户问题\")\n",
    "        method: str = Field(\"local\", description=\"local | global | drift | basic\")\n",
    "\n",
    "\n",
    "\n",
    "    BASE_DIR = Path(__file__).parent\n",
    "    app.mount(\"/static\", StaticFiles(directory=BASE_DIR / \"static\"), name=\"static\")   # 这里添加静态文件挂载\n",
    "\n",
    "\n",
    "    @app.get(\"/\", include_in_schema=False)\n",
    "    async def root():\n",
    "        # 直接返回文件\n",
    "        return FileResponse(BASE_DIR / \"static\" / \"index.html\", media_type=\"text/html\")   # 重定向\n",
    "\n",
    "\n",
    "    @app.post(\"/query\")\n",
    "    async def query(req: QueryReq):\n",
    "        try:\n",
    "            if req.method == \"local\":\n",
    "                resp, ctx = await gr_api.local_search(\n",
    "                    config=CFG,\n",
    "                    entities=ENTITIES,\n",
    "                    communities=COMMUNITIES,\n",
    "                    community_reports=COMMUNITY_REP,\n",
    "                    text_units=TEXT_UNITS,\n",
    "                    relationships=RELATIONSHIPS,\n",
    "                    covariates=COVARIATES,\n",
    "                    query=req.query,           # 用户问题\n",
    "                    community_level=1,         # 0=实体级, 1=社区级, 2=跨社区\n",
    "                    response_type=\"text\",      # 或 \"json\" / 自定义描述\n",
    "                )\n",
    "            elif req.method == \"global\":\n",
    "                resp, ctx = await gr_api.global_search(\n",
    "                    config=CFG,\n",
    "                    entities=ENTITIES,\n",
    "                    communities=COMMUNITIES,\n",
    "                    community_reports=COMMUNITY_REP,\n",
    "                    query=req.query,\n",
    "                )\n",
    "            else:\n",
    "                raise HTTPException(400, f\"不支持的 method={req.method}\")\n",
    "            return {\"answer\": resp, \"context\": str(ctx)}\n",
    "        except Exception as e:\n",
    "            logging.exception(\"GraphRAG 查询失败\")   # ← 打印完整回溯\n",
    "            raise HTTPException(500, str(e))\n"
   ]
  },
  {
   "cell_type": "markdown",
   "id": "d1d6d703-72f6-4d57-828c-f2f6bf463ed8",
   "metadata": {},
   "source": [
    "&emsp;&emsp;接下来正常启动`app.py` 文件，通过`ip + port` 即可访问。\n",
    "\n",
    "```bash\n",
    "    uvicorn app:app --host 192.168.110.131 --port 8000\n",
    "```\n",
    "\n",
    "<div align=center><img src=\"https://muyu20241105.oss-cn-beijing.aliyuncs.com/images/202507081847669.png\" width=80%></div>\n",
    "\n",
    "\n",
    "&emsp;&emsp;启动成功后，直接在浏览器中访问`http://192.168.110.131:8000/`，即可进入前端页面进行交互式问答：\n",
    "\n",
    "<div align=center><img src=\"https://muyu20241105.oss-cn-beijing.aliyuncs.com/images/202507081847670.png\" width=80%></div>"
   ]
  },
  {
   "cell_type": "code",
   "execution_count": 112,
   "id": "736a0c41-6881-418d-a620-03dbb359e1c8",
   "metadata": {},
   "outputs": [
    {
     "data": {
      "text/html": [
       "<video src=\"https://ml2022.oss-cn-hangzhou.aliyuncs.com/GraphRAG%E6%BC%94%E7%A4%BA%E8%A7%86%E9%A2%91.mp4\" controls  width=\"800\"  height=\"400\">\n",
       "      Your browser does not support the <code>video</code> element.\n",
       "    </video>"
      ],
      "text/plain": [
       "<IPython.core.display.Video object>"
      ]
     },
     "execution_count": 112,
     "metadata": {},
     "output_type": "execute_result"
    }
   ],
   "source": [
    "Video(\"https://ml2022.oss-cn-hangzhou.aliyuncs.com/GraphRAG%E6%BC%94%E7%A4%BA%E8%A7%86%E9%A2%91.mp4\", width=800, height=400)"
   ]
  },
  {
   "cell_type": "markdown",
   "id": "6032dc43-11fa-47c9-a5ab-4c00ffd2fcf1",
   "metadata": {},
   "source": [
    "<center><img src=\"https://ml2022.oss-cn-hangzhou.aliyuncs.com/img/image-20250717202122834.png\" alt=\"image-20250717202122834\" style=\"zoom:33%;\" />"
   ]
  },
  {
   "cell_type": "markdown",
   "id": "0970f7c0-c6a2-4e9e-90f4-221bbd727bcf",
   "metadata": {},
   "source": [
    "<center><center><img src=\"https://ml2022.oss-cn-hangzhou.aliyuncs.com/img/e5b5013521acbcafd29af716aa4a83e.png\" alt=\"e5b5013521acbcafd29af716aa4a83e\" style=\"zoom:50%;\" />"
   ]
  },
  {
   "cell_type": "markdown",
   "id": "efec2f61-e954-4df7-9e68-3f6d9ba398b2",
   "metadata": {},
   "source": [
    "## 三、借助LangChain搭建GraphRAG检索系统"
   ]
  },
  {
   "cell_type": "markdown",
   "id": "e778de7e-91a5-43a6-a95b-b4f3fbdbd71b",
   "metadata": {},
   "source": [
    "### 1. 基础环境搭建"
   ]
  },
  {
   "cell_type": "markdown",
   "id": "8558cd90-6fdc-429a-a5e1-32306bd36141",
   "metadata": {},
   "source": [
    "- 创建项目主目录：LangChain_GraphRAG/staff_handbook"
   ]
  },
  {
   "cell_type": "markdown",
   "id": "4218556f-6d24-4a09-b8e3-a632c825bc23",
   "metadata": {},
   "source": [
    "<center><img src=\"https://ml2022.oss-cn-hangzhou.aliyuncs.com/img/image-20250717172040180.png\" alt=\"image-20250717172040180\" style=\"zoom:33%;\" />"
   ]
  },
  {
   "cell_type": "markdown",
   "id": "ad72154a-f9f5-447b-8a10-0abced6b2844",
   "metadata": {},
   "source": [
    "- 数据集准备"
   ]
  },
  {
   "cell_type": "markdown",
   "id": "63d05829-dc6c-44e9-95ec-2ab81515a7bf",
   "metadata": {},
   "source": [
    "<center><img src=\"https://ml2022.oss-cn-hangzhou.aliyuncs.com/img/image-20250717172245424.png\" alt=\"image-20250717172245424\" style=\"zoom:33%;\" />"
   ]
  },
  {
   "cell_type": "markdown",
   "id": "04e27646-f715-4b4c-add0-f6a6bf4b66ab",
   "metadata": {},
   "source": [
    "<center><img src=\"https://ml2022.oss-cn-hangzhou.aliyuncs.com/img/image-20250717172349107.png\" alt=\"image-20250717172349107\" style=\"zoom: 33%;\" />"
   ]
  },
  {
   "cell_type": "markdown",
   "id": "46407522-4b59-427f-a577-6affdbcc6385",
   "metadata": {},
   "source": [
    "<center><img src=\"https://ml2022.oss-cn-hangzhou.aliyuncs.com/img/e5b5013521acbcafd29af716aa4a83e.png\" alt=\"e5b5013521acbcafd29af716aa4a83e\" style=\"zoom:50%;\" />"
   ]
  },
  {
   "cell_type": "markdown",
   "id": "cf8f5a2e-97a9-4488-9d09-3218e000aa43",
   "metadata": {},
   "source": [
    "- 初始化GraphRAG项目"
   ]
  },
  {
   "cell_type": "markdown",
   "id": "0f4bd08d-f390-4a50-b336-d446211da45d",
   "metadata": {},
   "source": [
    "```bash\n",
    "cd ./staff_handbook\n",
    "graphrag init --root ./\n",
    "```"
   ]
  },
  {
   "cell_type": "markdown",
   "id": "730ed973-c0a9-4c8c-861d-dda39a1c0e17",
   "metadata": {},
   "source": [
    "<center><img src=\"https://ml2022.oss-cn-hangzhou.aliyuncs.com/img/image-20250717173010776.png\" alt=\"image-20250717173010776\" style=\"zoom:33%;\" />"
   ]
  },
  {
   "cell_type": "markdown",
   "id": "48a4177f-b231-45ff-b471-e338bcdf3b89",
   "metadata": {},
   "source": [
    "- 上传数据集"
   ]
  },
  {
   "cell_type": "markdown",
   "id": "dc057795-4030-45d0-8b5d-a370c7f220bc",
   "metadata": {},
   "source": [
    "```bash\n",
    "mkdir input\n",
    "```"
   ]
  },
  {
   "cell_type": "markdown",
   "id": "fca8f3cb-4429-4eb9-8e56-7b6f328bc68c",
   "metadata": {},
   "source": [
    "<center><img src=\"https://ml2022.oss-cn-hangzhou.aliyuncs.com/img/image-20250717173213663.png\" alt=\"image-20250717173213663\" style=\"zoom:33%;\" />"
   ]
  },
  {
   "cell_type": "markdown",
   "id": "2338487f-f114-4941-bb99-d8c397f8a680",
   "metadata": {},
   "source": [
    "- 修改GraphRAG项目配置"
   ]
  },
  {
   "cell_type": "markdown",
   "id": "4e350e9f-606a-477a-a155-3b62baab096d",
   "metadata": {},
   "source": [
    "打开.env文件，填写OpenAI API-KEY或其他任意模型的API-KEY"
   ]
  },
  {
   "cell_type": "markdown",
   "id": "79e62b62-7337-4aa8-8e76-80e065e76b60",
   "metadata": {},
   "source": [
    "<center><img src=\"https://ml2022.oss-cn-hangzhou.aliyuncs.com/img/image-20241128160423633.png\" alt=\"image-20241128160423633\" style=\"zoom:33%;\" />"
   ]
  },
  {
   "cell_type": "markdown",
   "id": "110958e8-3ebc-424b-bc8f-dae54ef72e82",
   "metadata": {},
   "source": [
    "打开setting.yaml文件，填写模型名称和反向代理地址："
   ]
  },
  {
   "cell_type": "markdown",
   "id": "44f6d0d7-76f6-416f-98ae-bb860a72f520",
   "metadata": {},
   "source": [
    "<center><img src=\"https://ml2022.oss-cn-hangzhou.aliyuncs.com/img/image-20241128161721590.png\" alt=\"image-20241128161721590\" style=\"zoom:33%;\" />"
   ]
  },
  {
   "cell_type": "markdown",
   "id": "6112aa4a-9f4a-4162-916a-d3411dfb3e29",
   "metadata": {},
   "source": [
    "其中反向代理地址为`api_base: https://ai.devtool.tech/proxy/v1`"
   ]
  },
  {
   "cell_type": "markdown",
   "id": "22101d1d-a55d-4931-8f70-4d38db3bfa25",
   "metadata": {},
   "source": [
    "- 进行索引"
   ]
  },
  {
   "cell_type": "markdown",
   "id": "80c1dfc4-5451-45bc-9e10-e8a565a95aa8",
   "metadata": {},
   "source": [
    "```bash\n",
    "graphrag index --root ./\n",
    "```"
   ]
  },
  {
   "cell_type": "markdown",
   "id": "e12cc790-a6da-4def-a424-b00665e3947f",
   "metadata": {},
   "source": [
    "<center><img src=\"https://ml2022.oss-cn-hangzhou.aliyuncs.com/img/image-20250717173713620.png\" alt=\"image-20250717173713620\" style=\"zoom:33%;\" />"
   ]
  },
  {
   "cell_type": "markdown",
   "id": "5c84a507-e087-45fb-8396-bb0066ddc463",
   "metadata": {},
   "source": [
    "- 完整项目领取"
   ]
  },
  {
   "cell_type": "markdown",
   "id": "c0c3eabd-7a84-415c-87de-985d8224fb47",
   "metadata": {},
   "source": [
    "<center><img src=\"https://ml2022.oss-cn-hangzhou.aliyuncs.com/img/image-20250717174102290.png\" alt=\"image-20250717174102290\" style=\"zoom:33%;\" />"
   ]
  },
  {
   "cell_type": "markdown",
   "id": "e55a69e8-7406-4d03-baa2-fcb098b82f84",
   "metadata": {},
   "source": [
    "<center><img src=\"https://ml2022.oss-cn-hangzhou.aliyuncs.com/img/e5b5013521acbcafd29af716aa4a83e.png\" alt=\"e5b5013521acbcafd29af716aa4a83e\" style=\"zoom:50%;\" />"
   ]
  },
  {
   "cell_type": "markdown",
   "id": "f5525962-a8cf-4e14-923d-809c15aea910",
   "metadata": {},
   "source": [
    "### 2. 创建基于GraphRAG的知识库检索问答智能体"
   ]
  },
  {
   "cell_type": "markdown",
   "id": "fec07590-5f63-4e08-8395-397471f7606d",
   "metadata": {},
   "source": [
    "#### 2.1 LangChain&LangGraph环境准备"
   ]
  },
  {
   "cell_type": "markdown",
   "id": "78c843c0-6c1a-4e25-a595-f0f7543d59bf",
   "metadata": {},
   "source": [
    "<center><img src=\"https://ml2022.oss-cn-hangzhou.aliyuncs.com/img/f4fe0cfb6c7402a51a53d988d16b8c6.png\" alt=\"f4fe0cfb6c7402a51a53d988d16b8c6\" style=\"zoom:33%;\" />"
   ]
  },
  {
   "cell_type": "markdown",
   "id": "064db0b7-ab9e-4402-9263-d1a22bb4ac26",
   "metadata": {},
   "source": [
    "- 基础环境安装："
   ]
  },
  {
   "cell_type": "code",
   "execution_count": 2,
   "id": "7fd8af34-4149-4cd0-95f5-9f04fb3e1899",
   "metadata": {},
   "outputs": [],
   "source": [
    "# !pip install pydantic python-dotenv langgraph langchain-core langchain-deepseek langsmith langchain-openai langchain-text-splitters langchain-communityfaiss-cpu"
   ]
  },
  {
   "cell_type": "markdown",
   "id": "9f4fc125-69e3-4347-96ae-7f36e04b429d",
   "metadata": {},
   "source": [
    "- 设置环境变量："
   ]
  },
  {
   "cell_type": "markdown",
   "id": "aec76357-eee4-403d-9cf0-a677be68f0d0",
   "metadata": {},
   "source": [
    "<center><img src=\"https://ml2022.oss-cn-hangzhou.aliyuncs.com/img/image-20250717174544942.png\" alt=\"image-20250717174544942\" style=\"zoom:33%;\" />"
   ]
  },
  {
   "cell_type": "markdown",
   "id": "b4da3958-4b0a-41a2-aca9-08abb0c676ce",
   "metadata": {},
   "source": [
    "DEEPSEEK_API_KEY=sk-c****\n",
    "\n",
    "OPENAI_API_KEY=sk-pro-****\n",
    "\n",
    "LANGSMITH_TRACING=true\n",
    "\n",
    "LANGSMITH_API_KEY=lsv2_pt_b***\n",
    "\n",
    "LANGSMITH_PROJECT=langraph_studio_chatbot"
   ]
  },
  {
   "cell_type": "markdown",
   "id": "40a46fe8-7d01-406a-afe8-a7549db5c93f",
   "metadata": {},
   "source": [
    "#### 2.2 创建基于LangGraph的GraphRAG问答智能体"
   ]
  },
  {
   "cell_type": "markdown",
   "id": "5fdc05da-1e89-4ec2-9398-77315519fc0d",
   "metadata": {},
   "source": [
    "- 导入基础依赖"
   ]
  },
  {
   "cell_type": "code",
   "execution_count": 31,
   "id": "177c6b4b-5139-4ff5-98cb-3f71fdd4e121",
   "metadata": {},
   "outputs": [],
   "source": [
    "from __future__ import annotations\n",
    "import os\n",
    "import asyncio\n",
    "from pathlib import Path\n",
    "from typing import Literal, Dict, Any\n",
    "\n",
    "import pandas as pd\n",
    "from langchain.chat_models import init_chat_model\n",
    "from langchain.schema import BaseMessage\n",
    "from langchain.tools import BaseTool\n",
    "from langchain.tools import tool\n",
    "from langgraph.graph import MessagesState, StateGraph, START, END\n",
    "from langgraph.prebuilt import ToolNode, tools_condition\n",
    "from pydantic import BaseModel, Field"
   ]
  },
  {
   "cell_type": "markdown",
   "id": "270c215d-675a-4156-bdfe-67944ee2bc0a",
   "metadata": {},
   "source": [
    "- 设置Agent基座模型"
   ]
  },
  {
   "cell_type": "code",
   "execution_count": 7,
   "id": "d2da6787-bffc-4c17-938f-995f66c956ec",
   "metadata": {},
   "outputs": [],
   "source": [
    "MODEL_NAME = \"deepseek-chat\"\n",
    "model = init_chat_model(model=MODEL_NAME, model_provider=\"deepseek\", temperature=0)\n",
    "grader_model = init_chat_model(model=MODEL_NAME, model_provider=\"deepseek\", temperature=0)"
   ]
  },
  {
   "cell_type": "markdown",
   "id": "9bb200a2-a9c4-4d72-bbc2-12be5fccd4fc",
   "metadata": {},
   "source": [
    "- 导入GraphRAG配置"
   ]
  },
  {
   "cell_type": "code",
   "execution_count": 8,
   "id": "fddf4a37-7636-4e8b-97f4-09b94cdb0922",
   "metadata": {},
   "outputs": [],
   "source": [
    "PROJECT_DIRECTORY = Path(\"./staff_handbook\")\n",
    "\n",
    "from graphrag.config.load_config import load_config\n",
    "import graphrag.api as graphrag\n",
    "\n",
    "cfg = load_config(PROJECT_DIRECTORY)\n",
    "entities = pd.read_parquet(PROJECT_DIRECTORY / \"output/entities.parquet\")\n",
    "communities = pd.read_parquet(PROJECT_DIRECTORY / \"output/communities.parquet\")\n",
    "community_reports = pd.read_parquet(PROJECT_DIRECTORY / \"output/community_reports.parquet\")\n",
    "text_units = pd.read_parquet(PROJECT_DIRECTORY / \"output/text_units.parquet\")\n",
    "relationships = pd.read_parquet(PROJECT_DIRECTORY / \"output/relationships.parquet\")"
   ]
  },
  {
   "cell_type": "markdown",
   "id": "5d2281b6-c550-472f-9032-2121e88dca38",
   "metadata": {},
   "source": [
    "- 创建GraphRAG检索函数"
   ]
  },
  {
   "cell_type": "code",
   "execution_count": 32,
   "id": "23165484-7ada-4c24-b276-3d4e6f3ce0ef",
   "metadata": {},
   "outputs": [],
   "source": [
    "# ---------------------------------------------------------------------------\n",
    "# GraphRAG Retriever Tool ----------------------------------------------------\n",
    "# ---------------------------------------------------------------------------\n",
    "@tool\n",
    "async def graphrag_search(query: str) -> str:\n",
    "    \"\"\"\n",
    "    调用GraphRAG进行知识库检索，根据query检索相关有用内容。\n",
    "    \"\"\"\n",
    "    response, _ = await api.global_search(\n",
    "        config=cfg,\n",
    "        entities=entities,\n",
    "        communities=communities,\n",
    "        community_reports=community_reports,\n",
    "        community_level=2,\n",
    "        dynamic_community_selection=False,\n",
    "        response_type=\"Multiple Paragraphs\",\n",
    "        query=query,\n",
    "    )\n",
    "    return response"
   ]
  },
  {
   "cell_type": "markdown",
   "id": "ad7b5e12-aa16-474e-8e7e-69d35aa75c15",
   "metadata": {},
   "source": [
    "- 创建提示词"
   ]
  },
  {
   "cell_type": "code",
   "execution_count": 33,
   "id": "20602e0a-a737-4f4e-8667-b917d2821c36",
   "metadata": {},
   "outputs": [],
   "source": [
    "SYSTEM_INSTRUCTION = (\n",
    "    \"You are an HR‑policy assistant. Answer ONLY questions related to HR policies, benefits, leave, \"\n",
    "    \"performance evaluation, recruiting, onboarding, etc. If the user question is NOT related to HR, \"\n",
    "    \"reply exactly: '我不能回答与 HR 政策无关的问题。' You may call the provided tool \"\n",
    "    \"`graphrag_search` when additional context from the staff handbook is required.\"\n",
    ")"
   ]
  },
  {
   "cell_type": "markdown",
   "id": "7f85e066-143b-45de-a366-87ff1217e6a8",
   "metadata": {},
   "source": [
    "> 你是一名人力资源政策助手。仅回答与人力资源相关的问题，包括政策、福利、请假、绩效评估、招聘、入职等内容。\n",
    "如果用户的问题与 HR 无关，请严格回复：“我不能回答与 HR 政策无关的问题。”\n",
    "当需要额外参考员工手册内容时，你可以调用提供的工具 graphrag_search 进行检索。"
   ]
  },
  {
   "cell_type": "code",
   "execution_count": 15,
   "id": "4d74a5c2-d4e4-4e20-9bec-a22009142aa2",
   "metadata": {},
   "outputs": [],
   "source": [
    "GRADE_PROMPT = (\n",
    "    \"You are a grader assessing relevance of a retrieved document to a user question.\\n\"\n",
    "    \"Retrieved document:\\n{context}\\n\\nUser question: {question}\\nReturn 'yes' if relevant, otherwise 'no'.\"\n",
    ")"
   ]
  },
  {
   "cell_type": "markdown",
   "id": "d2dbe469-dd8c-4b3e-811a-7b3d8e27e2b2",
   "metadata": {},
   "source": [
    "> 你是一名评估员，负责判断某段检索到的文档是否与用户的问题相关。"
   ]
  },
  {
   "cell_type": "code",
   "execution_count": 16,
   "id": "b53f5d7c-31e0-4407-918a-d435bc11bd52",
   "metadata": {},
   "outputs": [],
   "source": [
    "REWRITE_PROMPT = (\n",
    "    \"Analyze the underlying intent of the question and rewrite it to improve recall.\\n\"\n",
    "    \"Original question:\\n{question}\\nImproved question:\"\n",
    ")"
   ]
  },
  {
   "cell_type": "markdown",
   "id": "9f7d1a92-6644-4364-a582-3158831c74f0",
   "metadata": {},
   "source": [
    "> 请你分析用户问题背后的潜在意图，并对其进行改写以提升召回率。"
   ]
  },
  {
   "cell_type": "code",
   "execution_count": 30,
   "id": "09de798f-98d5-4728-bfff-a33909251079",
   "metadata": {},
   "outputs": [],
   "source": [
    "ANSWER_PROMPT = (\n",
    "    \"You are an assistant for question‑answering tasks. \"\n",
    "    \"If unsure say you don't know.\\nQuestion: {question}\\nContext: {context}\"\n",
    ")"
   ]
  },
  {
   "cell_type": "markdown",
   "id": "d2aff44e-e349-482d-ab6a-6f0a1152a77f",
   "metadata": {},
   "source": [
    "> 你是一名问答助手。请结合提供的上下文信息，请以尽量详细准确的方式回答用户。"
   ]
  },
  {
   "cell_type": "markdown",
   "id": "1773d61d-85d5-40a6-96ce-5af7071e5d22",
   "metadata": {},
   "source": [
    "- 创建图节点"
   ]
  },
  {
   "cell_type": "code",
   "execution_count": 21,
   "id": "83ec9488-8d40-4067-98a7-d41b6e190399",
   "metadata": {},
   "outputs": [],
   "source": [
    "async def generate_query_or_respond(state: MessagesState):\n",
    "    \"\"\"LLM decides to answer directly or call GraphRAG tool.\"\"\"\n",
    "    response = await model.bind_tools([retriever_tool]).ainvoke(\n",
    "        [{\"role\": \"system\", \"content\": SYSTEM_INSTRUCTION}, *state[\"messages\"]]\n",
    "    )\n",
    "    return {\"messages\": [response]}\n",
    "\n",
    "\n",
    "class GradeDoc(BaseModel):\n",
    "    binary_score: str = Field(description=\"Relevance score 'yes' or 'no'.\")\n",
    "\n",
    "\n",
    "async def grade_documents(state: MessagesState) -> Literal[\"generate_answer\", \"rewrite_question\"]:\n",
    "    question = state[\"messages\"][0].content\n",
    "    ctx = state[\"messages\"][-1].content\n",
    "    prompt = GRADE_PROMPT.format(question=question, context=ctx)\n",
    "    res = await grader_model.with_structured_output(GradeDoc).ainvoke([\n",
    "        {\"role\": \"user\", \"content\": prompt}\n",
    "    ])\n",
    "    return \"generate_answer\" if res.binary_score.lower().startswith(\"y\") else \"rewrite_question\"\n",
    "\n",
    "\n",
    "async def rewrite_question(state: MessagesState):\n",
    "    question = state[\"messages\"][0].content\n",
    "    resp = await model.ainvoke([\n",
    "        {\"role\": \"user\", \"content\": REWRITE_PROMPT.format(question=question)}\n",
    "    ])\n",
    "    return {\"messages\": [{\"role\": \"user\", \"content\": resp.content}]}\n",
    "\n",
    "\n",
    "async def generate_answer(state: MessagesState):\n",
    "    question = state[\"messages\"][0].content\n",
    "    ctx = state[\"messages\"][-1].content\n",
    "    resp = await model.ainvoke([\n",
    "        {\"role\": \"user\", \"content\": ANSWER_PROMPT.format(question=question, context=ctx)}\n",
    "    ])\n",
    "    return {\"messages\": [resp]}"
   ]
  },
  {
   "cell_type": "code",
   "execution_count": 34,
   "id": "bf03e026-99a3-4d1e-beb6-c45f00c77cc3",
   "metadata": {},
   "outputs": [],
   "source": [
    "workflow = StateGraph(MessagesState)\n",
    "workflow.add_node(\"generate_query_or_respond\", generate_query_or_respond)\n",
    "workflow.add_node(\"retrieve\", ToolNode([graphrag_search]))\n",
    "workflow.add_node(\"rewrite_question\", rewrite_question)\n",
    "workflow.add_node(\"generate_answer\", generate_answer)\n",
    "\n",
    "workflow.add_edge(START, \"generate_query_or_respond\")\n",
    "workflow.add_conditional_edges(\"generate_query_or_respond\", tools_condition, {\"tools\": \"retrieve\", END: END})\n",
    "workflow.add_conditional_edges(\"retrieve\", grade_documents)\n",
    "workflow.add_edge(\"generate_answer\", END)\n",
    "workflow.add_edge(\"rewrite_question\", \"generate_query_or_respond\")\n",
    "\n",
    "graphrag_hr_bot = workflow.compile()"
   ]
  },
  {
   "cell_type": "markdown",
   "id": "43bc7e4a-3e1d-4125-ba99-103a2ef3d947",
   "metadata": {},
   "source": [
    "完整代码解释如下：\n",
    "\n",
    "##### 🔧 一、整体结构概览\n",
    "\n",
    "这个 HR 智能体包含以下五个关键模块：\n",
    "\n",
    "| 模块名称              | 功能描述                       |\n",
    "| ----------------- | -------------------------- |\n",
    "| GraphRAG 数据加载     | 加载 Parquet 格式的图数据，为全图搜索做准备 |\n",
    "| LLM 初始化           | 初始化主模型和评分模型                |\n",
    "| LangChain Tool 封装 | 将 GraphRAG 检索逻辑封装为异步可调用工具  |\n",
    "| 各节点函数定义           | 构建四个异步节点（提问/检索/评分/改写）      |\n",
    "| LangGraph 工作流编排   | 构建五节点图结构，连接状态转换逻辑          |\n",
    "\n",
    "\n",
    "##### 📁 二、模块详解\n",
    "\n",
    "\n",
    "###### 1️⃣ GraphRAG 数据加载部分\n",
    "\n",
    "```python\n",
    "PROJECT_DIRECTORY = Path(\"./staff_handbook\")\n",
    "cfg = load_config(PROJECT_DIRECTORY)\n",
    "entities = pd.read_parquet(PROJECT_DIRECTORY / \"output/entities.parquet\")\n",
    "...\n",
    "```\n",
    "\n",
    "* 用于加载 **GraphRAG 构建好的知识图谱数据**，这些 `.parquet` 文件通常由 GraphRAG 的索引构建流程生成。\n",
    "* 涉及的实体包括实体、社区、社区报告、文本单元和关系等。\n",
    "\n",
    "\n",
    "###### 2️⃣ LLM 初始化部分\n",
    "\n",
    "```python\n",
    "model = init_chat_model(model=MODEL_NAME, model_provider=\"deepseek\")\n",
    "grader_model = init_chat_model(...)\n",
    "```\n",
    "\n",
    "* 使用 `deepseek-chat` 初始化两个模型：\n",
    "\n",
    "  * `model`：主助手模型，用于回答问题、工具调用、改写问题；\n",
    "  * `grader_model`：评估模型，用于判断检索内容是否相关。\n",
    "\n",
    "###### 3️⃣ Tool 封装部分：异步 GraphRAG 检索工具\n",
    "\n",
    "```python\n",
    "@tool\n",
    "async def graphrag_search(query: str) -> str:\n",
    "    ...\n",
    "```\n",
    "\n",
    "* 通过 `@tool` 装饰器，将异步的 `graphrag_search()` 注册为 LangChain Tool，可供 LLM function calling 使用。\n",
    "* 内部调用 `api.global_search()` 实现多段文本召回。\n",
    "\n",
    "**✅ 亮点：** 这是 LangGraph 推荐方式之一，可以直接将异步函数暴露为工具，并被 LangGraph 的 ToolNode 所识别。\n",
    "\n",
    "###### 4️⃣ 四个 LangGraph 节点函数\n",
    "\n",
    "| 节点名称 | 逻辑说明 |\n",
    "| ---- | ---- |\n",
    "\n",
    "###### ✅ `generate_query_or_respond`\n",
    "\n",
    "```python\n",
    "response = await model.bind_tools([graphrag_search]).ainvoke(...)\n",
    "```\n",
    "\n",
    "* 利用 LLM 判断用户是否需要调用工具；\n",
    "* 如果需要，函数会返回一个 `tool_call` 对象，LangGraph 自动跳转到 ToolNode。\n",
    "\n",
    "##### ✅ `grade_documents`\n",
    "\n",
    "```python\n",
    "res = await grader_model.with_structured_output(GradeDoc).ainvoke(...)\n",
    "return \"generate_answer\" or \"rewrite_question\"\n",
    "```\n",
    "\n",
    "* LLM 根据 `context + question` 判断当前内容是否与问题相关；\n",
    "* 若相关 → 跳转生成答案，否则 → 重写问题。\n",
    "\n",
    "##### ✅ `rewrite_question`\n",
    "\n",
    "```python\n",
    "resp = await model.ainvoke([...])\n",
    "```\n",
    "\n",
    "* 针对召回失败的问题重新改写，提高召回率；\n",
    "* 改写后会再次返回“user”消息，从而回到 `generate_query_or_respond` 重新处理。\n",
    "\n",
    "##### ✅ `generate_answer`\n",
    "\n",
    "```python\n",
    "resp = await model.ainvoke([...])\n",
    "```\n",
    "\n",
    "* 使用 `context + question` 生成最终答案。\n",
    "\n",
    "##### 5️⃣ LangGraph 工作流编排\n",
    "\n",
    "```python\n",
    "workflow = StateGraph(MessagesState)\n",
    "workflow.add_node(...)\n",
    "workflow.add_edge(...)\n",
    "workflow.compile()\n",
    "```\n",
    "\n",
    "* **节点添加：** 添加四个节点 + 一个 ToolNode\n",
    "* **路径控制：**\n",
    "\n",
    "  * 首节点：`START → generate_query_or_respond`\n",
    "  * 若调用工具：自动转到 `ToolNode`\n",
    "  * 工具调用完 → `grade_documents` → 分流判断\n",
    "  * 若不调用工具：直接结束\n",
    "* **循环机制：** `rewrite_question → generate_query_or_respond` 实现自适应闭环\n",
    "\n",
    "\n",
    "#### ✅ 最终效果\n",
    "\n",
    "一个完整的 HR 智能体运行流程如下：\n",
    "\n",
    "```\n",
    "User ➝ generate_query_or_respond ──▶ Tool (graphrag_search)\n",
    "                                    │\n",
    "                             grade_documents\n",
    "                              /          \\\n",
    "          \"yes\" ➝ generate_answer        rewrite_question ──▶ repeat...\n",
    "```\n",
    "\n",
    "* 支持 **自动调用工具** 进行文档检索；\n",
    "* 若文档不相关，自动 **改写问题再次尝试**；\n",
    "* 若相关则生成高质量答案；\n",
    "* 支持 **多轮闭环优化**。"
   ]
  },
  {
   "cell_type": "markdown",
   "id": "3725815e-6984-46b0-92b6-3fd0390960a1",
   "metadata": {},
   "source": [
    "<center><img src=\"https://ml2022.oss-cn-hangzhou.aliyuncs.com/img/image-20250717194959178.png\" alt=\"image-20250717194959178\" style=\"zoom:33%;\" />"
   ]
  },
  {
   "cell_type": "markdown",
   "id": "ee288aec-f3cd-49ef-96c6-5357568f83ea",
   "metadata": {},
   "source": [
    "<center><center><img src=\"https://ml2022.oss-cn-hangzhou.aliyuncs.com/img/e5b5013521acbcafd29af716aa4a83e.png\" alt=\"e5b5013521acbcafd29af716aa4a83e\" style=\"zoom:50%;\" />"
   ]
  },
  {
   "cell_type": "markdown",
   "id": "333de3be-6d6a-43e3-b05f-43e128322a4e",
   "metadata": {},
   "source": [
    "- 写入代码脚本"
   ]
  },
  {
   "cell_type": "markdown",
   "id": "4fd3b0ba-9dd7-4582-9ecf-78972c7a7dfa",
   "metadata": {},
   "source": [
    "<center><img src=\"https://ml2022.oss-cn-hangzhou.aliyuncs.com/img/image-20250717193252797.png\" alt=\"image-20250717193252797\" style=\"zoom:33%;\" />"
   ]
  },
  {
   "cell_type": "markdown",
   "id": "2e8e77a7-67a3-42c8-b588-40a8a8980f88",
   "metadata": {},
   "source": [
    "&emsp;&emsp;在项目主目录下，新建一个`langgraph.json`文件，在该`json`文件中配置项目信息，遵循规范如下所示：\n",
    "\n",
    "- 必须包含 `dependencies` 和 `graphs` 字段\n",
    "- `graphs` 字段格式：\"图名\": \"文件路径:变量名\"\n",
    "- 配置文件必须放在与Python文件同级或更高级的目录\n",
    "\n",
    "&emsp;&emsp;注意: 项目文件的名称必须为`langgraph.json`。如下所示："
   ]
  },
  {
   "cell_type": "markdown",
   "id": "da32a946-0884-43b1-9c8c-0b47109718f6",
   "metadata": {},
   "source": [
    "<center>\n",
    "\n",
    "<img src=\"https://ml2022.oss-cn-hangzhou.aliyuncs.com/img/image-20250717193438645.png\" alt=\"image-20250717193438645\" style=\"zoom:33%;\" />"
   ]
  },
  {
   "cell_type": "markdown",
   "id": "e22cead4-393b-4044-ae20-d34a3ccc2470",
   "metadata": {},
   "source": [
    "```json\n",
    "{\n",
    "    \"dependencies\": [\"./\"],\n",
    "    \"graphs\": {\n",
    "        \"hr_bot\": \"./graphrag_hr_bot.py:graphrag_hr_bot\"\n",
    "    },\n",
    "    \"env\": \".env\"\n",
    "}\n",
    "```"
   ]
  },
  {
   "cell_type": "markdown",
   "id": "1a6f85c5-006e-45ef-9bbb-cb037d38d649",
   "metadata": {},
   "source": [
    "- 安装langgraph cli开发工具"
   ]
  },
  {
   "cell_type": "markdown",
   "id": "ca1c0235-dacb-4a41-b28a-31fa0e8a5710",
   "metadata": {},
   "source": [
    "&emsp;&emsp;然后，安装`langgraph-cli`依赖，执行如下代码：\n",
    "\n",
    "```bash\n",
    "    pip install -U \"langgraph-cli[inmem]\"\n",
    "```"
   ]
  },
  {
   "cell_type": "markdown",
   "id": "42509ac7-9bbb-41af-9025-dd45e351cc97",
   "metadata": {},
   "source": [
    "- 编写项目依赖文件"
   ]
  },
  {
   "cell_type": "markdown",
   "id": "298b246e-e9ae-4684-8b13-ff72e870f7b5",
   "metadata": {},
   "source": [
    "&emsp;&emsp;在项目文件夹中，新建一个`requirements.txt`文件，里面需要填写在运行该项目时需要安装的依赖项，如下所示："
   ]
  },
  {
   "cell_type": "markdown",
   "id": "2d3e9d6e-690f-4f55-a767-ef63e2ecbcad",
   "metadata": {},
   "source": [
    "<center><img src=\"https://ml2022.oss-cn-hangzhou.aliyuncs.com/img/image-20250717193616711.png\" alt=\"image-20250717193616711\" style=\"zoom:33%;\" />"
   ]
  },
  {
   "cell_type": "markdown",
   "id": "1f803571-a59c-4267-b99a-9814d20368e2",
   "metadata": {},
   "source": [
    "```bash\n",
    "pydantic\n",
    "python-dotenv\n",
    "langgraph\n",
    "langchain-core\n",
    "langchain-deepseek\n",
    "langchain-tavily\n",
    "langsmith\n",
    "langchain-openai\n",
    "langchain-text-splitters\n",
    "langchain-community\n",
    "faiss-cpu\n",
    "```"
   ]
  },
  {
   "cell_type": "markdown",
   "id": "39d4da94-b04b-41dc-85f7-7d9f7454959d",
   "metadata": {},
   "source": [
    "- 启动项目"
   ]
  },
  {
   "cell_type": "markdown",
   "id": "69f77937-6481-4abc-8ac9-610358125566",
   "metadata": {},
   "source": [
    "```bash\n",
    "langgraph dev --allow-blocking\n",
    "```"
   ]
  },
  {
   "cell_type": "markdown",
   "id": "b2b3ac8a-c7bb-4afa-bf13-5b18fdee4bf7",
   "metadata": {},
   "source": [
    "<center><img src=\"https://ml2022.oss-cn-hangzhou.aliyuncs.com/img/image-20250717193704011.png\" alt=\"image-20250717193704011\" style=\"zoom:33%;\" />"
   ]
  },
  {
   "cell_type": "markdown",
   "id": "d5648681-9623-484b-97b2-733df8f5dbe1",
   "metadata": {},
   "source": [
    "进入：https://smith.langchain.com/studio/?baseUrl=http://127.0.0.1:2024 ，即可查看当前问答系统完整架构："
   ]
  },
  {
   "cell_type": "markdown",
   "id": "61f74779-181b-4945-82a1-27d10afbe4c7",
   "metadata": {},
   "source": [
    "<center><img src=\"https://ml2022.oss-cn-hangzhou.aliyuncs.com/img/image-20250717193812926.png\" alt=\"image-20250717193812926\" style=\"zoom:33%;\" />"
   ]
  },
  {
   "cell_type": "markdown",
   "id": "d11f4aa9-94bc-4986-b242-2eb2d1f9e277",
   "metadata": {},
   "source": [
    "然后即可开始进行提问测试："
   ]
  },
  {
   "cell_type": "markdown",
   "id": "66073a8e-3d41-46b4-91b4-a36b12f1ab38",
   "metadata": {},
   "source": [
    "<center><img src=\"https://ml2022.oss-cn-hangzhou.aliyuncs.com/img/c96524b025d7dccdaf35f6af5c16a6c.png\" alt=\"c96524b025d7dccdaf35f6af5c16a6c\" style=\"zoom:50%;\" />"
   ]
  },
  {
   "cell_type": "markdown",
   "id": "98cf11ac-f5a5-4855-bb70-c815f98fb9cc",
   "metadata": {},
   "source": [
    "<center><img src=\"https://ml2022.oss-cn-hangzhou.aliyuncs.com/img/image-20250717194959178.png\" alt=\"image-20250717194959178\" style=\"zoom:33%;\" />"
   ]
  },
  {
   "cell_type": "markdown",
   "id": "5490b33c-2ba3-4821-884e-2eeeba22368a",
   "metadata": {},
   "source": [
    "<center><center><img src=\"https://ml2022.oss-cn-hangzhou.aliyuncs.com/img/e5b5013521acbcafd29af716aa4a83e.png\" alt=\"e5b5013521acbcafd29af716aa4a83e\" style=\"zoom:50%;\" />"
   ]
  },
  {
   "cell_type": "markdown",
   "id": "ea3fba2a-be5b-43e2-bdea-6e10a270f23d",
   "metadata": {},
   "source": [
    "#### 2.3 接入Agent Chat UI前端"
   ]
  },
  {
   "cell_type": "markdown",
   "id": "c6ea708f-a2b5-4f77-97e0-d68fe29b0aab",
   "metadata": {},
   "source": [
    "- 项目主页：https://github.com/langchain-ai/agent-chat-ui"
   ]
  },
  {
   "cell_type": "markdown",
   "id": "8950542e-8156-4996-88d9-fed821baf5ca",
   "metadata": {},
   "source": [
    "<center><img src=\"https://ml2022.oss-cn-hangzhou.aliyuncs.com/img/image-20250626195531310.png\" alt=\"image-20250626195531310\" style=\"zoom:33%;\" />"
   ]
  },
  {
   "cell_type": "markdown",
   "id": "0b3c1b42-5435-4b3b-b189-760fbab58c63",
   "metadata": {},
   "source": [
    "```bash\n",
    "\n",
    "# git config --global http.proxy http://127.0.0.1:10080\n",
    "# git config --global https.proxy http://127.0.0.1:10080\n",
    "\n",
    "git clone https://github.com/langchain-ai/agent-chat-ui.git\n",
    "\n",
    "cd agent-chat-ui\n",
    "```"
   ]
  },
  {
   "cell_type": "markdown",
   "id": "269f30ea-b6f5-4c46-bc17-9d894304b277",
   "metadata": {},
   "source": [
    "<center><img src=\"https://ml2022.oss-cn-hangzhou.aliyuncs.com/img/202506271632108.png\" alt=\"image-20250627163204939\" style=\"zoom:50%;\" />"
   ]
  },
  {
   "cell_type": "markdown",
   "id": "a6b7026b-14dd-4ad6-a344-2bdc295c8612",
   "metadata": {},
   "source": [
    "```bash\n",
    "npm install -g pnpm\n",
    "pnpm -v\n",
    "```"
   ]
  },
  {
   "cell_type": "markdown",
   "id": "e18ecbd5-cd7f-430e-ab6a-88e318ecd51d",
   "metadata": {},
   "source": [
    "<center><img src=\"https://ml2022.oss-cn-hangzhou.aliyuncs.com/img/image-20250626200108284.png\" alt=\"image-20250626200108284\" style=\"zoom:50%;\" />"
   ]
  },
  {
   "cell_type": "markdown",
   "id": "afa9538e-bf0f-4d18-94d6-7c0209c2f616",
   "metadata": {},
   "source": [
    "```bash\n",
    "pnpm install\n",
    "```"
   ]
  },
  {
   "cell_type": "markdown",
   "id": "cbd112dc-ff13-4445-ae61-1b964811e283",
   "metadata": {},
   "source": [
    "<center><img src=\"https://ml2022.oss-cn-hangzhou.aliyuncs.com/img/202506271635853.png\" alt=\"image-20250627163550759\" style=\"zoom:50%;\" />"
   ]
  },
  {
   "cell_type": "markdown",
   "id": "fe2d4a43-ea02-4bee-98cf-35a6271df91a",
   "metadata": {},
   "source": [
    "```bash\n",
    "pnpm dev\n",
    "```"
   ]
  },
  {
   "cell_type": "markdown",
   "id": "e7335196-e243-4ce9-a872-1aaa17e862d2",
   "metadata": {},
   "source": [
    "<center><img src=\"https://ml2022.oss-cn-hangzhou.aliyuncs.com/img/image-20250717194734698.png\" alt=\"image-20250717194734698\" style=\"zoom:33%;\" />"
   ]
  },
  {
   "cell_type": "markdown",
   "id": "cd57190b-08ef-4c7d-ba5e-417373c1de89",
   "metadata": {},
   "source": [
    "然后在http://localhost:3000/ 即可开启对话"
   ]
  },
  {
   "cell_type": "markdown",
   "id": "466948d2-a46e-4359-af2a-3d428d95b821",
   "metadata": {},
   "source": [
    "<center><img src=\"https://ml2022.oss-cn-hangzhou.aliyuncs.com/img/image-20250717194436566.png\" alt=\"image-20250717194436566\" style=\"zoom:50%;\" />"
   ]
  },
  {
   "cell_type": "markdown",
   "id": "2037dafa-d350-4e7c-8885-583f5e3330be",
   "metadata": {},
   "source": [
    "<center><img src=\"https://ml2022.oss-cn-hangzhou.aliyuncs.com/img/image-20250717194704168.png\" alt=\"image-20250717194704168\" style=\"zoom:50%;\" />"
   ]
  },
  {
   "cell_type": "markdown",
   "id": "4feb509c-9e30-4194-8b93-7a2b7a34fe4a",
   "metadata": {},
   "source": [
    "<center><img src=\"https://ml2022.oss-cn-hangzhou.aliyuncs.com/img/image-20250717194844734.png\" alt=\"image-20250717194844734\" style=\"zoom:33%;\" />"
   ]
  },
  {
   "cell_type": "markdown",
   "id": "c5448545-6821-46ad-9198-112f39d1f733",
   "metadata": {},
   "source": [
    "<center><img src=\"https://ml2022.oss-cn-hangzhou.aliyuncs.com/img/image-20250717194959178.png\" alt=\"image-20250717194959178\" style=\"zoom:33%;\" />"
   ]
  },
  {
   "cell_type": "markdown",
   "id": "23bad9e2-8e58-4dd0-a685-07cecdcb42cb",
   "metadata": {},
   "source": [
    "<center><center><img src=\"https://ml2022.oss-cn-hangzhou.aliyuncs.com/img/e5b5013521acbcafd29af716aa4a83e.png\" alt=\"e5b5013521acbcafd29af716aa4a83e\" style=\"zoom:50%;\" />"
   ]
  },
  {
   "cell_type": "markdown",
   "id": "cd16a925-ab8f-45ed-a6ae-0f95e2b4103c",
   "metadata": {},
   "source": [
    "### 3. 将GraphRAG服务封装为MCP服务器"
   ]
  },
  {
   "cell_type": "markdown",
   "id": "1db95913-b0a0-4dbc-96d8-379d52b45eb0",
   "metadata": {},
   "source": [
    "<center><img src=\"https://ml2022.oss-cn-hangzhou.aliyuncs.com/img/image-20250717195551943.png\" alt=\"image-20250717195551943\" style=\"zoom:33%;\" />"
   ]
  },
  {
   "cell_type": "markdown",
   "id": "040bc3ea-ed18-42d9-9502-a269034107ed",
   "metadata": {},
   "source": [
    "<center><img src=\"https://ml2022.oss-cn-hangzhou.aliyuncs.com/img/image-20250717195621402.png\" alt=\"image-20250717195621402\" style=\"zoom:33%;\" />"
   ]
  },
  {
   "cell_type": "markdown",
   "id": "86c212fc-fa61-4266-a1dd-d93760c9594d",
   "metadata": {},
   "source": [
    "<center><img src=\"https://ml2022.oss-cn-hangzhou.aliyuncs.com/img/image-20250717200637136.png\" alt=\"image-20250717200637136\" style=\"zoom:33%;\" />"
   ]
  },
  {
   "cell_type": "markdown",
   "id": "56595db5-1b87-4d15-a609-4ab19f7ec8c0",
   "metadata": {},
   "source": [
    "<center><img src=\"https://ml2022.oss-cn-hangzhou.aliyuncs.com/img/image-20250717200652028.png\" alt=\"image-20250717200652028\" style=\"zoom:33%;\" />"
   ]
  },
  {
   "cell_type": "markdown",
   "id": "d4b1a5be-11eb-4a3f-a5d2-e64406672564",
   "metadata": {},
   "source": [
    "<center><img src=\"https://ml2022.oss-cn-hangzhou.aliyuncs.com/img/image-20250717200730070.png\" alt=\"image-20250717200730070\" style=\"zoom:33%;\" />"
   ]
  },
  {
   "cell_type": "markdown",
   "id": "1a6ffb56-ea6d-4cf6-ac47-05e623fbe61f",
   "metadata": {},
   "source": [
    "<center><img src=\"https://ml2022.oss-cn-hangzhou.aliyuncs.com/img/image-20250717200813319.png\" alt=\"image-20250717200813319\" style=\"zoom:33%;\" />"
   ]
  },
  {
   "cell_type": "markdown",
   "id": "ce3c2365-4377-4131-a6d6-c2056ad251da",
   "metadata": {},
   "source": [
    "<center><img src=\"https://ml2022.oss-cn-hangzhou.aliyuncs.com/img/image-20250717200834174.png\" alt=\"image-20250717200834174\" style=\"zoom:33%;\" />"
   ]
  }
 ],
 "metadata": {
  "kernelspec": {
   "display_name": "Python graphRAG",
   "language": "python",
   "name": "graphrag"
  },
  "language_info": {
   "codemirror_mode": {
    "name": "ipython",
    "version": 3
   },
   "file_extension": ".py",
   "mimetype": "text/x-python",
   "name": "python",
   "nbconvert_exporter": "python",
   "pygments_lexer": "ipython3",
   "version": "3.11.13"
  }
 },
 "nbformat": 4,
 "nbformat_minor": 5
}
