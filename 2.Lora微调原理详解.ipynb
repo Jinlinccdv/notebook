{
 "cells": [
  {
   "cell_type": "markdown",
   "id": "fe98a9e5-4646-47d0-9445-19bf22ef3a54",
   "metadata": {},
   "source": [
    "# <center>Ch2 Lora微调原理详解 </center>"
   ]
  },
  {
   "cell_type": "markdown",
   "id": "74361e71",
   "metadata": {},
   "source": [
    "# 1.为什么需要Lora"
   ]
  },
  {
   "cell_type": "markdown",
   "id": "9e185a65",
   "metadata": {},
   "source": [
    "1. 全参微调的难点：\n",
    "- 大型语言模型的微调成本高昂：完整微调需要存储和更新所有模型参数的副本\n",
    "- 部署困难：每个任务都需要存储完整的模型副本,占用大量存储空间\n",
    "- 计算资源要求高：完整微调需要大量计算资源和GPU内存"
   ]
  },
  {
   "cell_type": "markdown",
   "id": "471754f3",
   "metadata": {},
   "source": [
    "2. LoRA的核心思想：\n",
    "- 假设模型权重的更新可以通过低秩分解来表示\n",
    "- 不直接更新原始权重矩阵,而是训练两个更小的矩阵(低秩分解)\n",
    "- 通过这种方式大大减少了需要训练和存储的参数数量"
   ]
  },
  {
   "cell_type": "markdown",
   "id": "9e86b303",
   "metadata": {},
   "source": [
    "3. LoRA的优势：\n",
    "- 显著减少可训练参数数量\n",
    "- 降低GPU内存需求\n",
    "- 加快训练速度\n",
    "- 多个任务可以共享基础模型,只需存储小型任务特定适配器\n",
    "- 训练稳定性好,性能接近完整微调"
   ]
  },
  {
   "cell_type": "markdown",
   "id": "4eed09fe",
   "metadata": {},
   "source": [
    "假设一个在线客服场景:\n",
    "- 公司有一个基础的大语言模型用于客服对话需要为不同产品线(如手机、电脑、家电等)定制专门的客服机器人，传统方法需要为每个产品线存储一个完整模型副本\n",
    "- 使用LoRA后:\n",
    "  - 只需维护一个基础模型\n",
    "  - 为每个产品线训练小型LoRA适配器\n",
    "  - 运行时动态加载对应产品线的适配器\n",
    "  - 大大节省存储空间和训练成本\n",
    "  - 方便快速增加新产品线的支持\n",
    "\n",
    "这样不仅降低了部署和维护成本,还提高了模型更新和扩展的灵活性。"
   ]
  },
  {
   "cell_type": "markdown",
   "id": "427f1a24",
   "metadata": {},
   "source": [
    "# 2.Lora微调方法讲解"
   ]
  },
  {
   "cell_type": "markdown",
   "id": "e6bbf7f9",
   "metadata": {},
   "source": [
    "## 2.1 Lora的介绍"
   ]
  },
  {
   "cell_type": "markdown",
   "id": "4af9818e",
   "metadata": {},
   "source": [
    "&emsp;&emsp;LoRA来源于微软在2021年发布的Paper：《LORA: LOW-RANK ADAPTATION OF LARGE LANGUAGE MODELS》 低秩矩阵微调<br>\n",
    "&emsp;&emsp;地址：https://arxiv.org/pdf/2106.09685.pdf ， 同时也在Github上开源了LoRA的技术实现过程，其Github地址：https://github.com/microsoft/LoRA 。\n",
    "```json\n",
    "    适配器微调（Adapter Tuning）是在模型中引入了计算模块，本质还是要在模型本身增加层次，会让模型推理走更长的路径。   \n",
    "    LORA的核心思想基准模型不进行变化，额外引入一部分参数来做专属内容处理，同时加上原有模型的推理能力，这部分新增加的的内容就是要训练出来的参数矩阵。\n",
    "```\n",
    "新的矩阵 $ h $ 可以表示为：\n",
    "\n",
    "$ h = W_0 x + \\Delta W x $\n",
    "\n",
    "其中：\n",
    "- $ W_0 $ 是原始的权重矩阵。\n",
    "- $ x $ 是输入向量。\n",
    "- $ \\Delta W $ 是新增的权重矩阵，用于增加训练的特色。\n",
    "\n",
    " $ x $ 经过原有矩阵计算和现在新增$ \\Delta W $ 是矩阵计算后权重给出一个期望的值。\n"
   ]
  },
  {
   "cell_type": "markdown",
   "id": "61d9debe",
   "metadata": {},
   "source": [
    "<div align=center><img src=\"https://typora-photo1220.oss-cn-beijing.aliyuncs.com/DataAnalysis/muyan/image-20241110165413671.png\" width=90%></div>"
   ]
  },
  {
   "cell_type": "markdown",
   "id": "33131936",
   "metadata": {},
   "source": [
    "&emsp;&emsp;新增这部分参数矩阵我期望不要太大，不然和全参数微调没什么区别了，我想参数量小一点，节约点资源。不然就成了全参数微调了！\n",
    "线性代数上讲一个参数矩阵可以由两个矩阵相乘得出来，同理$ \\Delta W $ 就可以将本身的矩阵拆成矩阵A和矩阵B，A*B=$ \\Delta W $ <br>\n",
    "原有算法 $ h = W_0 x + \\Delta W x $ 变成 $h = W_0x + \\Delta Wx = W_0x + BAx$    ( $ x $ 做为向量入参不需要改变只需要跟随即可)<br>"
   ]
  },
  {
   "cell_type": "markdown",
   "id": "1752b2f4",
   "metadata": {},
   "source": [
    "这里引入了一个概念\n",
    "> 本征维度（Intrinsic Dimension）：是指数据或空间中所需的最小维度，以便充分描述其中的结构或特征。换句话说，尽管数据可能存在于高维空间中，但其实际所包含的信息可能集中在一个更低维度的子空间内，本征维度就是描述这个低维子空间的维度。"
   ]
  },
  {
   "cell_type": "markdown",
   "id": "710dbd94",
   "metadata": {},
   "source": [
    "1. LoRA与本征维度的关系：\n",
    "- LoRA的核心假设是神经网络的权重更新矩阵通常具有较低的\"本征秩\"\n",
    "- 这意味着虽然模型权重是高维的,但实际的任务相关更新可能位于一个低维子空间中\n",
    "- LoRA正是利用了这一特性,使用低秩分解来捕获权重更新\n"
   ]
  },
  {
   "cell_type": "markdown",
   "id": "cfe6b9d2",
   "metadata": {},
   "source": [
    "\n",
    "<div align=center>\n",
    "        <td><img src=\"https://typora-photo1220.oss-cn-beijing.aliyuncs.com/DataAnalysis/muyan/image-20241117150602234.png\" width=20%></td>\n",
    "        <td><img src=\"https://typora-photo1220.oss-cn-beijing.aliyuncs.com/DataAnalysis/muyan/image-20241117150516158.png\" width=20%></td>\n",
    "</div>"
   ]
  },
  {
   "cell_type": "markdown",
   "id": "c54b4bed",
   "metadata": {},
   "source": [
    "```json\n",
    "    例如一张苹果图片，展示很精细，有光线，斑点、叶子脉络、细微的色差等等。\n",
    "    但是我想要的就是能让我看出苹果才是最关键的点，所以上边的描述是没用的，仅仅用右边最普通的像素点展示就可以了。这个像素极低的几个点才是我最关键的信息。\n",
    "```"
   ]
  },
  {
   "cell_type": "markdown",
   "id": "4dc555fc",
   "metadata": {},
   "source": [
    "&emsp;&emsp;同理，引入到矩阵中如果将$ \\Delta W $ 拆成矩阵A和矩阵B，这两个矩阵的秩与原矩阵相同那就没有意义了，因为想要训练某一个方向专属技能就代表其他技能的参数在想要输出的方向上没那么重要，是不是提炼最相关的那部分业务数据相对更重要。<br>\n",
    "就会有个关键信息，低秩矩阵，低秩是什么？"
   ]
  },
  {
   "cell_type": "markdown",
   "id": "b25035be",
   "metadata": {},
   "source": [
    "<div align=center><img src=\"https://typora-photo1220.oss-cn-beijing.aliyuncs.com/DataAnalysis/muyan/image-20241117154303169.png\" width=100%></div>\n"
   ]
  },
  {
   "cell_type": "markdown",
   "id": "405061a6",
   "metadata": {},
   "source": [
    "$$\n",
    "\\begin{bmatrix}\n",
    "2*3 & 2*2 & 10 \\\\\n",
    "1*3 & 3*2 & 9 \\\\\n",
    "3*3 & 1*2 & 11\n",
    "\\end{bmatrix}\n",
    "\\quad\n",
    "\\begin{bmatrix}\n",
    "2*3 & 1*2 & 8 \\\\\n",
    "1*3 & 1*2 & 5 \\\\\n",
    "\\end{bmatrix}\n",
    "\\quad\n",
    "\\begin{bmatrix}\n",
    "1*3 & 1*2 & 5 \\\\\n",
    "\\end{bmatrix}\n",
    "$$\n",
    "\n"
   ]
  },
  {
   "cell_type": "markdown",
   "id": "6990e2c1",
   "metadata": {},
   "source": [
    "一个矩阵的秩是指，矩阵中线性独立行或列的最大数目<br>\n",
    "第一个矩阵，A、B、C分别各自表示花了多少钱，谁也不能替代谁<br>\n",
    "第二个矩阵，C买的东西花的钱是A和B的和，那么C就可以被替代，就不属于秩的概念<br>\n",
    "第三个矩阵，C买的东西花的钱是A*3的倍数，那么C就不用表示，B买的东西花的钱是A*2的倍数，那么B也就不用表示<br>\n",
    "对应的秩(Rank) 分别为 3 、2 、1 ，我们是不是可以理解同秩越低占用空间越小<br>\n",
    "忽略严谨的数学概念定义就可以理解一个矩阵的秩越大，信息含量就越大，对应占用空间也就越大。也就是为什么要用低秩！<br>"
   ]
  },
  {
   "cell_type": "markdown",
   "id": "8746486b",
   "metadata": {},
   "source": [
    "具体体现：\n",
    "```python\n",
    "    # 假设原始权重矩阵 W ∈ R^{d×k}\n",
    "    # LoRA将权重更新分解为:\n",
    "    ΔW = BA   # 其中B ∈ R^{d×r}, A ∈ R^{r×k}, r << min(d,k)\n",
    "```\n",
    "- r 是LoRA的秩(rank),通常远小于原始维度\n",
    "- r 实际上反映了任务适配所需的本征维度\n",
    "- 较小的r就足够表达任务所需的权重更新,说明更新确实存在于低维子空间"
   ]
  },
  {
   "cell_type": "markdown",
   "id": "53b780d4",
   "metadata": {},
   "source": [
    "矩阵是什么呢？怎么表示？<br>\n",
    "小明想去三个地方距离分别是10、20、30km<br>\n",
    "他可以步行、自行车、骑摩托去 分别花费了多少时间。\n"
   ]
  },
  {
   "cell_type": "markdown",
   "id": "c3c2a568",
   "metadata": {},
   "source": [
    "<div align=center><img src=\"https://typora-photo1220.oss-cn-beijing.aliyuncs.com/DataAnalysis/muyan/image-20241117161939882.png\" width=50%></div>\n"
   ]
  },
  {
   "cell_type": "markdown",
   "id": "d491b407",
   "metadata": {},
   "source": [
    "$$\n",
    "\\begin{bmatrix}\n",
    "@ \\\\\n",
    "@ \\\\\n",
    "@ \\\\\n",
    "\\end{bmatrix}\n",
    "与\n",
    "\\begin{bmatrix}\n",
    "@ & @ & @ \\\\\n",
    "\\end{bmatrix}\n",
    "能够表达\n",
    "\\begin{bmatrix}\n",
    "@ & @ & @ \\\\\n",
    "@ & @ & @ \\\\\n",
    "@ & @ & @\n",
    "\\end{bmatrix}\n",
    "矩阵的数量\n",
    "$$\n"
   ]
  },
  {
   "cell_type": "markdown",
   "id": "480c3894",
   "metadata": {},
   "source": [
    "```json\n",
    "    @ 符号仅作为数字占位符使用，不做实际意义，仅用来表达两组数据可以表达一个n*n的矩阵\n",
    "```"
   ]
  },
  {
   "cell_type": "markdown",
   "id": "3ddd8cb0",
   "metadata": {},
   "source": [
    "相比于一开始矩阵9个参数当前替换后的两个小矩阵参数就是3+3=6<br>\n",
    "```json\n",
    "    对比之前就是9-6 少了3个参数量的位置与空间。\n",
    "    如果是一个100w的矩阵的规模，就可以拆成1000*1000的两个矩阵，假设秩=8 那么参数量就是1000*8+1000*8=16000\n",
    "    这个参数量占原有100w惨数量的 16000/1000000=1.6%\n",
    "    对于动辄10亿的参数节约的空间就很大了\n",
    "```"
   ]
  },
  {
   "cell_type": "markdown",
   "id": "ef643ff8",
   "metadata": {},
   "source": [
    " > 过参数化模型（Over-parametrized models）是指参数数量远超训练数据样本数量的模型。换句话说，模型中可调参数的数量大于用于训练的样本数量。如GPT系列模型和transformer模型均为此类模型。采用这种策略可以带来性能上的大幅提升。\n",
    "\n",
    "&emsp;&emsp;同样的，如此大的参数量，一定是有冗余的，也就是说：如此多的参数对于很多下游任务，不一定都是有用的。垂直领域的知识所需要的参数一定远小于全量参数，对这样的任务，可能仅仅一部分重要的参数就可以做的足够好。实际上存在于一个较低的内在维度上。   \n",
    " - 假设模型适应过程中权重的变化也具有较低的“内在秩”，基于此这导致了低秩适应（LoRA）方法的灵感。LoRA允许我们通过优化适应过程中密集层变化的秩分解矩阵来间接训练神经网络中的一些密集层，同时保持预先训练的权值冻结，以实现微调效果并节省了计算资源。\n"
   ]
  },
  {
   "cell_type": "markdown",
   "id": "7b5b84ea",
   "metadata": {},
   "source": [
    "```python\n",
    "# 假设一个客服机器人场景\n",
    "\n",
    "# 原始模型（过参数化）\n",
    "- 通用语言理解能力\n",
    "- 基础对话能力\n",
    "- 大量冗余参数\n",
    "\n",
    "# 特定任务适配（如手机客服）\n",
    "- 只需要学习：\n",
    "  - 手机相关专业词汇\n",
    "  - 特定问答模式\n",
    "  - 服务流程\n",
    "  ```"
   ]
  },
  {
   "cell_type": "markdown",
   "id": "8cd457f4",
   "metadata": {},
   "source": [
    "&emsp;&emsp;通俗来讲LoRA的策略是：通过使用较小规模的矩阵来近似模拟大模型的原始矩阵。实现的方式是基于低秩分解的数学原理，通过较少的参数更新实现对大模型复杂功能的有效捕捉和适配，在减少计算资源消耗和提升微调效率的同时，保持或甚至提升模型对特定任务的适应性和性能。"
   ]
  },
  {
   "cell_type": "markdown",
   "id": "9a9e58ef",
   "metadata": {},
   "source": [
    "$h = W_0x + \\Delta Wx = W_0x + ABx$<br>\n",
    "如果我是 $ d $ * $ d $的矩阵 就是 $W_0x=$ d  * $d $ <br>\n",
    "$\\Delta Wx=ABx$ <br>\n",
    "$A= $ d * $ r $ <br>\n",
    "$B= $ r * $ d $ <br>\n",
    "$h = W_0x + \\Delta Wx = W_0x + ABx =W_0x +  $ d * $ r  *  $ r * $ d  $ <br>\n",
    "&emsp;&emsp;我们可以做一下简单计算来直观感受Lora方法节省的内存：设ΔW有20，000行、30，000列，则它有6亿个参数。我们选择超参数r为8，那么实际所需的参数量为20，000x8 + 8x30，000 = 400，000\n",
    "，这是全参数量ΔW的1/1500.由此可见LORA的优化效果是非常可观的。这也让单卡进行微调训练成为可能。"
   ]
  },
  {
   "cell_type": "markdown",
   "id": "3db5ea5b",
   "metadata": {},
   "source": [
    "## 2.2 Lora怎么配置"
   ]
  },
  {
   "cell_type": "markdown",
   "id": "344e6bb0",
   "metadata": {},
   "source": [
    "<div align=center><img src=\"https://typora-photo1220.oss-cn-beijing.aliyuncs.com/DataAnalysis/muyan/image-20241117171209788.png\" width=100%></div>\n"
   ]
  },
  {
   "cell_type": "markdown",
   "id": "400e33db",
   "metadata": {},
   "source": [
    "初始化时候：<br>\n",
    "A 的元素除服从正态分布 N(0, 1), 例如:\n",
    "$$\n",
    "A=\n",
    "\\begin{pmatrix}\n",
    "0.5 & -0.2 & 0.1 & 0.3 & \\cdots & 0.7 \\\\\n",
    "-0.4 & 0.3 & -0.2 & 0.5 & \\cdots & -0.6 \\\\\n",
    "0.6 & 0.4 & -0.3 & -0.1 & \\cdots & 0.2 \\\\\n",
    "-0.5 & 0.4 & -0.3 & -0.1 & \\cdots & 0.5\n",
    "\\end{pmatrix}\n",
    "$$\n",
    "B 的形式如下所示:\n",
    "$$\n",
    "B =\n",
    "\\begin{pmatrix}\n",
    "0 & 0 & 0 & 0 \\\\\n",
    "0 & 0 & 0 & 0 \\\\\n",
    "0 & 0 & 0 & 0 \\\\\n",
    "\\vdots & \\vdots & \\vdots & \\vdots \\\\\n",
    "0 & 0 & 0 & 0\n",
    "\\end{pmatrix}\n",
    "$$\n",
    "\n",
    "训练<br>\n",
    "在训练过程中，仅更新A和B的值。\n",
    "随着训练的进⾏，B的值逐渐变得⾮零."
   ]
  },
  {
   "cell_type": "markdown",
   "id": "9798978a",
   "metadata": {},
   "source": [
    "1. 初始状态：\n",
    "- 矩阵B被初始化为0\n",
    "- 矩阵A被随机初始化\n",
    "- 此时权重更新ΔW (即B×A) 也为0\n",
    "\n",
    "2. 训练过程中B的变化原理：\n",
    "- 当模型接收到输入时，由于B初始为0，最初的权重更新没有效果\n",
    "- 但是通过反向传播，模型会计算损失对B的梯度\n",
    "- 这个梯度告诉我们如何调整B的值来减小损失\n",
    "- 通过梯度下降，B的值会逐步更新，偏离0\n",
    "- 随着训练进行，B会逐渐收敛到有助于完成任务的值"
   ]
  },
  {
   "cell_type": "markdown",
   "id": "84939306",
   "metadata": {},
   "source": [
    "3. 为什么B会变得非零：\n",
    "- 如果B保持为0，模型就无法学习任何任务特定的适配\n",
    "- 损失函数会推动B向着能够减小任务损失的方向变化\n",
    "- 这种变化是通过梯度下降自然发生的\n",
    "\n",
    "4. 影响B变化的因素：\n",
    "- 学习率：决定每次更新的步长\n",
    "- 任务性质：不同任务需要不同程度的适配\n",
    "- 优化器选择：不同优化器会影响B的收敛路径\n",
    "- 初始化方式：A的初始值会影响B的学习"
   ]
  },
  {
   "cell_type": "markdown",
   "id": "10538bb2",
   "metadata": {},
   "source": [
    "5. B的收敛过程：\n",
    "- 训练初期：B快速从0变化\n",
    "- 训练中期：变化速度放缓，开始形成有意义的特征\n",
    "- 训练后期：B的值趋于稳定"
   ]
  },
  {
   "cell_type": "markdown",
   "id": "26cf133c",
   "metadata": {},
   "source": [
    "问: 为什么初始化参数使用正态分布？<br>\n",
    "答：<br>\n",
    "&emsp;&emsp;确保初始梯度的有效传播：正态分布初始化有助于在训练初期确保梯度有效传播，避免梯度消失或爆炸的问题。 <br>\n",
    "&emsp;&emsp;提供足够的随机性：正态分布的随机初始化为模型提供了足够的随机性，从而能够探索更广泛的参数空间，增加了模型找到最优解的可能性。 <br>\n",
    "&emsp;&emsp;平衡训练初期的影响：正态初始化的值一般较小，结合 B 初始化为零矩阵，可以在训练初期确保新增的偏置矩阵对原始预训练权重的影响为零，从而避免破坏预训练模型的初始性能。<br>\n"
   ]
  },
  {
   "cell_type": "markdown",
   "id": "231c898a",
   "metadata": {},
   "source": [
    "## 2.3 Lora作用位置"
   ]
  },
  {
   "cell_type": "markdown",
   "id": "4857a5fd",
   "metadata": {},
   "source": [
    "1. 基本概念：\n",
    "- Q (Query): 查询向量，表示\"我想要查什么\"\n",
    "- K (Key): 键向量，表示\"我有什么信息\"\n",
    "- V (Value): 值向量，表示\"实际的信息内容\"\n",
    "- O (Output): 输出投影，将注意力的输出映射到所需的维度"
   ]
  },
  {
   "cell_type": "markdown",
   "id": "29bc4bd5",
   "metadata": {},
   "source": [
    "\n",
    "2. 在Transformer中的位置：\n",
    "```\n",
    "输入序列 \n",
    "   ↓\n",
    "Linear投影层\n",
    "   ↓\n",
    "Q、K、V矩阵变换\n",
    "   ↓\n",
    "注意力计算\n",
    "   ↓\n",
    "O矩阵变换（输出投影）\n",
    "   ↓\n",
    "输出结果\n",
    "```\n"
   ]
  },
  {
   "cell_type": "markdown",
   "id": "c85993dd",
   "metadata": {},
   "source": [
    "3. 具体作用：\n",
    "- Q矩阵：将输入转换为查询形式\n",
    "- K矩阵：将输入转换为可被查询的键\n",
    "- V矩阵：存储实际的信息内容\n",
    "- O矩阵：将注意力机制的输出转换为所需的表示\n",
    "\n"
   ]
  },
  {
   "cell_type": "markdown",
   "id": "86259c9a",
   "metadata": {},
   "source": [
    "4. 在LoRA中的应用：\n",
    "- LoRA主要应用在这些权重矩阵的更新上\n",
    "- 对每个权重矩阵(Wq,Wk,Wv,Wo)都可以应用LoRA\n",
    "```python\n",
    "# 以Q为例\n",
    "原始: Q = input × Wq\n",
    "LoRA: Q = input × (Wq + BA)  # B和A是低秩矩阵\n",
    "```\n"
   ]
  },
  {
   "cell_type": "markdown",
   "id": "a7096860",
   "metadata": {},
   "source": [
    "\n",
    "5. LoRA的选择性应用：\n",
    "- 可以只对部分矩阵应用LoRA\n",
    "- 常见组合：\n",
    "  - 仅Q和V\n",
    "  - Q、K、V全部\n",
    "  - Q、K、V、O全部\n"
   ]
  },
  {
   "cell_type": "markdown",
   "id": "d53b2f6b",
   "metadata": {},
   "source": [
    "LORA 的作用在于$\\Delta W$<br>\n",
    "$ W_0 Q + \\Delta W q$<br>\n",
    "$ W_0 K + \\Delta W k$<br>\n",
    "$ W_0 V + \\Delta W v$<br>\n",
    "$ W_0 O + \\Delta W o$<br>"
   ]
  },
  {
   "cell_type": "markdown",
   "id": "181bcf66",
   "metadata": {},
   "source": [
    "\n",
    "6. 实际影响：\n",
    "- Q的更新影响查询方式\n",
    "- K的更新影响键的表示\n",
    "- V的更新影响值的内容\n",
    "- O的更新影响最终输出\n",
    "\n",
    "\n"
   ]
  },
  {
   "cell_type": "markdown",
   "id": "5f145e0d",
   "metadata": {},
   "source": [
    "<div align=center><img src=\"https://typora-photo1220.oss-cn-beijing.aliyuncs.com/DataAnalysis/muyan/image-20241117181759857.png\" width=90%></div>\n"
   ]
  },
  {
   "cell_type": "markdown",
   "id": "d3ee5fa5",
   "metadata": {},
   "source": [
    "GPT3使用LORA在不同类型注意力得到，分别在两份数据集上得到的效果，可以看到不限制参数预算情况下同时作用在$ W q、W k、W v、W o$ 效果最好。但是有限预算参数状况下$W q、W k $ 效果最好。"
   ]
  },
  {
   "cell_type": "markdown",
   "id": "56da9334",
   "metadata": {},
   "source": [
    "<div align=center><img src=\"https://typora-photo1220.oss-cn-beijing.aliyuncs.com/DataAnalysis/muyan/image-20241117183212261.png\" width=100%></div>\n"
   ]
  },
  {
   "cell_type": "markdown",
   "id": "7d734430",
   "metadata": {},
   "source": [
    "相同参数下训练$W q、W k $ 比单独训练$W q$效果要好，如果$W q$ 的效果想要更好就需要更大的参数量来微调。<br>\n",
    "同时可以看到$r$(Ranker)并非越大越好。建议值8-64,通常默认为8。"
   ]
  },
  {
   "cell_type": "markdown",
   "id": "f17a4b5a",
   "metadata": {},
   "source": [
    "全参微调资源占用<br>\n",
    "1. 模型权重参数<br>\n",
    "参数数量：1B（10^9）每个参数占用4字节<br>\n",
    "总内存：10^9×4 字节 = 4GB<br>\n",
    "2. 优化器状态向量<br>\n",
    "AdamW优化器需要存储两个状态向量（一阶矩估计m和二阶矩估计v）每个状态向量占用4字节<br>\n",
    "总内存：10^9×4字节×2 = 8GB<br>\n",
    "3. 梯度<br>\n",
    "每个参数对应一个梯度每个梯度占用4字节<br>\n",
    "总内存：10^9 ×4 字节 = 4GB<br>\n",
    "总占用：4GB+8GB+4GB=16GB,可以粗略计算为4*NGB<br>"
   ]
  },
  {
   "cell_type": "markdown",
   "id": "037fb118",
   "metadata": {},
   "source": [
    "LoRA参数: 假设LoRA的rank设置为8，LoRA通过引入两个低秩矩阵（A和B）来进行微调。虽然具体的参数量依赖于模型的架构，但通常LoRA的可训练参数量远低于全参数微调。例如，LoRA可能只需要大约0.1B到0.2B的参数。\n",
    "\n",
    "LORA资源占用<br>\n",
    "假设LoRA的rank设置为8，LoRA通过引入两个低秩矩阵（A和B）来进行微调。虽然具体的参数量依赖于模型的架构，但通常LoRA的可训练参数量远低于全参数微调。例如，LoRA可能只需要大约0.1B到0.2B的参数。\n",
    "1. 模型权重参数<br>\n",
    "参数数量：1B（10^9）每个参数占用4字节<br>\n",
    "总内存：10^9×4 字节 = 4GB<br>\n",
    "2. 优化器状态向量<br>\n",
    "AdamW优化器需要存储两个状态向量（一阶矩估计m和二阶矩估计v）每个状态向量占用4字节<br>\n",
    "总内存：16M×4 bytes×2=128 MB<br>\n",
    "3. 梯度<br>\n",
    "每个参数对应一个梯度每个梯度占用4字节<br>\n",
    "总内存：16M×4 bytes×1=64MB<br>\n",
    "总占用：4GB+64MB+128 MB=4.2GB<br>\n",
    "\n",
    "这个也仅限于参数估量计算，不能完全作为生产使用，生产环境有很多影响资源大小的因素如批处理大小、优化器状态等。"
   ]
  },
  {
   "cell_type": "markdown",
   "id": "c788699d",
   "metadata": {},
   "source": [
    "# 3.Lora 代码实现"
   ]
  },
  {
   "cell_type": "code",
   "execution_count": null,
   "id": "8fdc77fd",
   "metadata": {},
   "outputs": [
    {
     "name": "stdout",
     "output_type": "stream",
     "text": [
      "Iteration 0, Loss: 1.099842\n",
      "Iteration 100, Loss: 0.589540\n",
      "Iteration 200, Loss: 0.439351\n",
      "Iteration 300, Loss: 0.435789\n",
      "Iteration 400, Loss: 0.435765\n",
      "Iteration 500, Loss: 0.435765\n",
      "Iteration 600, Loss: 0.435765\n",
      "Iteration 700, Loss: 0.435765\n",
      "Iteration 800, Loss: 0.435765\n",
      "Iteration 900, Loss: 0.435765\n",
      "\n",
      "原始参数量: 100\n",
      "LoRA参数量: 40\n",
      "参数减少: 60.00%\n"
     ]
    },
    {
     "data": {
      "image/png": "[encoded data removed]",
      "text/plain": [
       "<Figure size 1500x500 with 5 Axes>"
      ]
     },
     "metadata": {},
     "output_type": "display_data"
    },
    {
     "name": "stdout",
     "output_type": "stream",
     "text": [
      "\n",
      "原始权重矩阵的一部分(5x5):\n",
      "[[ 1.9020243  -0.98042786  0.47197205  0.00751896  0.45111972]\n",
      " [-0.6989953  -0.7539018  -1.6730322   0.895078    0.72842824]\n",
      " [ 1.1006526   0.32565323 -0.13668585  0.4227683   0.05465927]\n",
      " [-0.88375205  0.60963565 -1.5299315   0.43329597 -1.7178423 ]\n",
      " [ 1.3465533  -0.571326    0.07685361 -1.1320914  -1.1538632 ]]\n",
      "\n",
      "LoRA近似后的矩阵的一部分(5x5):\n",
      "[[ 1.4178535  -0.10202433  0.97077304 -0.0949342   0.46077988]\n",
      " [-1.1337396   0.3354595  -0.7775882   0.9027459   0.12311662]\n",
      " [ 1.002753    0.09579059  0.6856753   0.4798254   0.6510572 ]\n",
      " [-0.72393465  0.1751302  -0.49631235  0.4491832   0.00296068]\n",
      " [ 0.8751194  -0.5518392   0.6017585  -1.6507436  -0.66215307]]\n",
      "\n",
      "误差矩阵的一部分(5x5):\n",
      "[[ 0.4841708  -0.87840354 -0.498801    0.10245315 -0.00966015]\n",
      " [ 0.4347443  -1.0893613  -0.895444   -0.0076679   0.60531163]\n",
      " [ 0.09789956  0.22986263 -0.8223612  -0.05705711 -0.59639794]\n",
      " [-0.1598174   0.43450546 -1.0336192  -0.01588723 -1.720803  ]\n",
      " [ 0.47143394 -0.01948684 -0.52490485  0.5186522  -0.49171013]]\n",
      "\n",
      "统计指标:\n",
      "最大误差: 1.733717\n",
      "平均误差: 0.537437\n",
      "误差标准差: 0.383309\n",
      "矩阵相似度(相关系数): 0.776545\n"
     ]
    }
   ],
   "source": [
    "import numpy as np\n",
    "import torch\n",
    "import matplotlib.pyplot as plt\n",
    "\n",
    "# 1. 创建一个模拟的原始权重矩阵\n",
    "def create_original_matrix(d=512, k=512):\n",
    "    \"\"\"\n",
    "    创建一个模拟的原始权重矩阵\n",
    "    d: 输入维度\n",
    "    k: 输出维度\n",
    "    \"\"\"\n",
    "    original_weight = torch.randn(d, k)  # 随机初始化一个权重矩阵\n",
    "    return original_weight\n",
    "\n",
    "# 2. 实现LoRA分解\n",
    "class LoRALayer:\n",
    "    def __init__(self, d, k, r):\n",
    "        \"\"\"\n",
    "        d: 输入维度\n",
    "        k: 输出维度\n",
    "        r: LoRA秩 (rank)\n",
    "        \"\"\"\n",
    "        self.d = d\n",
    "        self.k = k\n",
    "        self.r = r\n",
    "        \n",
    "        # 初始化A和B矩阵\n",
    "        self.lora_A = torch.randn(d, r) / np.sqrt(r)  # 缩放初始化\n",
    "        self.lora_B = torch.zeros(r, k)  # B初始化为0\n",
    "        \n",
    "        # 使其需要梯度\n",
    "        self.lora_A.requires_grad_(True)\n",
    "        self.lora_B.requires_grad_(True)\n",
    "\n",
    "    def forward(self, x):\n",
    "        \"\"\"前向传播\"\"\"\n",
    "        return (self.lora_A @ self.lora_B) @ x\n",
    "\n",
    "    def get_weight_update(self):\n",
    "        \"\"\"获取权重更新矩阵\"\"\"\n",
    "        return self.lora_A @ self.lora_B\n",
    "    \n",
    "# 3. 演示训练过程\n",
    "def train_lora(original_weight, lora_layer, num_iterations=1000):\n",
    "    \"\"\"\n",
    "    训练LoRA来近似原始权重矩阵\n",
    "    Adam是一种优化器，用于更新模型参数\n",
    "    [lora_layer.lora_A, lora_layer.lora_B]指定需要优化的参数\n",
    "    lr=0.01是学习率，控制每次更新的步长\n",
    "    优化器的作用是根据梯度更新A和B矩阵，使得BA的乘积逐渐接近原始权重矩阵\n",
    "    \"\"\"\n",
    "    optimizer = torch.optim.Adam([lora_layer.lora_A, lora_layer.lora_B], lr=0.01)\n",
    "    losses = []\n",
    "\n",
    "    for i in range(num_iterations):\n",
    "        # 计算当前LoRA权重\n",
    "        current_weight = lora_layer.get_weight_update()\n",
    "        \n",
    "        # 计算与原始权重的差异\n",
    "        # 计算当前LoRA权重与原始权重的差异\n",
    "        # 使用均方误差损失函数（MSE）来衡量差异\n",
    "        # 损失函数越小，表示当前LoRA权重越接近原始权重\n",
    "        loss = torch.nn.functional.mse_loss(current_weight, original_weight)\n",
    "        \n",
    "        # 反向传播\n",
    "        optimizer.zero_grad()  # 清除之前的梯度\n",
    "        loss.backward()       # 计算梯度\n",
    "        optimizer.step()      # 根据梯度更新参数\n",
    "        \n",
    "        if i % 100 == 0:\n",
    "            losses.append(loss.item())\n",
    "            print(f\"Iteration {i}, Loss: {loss.item():.6f}\")\n",
    "    \n",
    "    return losses\n",
    "\n",
    "\n",
    "# 4. 可视化结果\n",
    "# 修改可视化函数\n",
    "def visualize_results(original_weight, lora_approximation, losses):\n",
    "    plt.figure(figsize=(15, 5))\n",
    "    \n",
    "    # 绘制损失曲线\n",
    "    plt.subplot(131)\n",
    "    plt.plot(losses)\n",
    "    plt.title('Training Loss')\n",
    "    plt.xlabel('Iterations (x100)')\n",
    "    plt.ylabel('MSE Loss')\n",
    "    \n",
    "    # 绘制原始权重矩阵\n",
    "    plt.subplot(132)\n",
    "    plt.imshow(original_weight.detach().numpy(), cmap='viridis')\n",
    "    plt.title('Original Weight Matrix')\n",
    "    plt.colorbar()\n",
    "    \n",
    "    # 绘制LoRA近似后的矩阵\n",
    "    plt.subplot(133)\n",
    "    plt.imshow(lora_approximation.detach().numpy(), cmap='viridis')\n",
    "    plt.title('LoRA Approximation')\n",
    "    plt.colorbar()\n",
    "    \n",
    "    plt.tight_layout()\n",
    "    plt.show()\n",
    "    \n",
    "    # 打印矩阵数值\n",
    "    print(\"\\n原始权重矩阵的一部分(5x5):\")\n",
    "    print(original_weight.detach().numpy()[:5, :5])\n",
    "    \n",
    "    print(\"\\nLoRA近似后的矩阵的一部分(5x5):\")\n",
    "    print(lora_approximation.detach().numpy()[:5, :5])\n",
    "    \n",
    "    # 计算误差矩阵\n",
    "    error_matrix = original_weight.detach().numpy() - lora_approximation.detach().numpy()\n",
    "    print(\"\\n误差矩阵的一部分(5x5):\")\n",
    "    print(error_matrix[:5, :5])\n",
    "    \n",
    "    # 计算一些统计指标\n",
    "    print(\"\\n统计指标:\")\n",
    "    print(f\"最大误差: {np.abs(error_matrix).max():.6f}\")\n",
    "    print(f\"平均误差: {np.abs(error_matrix).mean():.6f}\")\n",
    "    print(f\"误差标准差: {np.abs(error_matrix).std():.6f}\")\n",
    "    \n",
    "    # 计算相似度\n",
    "    from scipy.stats import pearsonr\n",
    "    orig_flat = original_weight.detach().numpy().flatten()\n",
    "    lora_flat = lora_approximation.detach().numpy().flatten()\n",
    "    correlation, _ = pearsonr(orig_flat, lora_flat)\n",
    "    print(f\"矩阵相似度(相关系数): {correlation:.6f}\")\n",
    "    \n",
    "# 5. 主函数\n",
    "def main():\n",
    "    # 设置维度\n",
    "    d, k = 10, 10  # 使用较小的维度便于演示\n",
    "    r = 2  # LoRA秩\n",
    "    \n",
    "    # 创建原始权重\n",
    "    original_weight = create_original_matrix(d, k)\n",
    "    \n",
    "    # 创建LoRA层\n",
    "    lora_layer = LoRALayer(d, k, r)\n",
    "    \n",
    "    # 训练LoRA\n",
    "    losses = train_lora(original_weight, lora_layer)\n",
    "    \n",
    "    # 获取最终的LoRA近似\n",
    "    final_approximation = lora_layer.get_weight_update()\n",
    "    \n",
    "    # 计算参数量的节省\n",
    "    original_params = d * k\n",
    "    lora_params = r * (d + k)\n",
    "    reduction = (1 - lora_params/original_params) * 100\n",
    "    \n",
    "    print(f\"\\n原始参数量: {original_params}\")\n",
    "    print(f\"LoRA参数量: {lora_params}\")\n",
    "    print(f\"参数减少: {reduction:.2f}%\")\n",
    "    \n",
    "    # 可视化结果\n",
    "    visualize_results(original_weight, final_approximation, losses)\n",
    "\n",
    "\n",
    "if __name__ == \"__main__\":\n",
    "    main()"
   ]
  },
  {
   "cell_type": "markdown",
   "id": "d74f7ef8",
   "metadata": {},
   "source": [
    "<div align=center><img src=\"https://typora-photo1220.oss-cn-beijing.aliyuncs.com/DataAnalysis/muyan/image-20250311162917012.png\" width=100%></div>"
   ]
  },
  {
   "cell_type": "markdown",
   "id": "07baa042",
   "metadata": {},
   "source": []
  }
 ],
 "metadata": {
  "kernelspec": {
   "display_name": "base",
   "language": "python",
   "name": "python3"
  },
  "language_info": {
   "codemirror_mode": {
    "name": "ipython",
    "version": 3
   },
   "file_extension": ".py",
   "mimetype": "text/x-python",
   "name": "python",
   "nbconvert_exporter": "python",
   "pygments_lexer": "ipython3",
   "version": "3.11.5"
  }
 },
 "nbformat": 4,
 "nbformat_minor": 5
}
